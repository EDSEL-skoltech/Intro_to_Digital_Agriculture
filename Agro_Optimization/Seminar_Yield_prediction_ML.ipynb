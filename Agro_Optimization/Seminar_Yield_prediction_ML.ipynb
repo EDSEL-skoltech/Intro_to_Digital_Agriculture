{
 "cells": [
  {
   "cell_type": "markdown",
   "metadata": {},
   "source": [
    "# Predicting Crops Yield  : A Machine Learning  Approach \n",
    " \n",
    "\n",
    "Cropps include :\n",
    "\n",
    "- Cassava                \n",
    "- Maize                  \n",
    "- Plantains and others   \n",
    "- Potatoes                \n",
    "- Rice, paddy             \n",
    "- Sorghum                \n",
    "- Soybeans               \n",
    "- Sweet potatoes       \n",
    "- Wheat                  \n",
    "- Yams             \n",
    "\n",
    "\n",
    "In the project, machine learning methods are applied to predict crop yield using publicly available data from FAO and World Data Bank. \n",
    "\n",
    "Repository: https://github.com/hajir-almahdi/Machine-Learning-Capstone-Project"
   ]
  },
  {
   "cell_type": "code",
   "execution_count": null,
   "metadata": {},
   "outputs": [],
   "source": [
    "## Google Colab\n",
    "# !git clone https://github.com/EDSEL-skoltech/Intro_to_Digital_Agriculture.git\n",
    "# %cd ./Intro_to_Digital_Agriculture/Agro_Optimization\n",
    "# !pip install nevergrad\n",
    "#!pip install git+https://github.com/mishagrol/pcse"
   ]
  },
  {
   "cell_type": "markdown",
   "metadata": {},
   "source": [
    "# Part One: Gathering & Cleaning Data\n",
    "\n",
    "### Crops Yield Data:\n",
    "\n",
    "\n",
    " \n",
    "After importing required libraries, crops yield of ten most consumed crops around the world was downloaded from FAO webiste.The collected data include country, item, year starting from 1961 to 2016 and yield value. "
   ]
  },
  {
   "cell_type": "code",
   "execution_count": 2,
   "metadata": {},
   "outputs": [],
   "source": [
    "import numpy as np \n",
    "import pandas as pd "
   ]
  },
  {
   "cell_type": "markdown",
   "metadata": {},
   "source": [
    "Looking at the columns in the csv, we can rename **Value** to **hg/ha_yield** to make it easier to recognise that this is our crops yields production value. In addition to removal of unnecessary coloumns like Area Code, Domain, Item Code, etc."
   ]
  },
  {
   "cell_type": "code",
   "execution_count": 3,
   "metadata": {},
   "outputs": [],
   "source": [
    "path = './data/data_FAO/'"
   ]
  },
  {
   "cell_type": "code",
   "execution_count": 5,
   "metadata": {
    "scrolled": true
   },
   "outputs": [
    {
     "data": {
      "text/plain": [
       "(56717, 4)"
      ]
     },
     "execution_count": 5,
     "metadata": {},
     "output_type": "execute_result"
    }
   ],
   "source": [
    "df_yield = pd.read_csv(path+'yield.csv')\n",
    "df_yield = df_yield.rename(index=str, columns={\"Value\": \"hg/ha_yield\"})\n",
    "df_yield = df_yield.drop(['Year Code','Element Code','Element','Year Code','Area Code','Domain Code','Domain','Unit','Item Code'], axis=1)\n",
    "df_yield.shape"
   ]
  },
  {
   "cell_type": "markdown",
   "metadata": {},
   "source": [
    "From cell above, we know the dataframe starts at 1961 and ends at 2016, this is all the avialable data up to date from FAO. "
   ]
  },
  {
   "cell_type": "markdown",
   "metadata": {},
   "source": [
    "All of the columns type are in right type. "
   ]
  },
  {
   "cell_type": "markdown",
   "metadata": {},
   "source": [
    "### Climate Data : Rainfall \n",
    "The climatic factors include rainfall and temperature. They are abiotic components, including pesticides and soil, of the environmental factors that influence plant growth and development.\n",
    "\n",
    "\n",
    "Rainfall has a dramatic effect on agriculture. For this project rain fall per year information was gathered from World Data Bank. "
   ]
  },
  {
   "cell_type": "code",
   "execution_count": 6,
   "metadata": {
    "scrolled": true
   },
   "outputs": [],
   "source": [
    "df_rain = pd.read_csv(path+'rainfall.csv')\n",
    "df_rain = df_rain.rename(index=str, columns={\" Area\": 'Area'})\n",
    "df_rain['average_rain_fall_mm_per_year'] = pd.to_numeric(df_rain['average_rain_fall_mm_per_year'], errors='coerce')\n"
   ]
  },
  {
   "cell_type": "markdown",
   "metadata": {},
   "source": [
    "Making sure that names of columns are unified across all dataframes is important for merging after cleaning afterwards. "
   ]
  },
  {
   "cell_type": "markdown",
   "metadata": {},
   "source": [
    "We can see from cell above that average_rain_fall_mm_per_year type is an object, we need to turn it to a float value. "
   ]
  },
  {
   "cell_type": "markdown",
   "metadata": {},
   "source": [
    "Next, droping any empty rows from dataset and merge yield dataframe with rain dataframe by year and area columns"
   ]
  },
  {
   "cell_type": "code",
   "execution_count": 7,
   "metadata": {},
   "outputs": [],
   "source": [
    "df_rain = df_rain.dropna()"
   ]
  },
  {
   "cell_type": "markdown",
   "metadata": {},
   "source": [
    "The rainfall dataframe begins at 1985 and ends at 2016. "
   ]
  },
  {
   "cell_type": "code",
   "execution_count": 8,
   "metadata": {},
   "outputs": [],
   "source": [
    "# merge yield dataframe with rain dataframe by year and area columns \n",
    "yield_df = pd.merge(df_yield, df_rain, on=['Year','Area'])"
   ]
  },
  {
   "cell_type": "code",
   "execution_count": 9,
   "metadata": {},
   "outputs": [
    {
     "data": {
      "text/html": [
       "<div>\n",
       "<style scoped>\n",
       "    .dataframe tbody tr th:only-of-type {\n",
       "        vertical-align: middle;\n",
       "    }\n",
       "\n",
       "    .dataframe tbody tr th {\n",
       "        vertical-align: top;\n",
       "    }\n",
       "\n",
       "    .dataframe thead th {\n",
       "        text-align: right;\n",
       "    }\n",
       "</style>\n",
       "<table border=\"1\" class=\"dataframe\">\n",
       "  <thead>\n",
       "    <tr style=\"text-align: right;\">\n",
       "      <th></th>\n",
       "      <th>Area</th>\n",
       "      <th>Year</th>\n",
       "      <th>average_rain_fall_mm_per_year</th>\n",
       "    </tr>\n",
       "  </thead>\n",
       "  <tbody>\n",
       "    <tr>\n",
       "      <th>0</th>\n",
       "      <td>Afghanistan</td>\n",
       "      <td>1985</td>\n",
       "      <td>327.0</td>\n",
       "    </tr>\n",
       "    <tr>\n",
       "      <th>1</th>\n",
       "      <td>Afghanistan</td>\n",
       "      <td>1986</td>\n",
       "      <td>327.0</td>\n",
       "    </tr>\n",
       "    <tr>\n",
       "      <th>2</th>\n",
       "      <td>Afghanistan</td>\n",
       "      <td>1987</td>\n",
       "      <td>327.0</td>\n",
       "    </tr>\n",
       "    <tr>\n",
       "      <th>3</th>\n",
       "      <td>Afghanistan</td>\n",
       "      <td>1989</td>\n",
       "      <td>327.0</td>\n",
       "    </tr>\n",
       "    <tr>\n",
       "      <th>4</th>\n",
       "      <td>Afghanistan</td>\n",
       "      <td>1990</td>\n",
       "      <td>327.0</td>\n",
       "    </tr>\n",
       "    <tr>\n",
       "      <th>...</th>\n",
       "      <td>...</td>\n",
       "      <td>...</td>\n",
       "      <td>...</td>\n",
       "    </tr>\n",
       "    <tr>\n",
       "      <th>6722</th>\n",
       "      <td>Zimbabwe</td>\n",
       "      <td>2013</td>\n",
       "      <td>657.0</td>\n",
       "    </tr>\n",
       "    <tr>\n",
       "      <th>6723</th>\n",
       "      <td>Zimbabwe</td>\n",
       "      <td>2014</td>\n",
       "      <td>657.0</td>\n",
       "    </tr>\n",
       "    <tr>\n",
       "      <th>6724</th>\n",
       "      <td>Zimbabwe</td>\n",
       "      <td>2015</td>\n",
       "      <td>657.0</td>\n",
       "    </tr>\n",
       "    <tr>\n",
       "      <th>6725</th>\n",
       "      <td>Zimbabwe</td>\n",
       "      <td>2016</td>\n",
       "      <td>657.0</td>\n",
       "    </tr>\n",
       "    <tr>\n",
       "      <th>6726</th>\n",
       "      <td>Zimbabwe</td>\n",
       "      <td>2017</td>\n",
       "      <td>657.0</td>\n",
       "    </tr>\n",
       "  </tbody>\n",
       "</table>\n",
       "<p>5947 rows × 3 columns</p>\n",
       "</div>"
      ],
      "text/plain": [
       "             Area  Year  average_rain_fall_mm_per_year\n",
       "0     Afghanistan  1985                          327.0\n",
       "1     Afghanistan  1986                          327.0\n",
       "2     Afghanistan  1987                          327.0\n",
       "3     Afghanistan  1989                          327.0\n",
       "4     Afghanistan  1990                          327.0\n",
       "...           ...   ...                            ...\n",
       "6722     Zimbabwe  2013                          657.0\n",
       "6723     Zimbabwe  2014                          657.0\n",
       "6724     Zimbabwe  2015                          657.0\n",
       "6725     Zimbabwe  2016                          657.0\n",
       "6726     Zimbabwe  2017                          657.0\n",
       "\n",
       "[5947 rows x 3 columns]"
      ]
     },
     "execution_count": 9,
     "metadata": {},
     "output_type": "execute_result"
    }
   ],
   "source": [
    "df_rain"
   ]
  },
  {
   "cell_type": "markdown",
   "metadata": {},
   "source": [
    "Now, we view the final shape of the dataframe and info of values:"
   ]
  },
  {
   "cell_type": "markdown",
   "metadata": {},
   "source": [
    "We can see that now the years start from the first yield dataframe the starting year was 1961, now it's 1985 because that's when the rainfall data begins. "
   ]
  },
  {
   "cell_type": "markdown",
   "metadata": {},
   "source": [
    "### Pesticides Data:\n",
    "Pesticides used for each item and country was also collected from FAO database.  "
   ]
  },
  {
   "cell_type": "code",
   "execution_count": 10,
   "metadata": {},
   "outputs": [],
   "source": [
    "df_pes = pd.read_csv(path+'pesticides.csv')\n"
   ]
  },
  {
   "cell_type": "code",
   "execution_count": 11,
   "metadata": {},
   "outputs": [],
   "source": [
    "df_pes = df_pes.rename(index=str, columns={\"Value\": \"pesticides_tonnes\"})\n",
    "df_pes = df_pes.drop(['Element','Domain','Unit','Item'], axis=1)"
   ]
  },
  {
   "cell_type": "code",
   "execution_count": 12,
   "metadata": {},
   "outputs": [
    {
     "data": {
      "text/plain": [
       "(18949, 6)"
      ]
     },
     "execution_count": 12,
     "metadata": {},
     "output_type": "execute_result"
    }
   ],
   "source": [
    "# merge Pesticides dataframe with yield dataframe \n",
    "yield_df = pd.merge(yield_df, df_pes, on=['Year','Area'])\n",
    "yield_df.shape"
   ]
  },
  {
   "cell_type": "markdown",
   "metadata": {},
   "source": [
    "### Average Temprature: \n",
    "\n",
    "Average Temprature for each country was colleced from World Bank Data. "
   ]
  },
  {
   "cell_type": "code",
   "execution_count": 15,
   "metadata": {},
   "outputs": [],
   "source": [
    "avg_temp = pd.read_csv(path+'temp.csv')"
   ]
  },
  {
   "cell_type": "markdown",
   "metadata": {},
   "source": [
    "So average temprature starts from 1743 and ends at 2013, with some empty rows that we have to drop."
   ]
  },
  {
   "cell_type": "code",
   "execution_count": 16,
   "metadata": {
    "scrolled": true
   },
   "outputs": [],
   "source": [
    "avg_temp = avg_temp.rename(index=str, columns={\"year\": \"Year\", \"country\":'Area'})\n"
   ]
  },
  {
   "cell_type": "code",
   "execution_count": 17,
   "metadata": {
    "scrolled": true
   },
   "outputs": [],
   "source": [
    "yield_df = pd.merge(yield_df,avg_temp, on=['Area','Year'])\n"
   ]
  },
  {
   "cell_type": "markdown",
   "metadata": {},
   "source": [
    "# Part Two: Data Exploration\n",
    "\n"
   ]
  },
  {
   "cell_type": "markdown",
   "metadata": {},
   "source": [
    "**yield_df** is the final obtained dataframe; "
   ]
  },
  {
   "cell_type": "code",
   "execution_count": 19,
   "metadata": {
    "scrolled": true
   },
   "outputs": [
    {
     "data": {
      "text/html": [
       "<div>\n",
       "<style scoped>\n",
       "    .dataframe tbody tr th:only-of-type {\n",
       "        vertical-align: middle;\n",
       "    }\n",
       "\n",
       "    .dataframe tbody tr th {\n",
       "        vertical-align: top;\n",
       "    }\n",
       "\n",
       "    .dataframe thead th {\n",
       "        text-align: right;\n",
       "    }\n",
       "</style>\n",
       "<table border=\"1\" class=\"dataframe\">\n",
       "  <thead>\n",
       "    <tr style=\"text-align: right;\">\n",
       "      <th></th>\n",
       "      <th>Area</th>\n",
       "      <th>Year</th>\n",
       "      <th>hg/ha_yield</th>\n",
       "      <th>average_rain_fall_mm_per_year</th>\n",
       "      <th>pesticides_tonnes</th>\n",
       "      <th>avg_temp</th>\n",
       "    </tr>\n",
       "    <tr>\n",
       "      <th>Item</th>\n",
       "      <th></th>\n",
       "      <th></th>\n",
       "      <th></th>\n",
       "      <th></th>\n",
       "      <th></th>\n",
       "      <th></th>\n",
       "    </tr>\n",
       "  </thead>\n",
       "  <tbody>\n",
       "    <tr>\n",
       "      <th>Cassava</th>\n",
       "      <td>2045</td>\n",
       "      <td>2045</td>\n",
       "      <td>2045</td>\n",
       "      <td>2045</td>\n",
       "      <td>2045</td>\n",
       "      <td>2045</td>\n",
       "    </tr>\n",
       "    <tr>\n",
       "      <th>Maize</th>\n",
       "      <td>4121</td>\n",
       "      <td>4121</td>\n",
       "      <td>4121</td>\n",
       "      <td>4121</td>\n",
       "      <td>4121</td>\n",
       "      <td>4121</td>\n",
       "    </tr>\n",
       "    <tr>\n",
       "      <th>Plantains and others</th>\n",
       "      <td>556</td>\n",
       "      <td>556</td>\n",
       "      <td>556</td>\n",
       "      <td>556</td>\n",
       "      <td>556</td>\n",
       "      <td>556</td>\n",
       "    </tr>\n",
       "    <tr>\n",
       "      <th>Potatoes</th>\n",
       "      <td>4276</td>\n",
       "      <td>4276</td>\n",
       "      <td>4276</td>\n",
       "      <td>4276</td>\n",
       "      <td>4276</td>\n",
       "      <td>4276</td>\n",
       "    </tr>\n",
       "    <tr>\n",
       "      <th>Rice, paddy</th>\n",
       "      <td>3388</td>\n",
       "      <td>3388</td>\n",
       "      <td>3388</td>\n",
       "      <td>3388</td>\n",
       "      <td>3388</td>\n",
       "      <td>3388</td>\n",
       "    </tr>\n",
       "    <tr>\n",
       "      <th>Sorghum</th>\n",
       "      <td>3039</td>\n",
       "      <td>3039</td>\n",
       "      <td>3039</td>\n",
       "      <td>3039</td>\n",
       "      <td>3039</td>\n",
       "      <td>3039</td>\n",
       "    </tr>\n",
       "    <tr>\n",
       "      <th>Soybeans</th>\n",
       "      <td>3223</td>\n",
       "      <td>3223</td>\n",
       "      <td>3223</td>\n",
       "      <td>3223</td>\n",
       "      <td>3223</td>\n",
       "      <td>3223</td>\n",
       "    </tr>\n",
       "    <tr>\n",
       "      <th>Sweet potatoes</th>\n",
       "      <td>2890</td>\n",
       "      <td>2890</td>\n",
       "      <td>2890</td>\n",
       "      <td>2890</td>\n",
       "      <td>2890</td>\n",
       "      <td>2890</td>\n",
       "    </tr>\n",
       "    <tr>\n",
       "      <th>Wheat</th>\n",
       "      <td>3857</td>\n",
       "      <td>3857</td>\n",
       "      <td>3857</td>\n",
       "      <td>3857</td>\n",
       "      <td>3857</td>\n",
       "      <td>3857</td>\n",
       "    </tr>\n",
       "    <tr>\n",
       "      <th>Yams</th>\n",
       "      <td>847</td>\n",
       "      <td>847</td>\n",
       "      <td>847</td>\n",
       "      <td>847</td>\n",
       "      <td>847</td>\n",
       "      <td>847</td>\n",
       "    </tr>\n",
       "  </tbody>\n",
       "</table>\n",
       "</div>"
      ],
      "text/plain": [
       "                      Area  Year  hg/ha_yield  average_rain_fall_mm_per_year  \\\n",
       "Item                                                                           \n",
       "Cassava               2045  2045         2045                           2045   \n",
       "Maize                 4121  4121         4121                           4121   \n",
       "Plantains and others   556   556          556                            556   \n",
       "Potatoes              4276  4276         4276                           4276   \n",
       "Rice, paddy           3388  3388         3388                           3388   \n",
       "Sorghum               3039  3039         3039                           3039   \n",
       "Soybeans              3223  3223         3223                           3223   \n",
       "Sweet potatoes        2890  2890         2890                           2890   \n",
       "Wheat                 3857  3857         3857                           3857   \n",
       "Yams                   847   847          847                            847   \n",
       "\n",
       "                      pesticides_tonnes  avg_temp  \n",
       "Item                                               \n",
       "Cassava                            2045      2045  \n",
       "Maize                              4121      4121  \n",
       "Plantains and others                556       556  \n",
       "Potatoes                           4276      4276  \n",
       "Rice, paddy                        3388      3388  \n",
       "Sorghum                            3039      3039  \n",
       "Soybeans                           3223      3223  \n",
       "Sweet potatoes                     2890      2890  \n",
       "Wheat                              3857      3857  \n",
       "Yams                                847       847  "
      ]
     },
     "execution_count": 19,
     "metadata": {},
     "output_type": "execute_result"
    }
   ],
   "source": [
    "yield_df.groupby('Item').count()"
   ]
  },
  {
   "cell_type": "code",
   "execution_count": 20,
   "metadata": {
    "scrolled": false
   },
   "outputs": [
    {
     "data": {
      "text/html": [
       "<div>\n",
       "<style scoped>\n",
       "    .dataframe tbody tr th:only-of-type {\n",
       "        vertical-align: middle;\n",
       "    }\n",
       "\n",
       "    .dataframe tbody tr th {\n",
       "        vertical-align: top;\n",
       "    }\n",
       "\n",
       "    .dataframe thead th {\n",
       "        text-align: right;\n",
       "    }\n",
       "</style>\n",
       "<table border=\"1\" class=\"dataframe\">\n",
       "  <thead>\n",
       "    <tr style=\"text-align: right;\">\n",
       "      <th></th>\n",
       "      <th>Year</th>\n",
       "      <th>hg/ha_yield</th>\n",
       "      <th>average_rain_fall_mm_per_year</th>\n",
       "      <th>pesticides_tonnes</th>\n",
       "      <th>avg_temp</th>\n",
       "    </tr>\n",
       "  </thead>\n",
       "  <tbody>\n",
       "    <tr>\n",
       "      <th>count</th>\n",
       "      <td>28242.000000</td>\n",
       "      <td>28242.000000</td>\n",
       "      <td>28242.00000</td>\n",
       "      <td>28242.000000</td>\n",
       "      <td>28242.000000</td>\n",
       "    </tr>\n",
       "    <tr>\n",
       "      <th>mean</th>\n",
       "      <td>2001.544296</td>\n",
       "      <td>77053.332094</td>\n",
       "      <td>1149.05598</td>\n",
       "      <td>37076.909344</td>\n",
       "      <td>20.542627</td>\n",
       "    </tr>\n",
       "    <tr>\n",
       "      <th>std</th>\n",
       "      <td>7.051905</td>\n",
       "      <td>84956.612897</td>\n",
       "      <td>709.81215</td>\n",
       "      <td>59958.784665</td>\n",
       "      <td>6.312051</td>\n",
       "    </tr>\n",
       "    <tr>\n",
       "      <th>min</th>\n",
       "      <td>1990.000000</td>\n",
       "      <td>50.000000</td>\n",
       "      <td>51.00000</td>\n",
       "      <td>0.040000</td>\n",
       "      <td>1.300000</td>\n",
       "    </tr>\n",
       "    <tr>\n",
       "      <th>25%</th>\n",
       "      <td>1995.000000</td>\n",
       "      <td>19919.250000</td>\n",
       "      <td>593.00000</td>\n",
       "      <td>1702.000000</td>\n",
       "      <td>16.702500</td>\n",
       "    </tr>\n",
       "    <tr>\n",
       "      <th>50%</th>\n",
       "      <td>2001.000000</td>\n",
       "      <td>38295.000000</td>\n",
       "      <td>1083.00000</td>\n",
       "      <td>17529.440000</td>\n",
       "      <td>21.510000</td>\n",
       "    </tr>\n",
       "    <tr>\n",
       "      <th>75%</th>\n",
       "      <td>2008.000000</td>\n",
       "      <td>104676.750000</td>\n",
       "      <td>1668.00000</td>\n",
       "      <td>48687.880000</td>\n",
       "      <td>26.000000</td>\n",
       "    </tr>\n",
       "    <tr>\n",
       "      <th>max</th>\n",
       "      <td>2013.000000</td>\n",
       "      <td>501412.000000</td>\n",
       "      <td>3240.00000</td>\n",
       "      <td>367778.000000</td>\n",
       "      <td>30.650000</td>\n",
       "    </tr>\n",
       "  </tbody>\n",
       "</table>\n",
       "</div>"
      ],
      "text/plain": [
       "               Year    hg/ha_yield  average_rain_fall_mm_per_year  \\\n",
       "count  28242.000000   28242.000000                    28242.00000   \n",
       "mean    2001.544296   77053.332094                     1149.05598   \n",
       "std        7.051905   84956.612897                      709.81215   \n",
       "min     1990.000000      50.000000                       51.00000   \n",
       "25%     1995.000000   19919.250000                      593.00000   \n",
       "50%     2001.000000   38295.000000                     1083.00000   \n",
       "75%     2008.000000  104676.750000                     1668.00000   \n",
       "max     2013.000000  501412.000000                     3240.00000   \n",
       "\n",
       "       pesticides_tonnes      avg_temp  \n",
       "count       28242.000000  28242.000000  \n",
       "mean        37076.909344     20.542627  \n",
       "std         59958.784665      6.312051  \n",
       "min             0.040000      1.300000  \n",
       "25%          1702.000000     16.702500  \n",
       "50%         17529.440000     21.510000  \n",
       "75%         48687.880000     26.000000  \n",
       "max        367778.000000     30.650000  "
      ]
     },
     "execution_count": 20,
     "metadata": {},
     "output_type": "execute_result"
    }
   ],
   "source": [
    "yield_df.describe()"
   ]
  },
  {
   "cell_type": "markdown",
   "metadata": {},
   "source": [
    "It can be noticed the high variance in the values for each columns, later on I'll account for that will scaling. "
   ]
  },
  {
   "cell_type": "code",
   "execution_count": 21,
   "metadata": {},
   "outputs": [
    {
     "data": {
      "text/html": [
       "<div>\n",
       "<style scoped>\n",
       "    .dataframe tbody tr th:only-of-type {\n",
       "        vertical-align: middle;\n",
       "    }\n",
       "\n",
       "    .dataframe tbody tr th {\n",
       "        vertical-align: top;\n",
       "    }\n",
       "\n",
       "    .dataframe thead th {\n",
       "        text-align: right;\n",
       "    }\n",
       "</style>\n",
       "<table border=\"1\" class=\"dataframe\">\n",
       "  <thead>\n",
       "    <tr style=\"text-align: right;\">\n",
       "      <th></th>\n",
       "      <th>Area</th>\n",
       "      <th>Item</th>\n",
       "      <th>Year</th>\n",
       "      <th>hg/ha_yield</th>\n",
       "      <th>average_rain_fall_mm_per_year</th>\n",
       "      <th>pesticides_tonnes</th>\n",
       "      <th>avg_temp</th>\n",
       "    </tr>\n",
       "  </thead>\n",
       "  <tbody>\n",
       "    <tr>\n",
       "      <th>0</th>\n",
       "      <td>Albania</td>\n",
       "      <td>Maize</td>\n",
       "      <td>1990</td>\n",
       "      <td>36613</td>\n",
       "      <td>1485.0</td>\n",
       "      <td>121.00</td>\n",
       "      <td>16.37</td>\n",
       "    </tr>\n",
       "    <tr>\n",
       "      <th>1</th>\n",
       "      <td>Albania</td>\n",
       "      <td>Potatoes</td>\n",
       "      <td>1990</td>\n",
       "      <td>66667</td>\n",
       "      <td>1485.0</td>\n",
       "      <td>121.00</td>\n",
       "      <td>16.37</td>\n",
       "    </tr>\n",
       "    <tr>\n",
       "      <th>2</th>\n",
       "      <td>Albania</td>\n",
       "      <td>Rice, paddy</td>\n",
       "      <td>1990</td>\n",
       "      <td>23333</td>\n",
       "      <td>1485.0</td>\n",
       "      <td>121.00</td>\n",
       "      <td>16.37</td>\n",
       "    </tr>\n",
       "    <tr>\n",
       "      <th>3</th>\n",
       "      <td>Albania</td>\n",
       "      <td>Sorghum</td>\n",
       "      <td>1990</td>\n",
       "      <td>12500</td>\n",
       "      <td>1485.0</td>\n",
       "      <td>121.00</td>\n",
       "      <td>16.37</td>\n",
       "    </tr>\n",
       "    <tr>\n",
       "      <th>4</th>\n",
       "      <td>Albania</td>\n",
       "      <td>Soybeans</td>\n",
       "      <td>1990</td>\n",
       "      <td>7000</td>\n",
       "      <td>1485.0</td>\n",
       "      <td>121.00</td>\n",
       "      <td>16.37</td>\n",
       "    </tr>\n",
       "    <tr>\n",
       "      <th>...</th>\n",
       "      <td>...</td>\n",
       "      <td>...</td>\n",
       "      <td>...</td>\n",
       "      <td>...</td>\n",
       "      <td>...</td>\n",
       "      <td>...</td>\n",
       "      <td>...</td>\n",
       "    </tr>\n",
       "    <tr>\n",
       "      <th>28237</th>\n",
       "      <td>Zimbabwe</td>\n",
       "      <td>Rice, paddy</td>\n",
       "      <td>2013</td>\n",
       "      <td>22581</td>\n",
       "      <td>657.0</td>\n",
       "      <td>2550.07</td>\n",
       "      <td>19.76</td>\n",
       "    </tr>\n",
       "    <tr>\n",
       "      <th>28238</th>\n",
       "      <td>Zimbabwe</td>\n",
       "      <td>Sorghum</td>\n",
       "      <td>2013</td>\n",
       "      <td>3066</td>\n",
       "      <td>657.0</td>\n",
       "      <td>2550.07</td>\n",
       "      <td>19.76</td>\n",
       "    </tr>\n",
       "    <tr>\n",
       "      <th>28239</th>\n",
       "      <td>Zimbabwe</td>\n",
       "      <td>Soybeans</td>\n",
       "      <td>2013</td>\n",
       "      <td>13142</td>\n",
       "      <td>657.0</td>\n",
       "      <td>2550.07</td>\n",
       "      <td>19.76</td>\n",
       "    </tr>\n",
       "    <tr>\n",
       "      <th>28240</th>\n",
       "      <td>Zimbabwe</td>\n",
       "      <td>Sweet potatoes</td>\n",
       "      <td>2013</td>\n",
       "      <td>22222</td>\n",
       "      <td>657.0</td>\n",
       "      <td>2550.07</td>\n",
       "      <td>19.76</td>\n",
       "    </tr>\n",
       "    <tr>\n",
       "      <th>28241</th>\n",
       "      <td>Zimbabwe</td>\n",
       "      <td>Wheat</td>\n",
       "      <td>2013</td>\n",
       "      <td>22888</td>\n",
       "      <td>657.0</td>\n",
       "      <td>2550.07</td>\n",
       "      <td>19.76</td>\n",
       "    </tr>\n",
       "  </tbody>\n",
       "</table>\n",
       "<p>28242 rows × 7 columns</p>\n",
       "</div>"
      ],
      "text/plain": [
       "           Area            Item  Year  hg/ha_yield  \\\n",
       "0       Albania           Maize  1990        36613   \n",
       "1       Albania        Potatoes  1990        66667   \n",
       "2       Albania     Rice, paddy  1990        23333   \n",
       "3       Albania         Sorghum  1990        12500   \n",
       "4       Albania        Soybeans  1990         7000   \n",
       "...         ...             ...   ...          ...   \n",
       "28237  Zimbabwe     Rice, paddy  2013        22581   \n",
       "28238  Zimbabwe         Sorghum  2013         3066   \n",
       "28239  Zimbabwe        Soybeans  2013        13142   \n",
       "28240  Zimbabwe  Sweet potatoes  2013        22222   \n",
       "28241  Zimbabwe           Wheat  2013        22888   \n",
       "\n",
       "       average_rain_fall_mm_per_year  pesticides_tonnes  avg_temp  \n",
       "0                             1485.0             121.00     16.37  \n",
       "1                             1485.0             121.00     16.37  \n",
       "2                             1485.0             121.00     16.37  \n",
       "3                             1485.0             121.00     16.37  \n",
       "4                             1485.0             121.00     16.37  \n",
       "...                              ...                ...       ...  \n",
       "28237                          657.0            2550.07     19.76  \n",
       "28238                          657.0            2550.07     19.76  \n",
       "28239                          657.0            2550.07     19.76  \n",
       "28240                          657.0            2550.07     19.76  \n",
       "28241                          657.0            2550.07     19.76  \n",
       "\n",
       "[28242 rows x 7 columns]"
      ]
     },
     "execution_count": 21,
     "metadata": {},
     "output_type": "execute_result"
    }
   ],
   "source": [
    "yield_df"
   ]
  },
  {
   "cell_type": "code",
   "execution_count": 22,
   "metadata": {
    "scrolled": false
   },
   "outputs": [
    {
     "data": {
      "text/plain": [
       "101"
      ]
     },
     "execution_count": 22,
     "metadata": {},
     "output_type": "execute_result"
    }
   ],
   "source": [
    "yield_df['Area'].nunique()"
   ]
  },
  {
   "cell_type": "markdown",
   "metadata": {},
   "source": [
    "The dataframe has 101 Countries, ordering these by 10 the highest yield production: "
   ]
  },
  {
   "cell_type": "code",
   "execution_count": 23,
   "metadata": {
    "scrolled": true
   },
   "outputs": [
    {
     "data": {
      "text/plain": [
       "Area\n",
       "India             327420324\n",
       "Brazil            167550306\n",
       "Mexico            130788528\n",
       "Japan             124470912\n",
       "Australia         109111062\n",
       "Pakistan           73897434\n",
       "Indonesia          69193506\n",
       "United Kingdom     55419990\n",
       "Turkey             52263950\n",
       "Spain              46773540\n",
       "Name: hg/ha_yield, dtype: int64"
      ]
     },
     "execution_count": 23,
     "metadata": {},
     "output_type": "execute_result"
    }
   ],
   "source": [
    "yield_df.groupby(['Area'],sort=True)['hg/ha_yield'].sum().nlargest(10)"
   ]
  },
  {
   "cell_type": "markdown",
   "metadata": {},
   "source": [
    "India has the highest yield production in the dataset. Inclusing items in the groupby:"
   ]
  },
  {
   "cell_type": "code",
   "execution_count": 24,
   "metadata": {
    "scrolled": true
   },
   "outputs": [
    {
     "data": {
      "text/plain": [
       "Item            Area          \n",
       "Cassava         India             142810624\n",
       "Potatoes        India              92122514\n",
       "                Brazil             49602168\n",
       "                United Kingdom     46705145\n",
       "                Australia          45670386\n",
       "Sweet potatoes  India              44439538\n",
       "Potatoes        Japan              42918726\n",
       "                Mexico             42053880\n",
       "Sweet potatoes  Mexico             35808592\n",
       "                Australia          35550294\n",
       "Name: hg/ha_yield, dtype: int64"
      ]
     },
     "execution_count": 24,
     "metadata": {},
     "output_type": "execute_result"
    }
   ],
   "source": [
    "yield_df.groupby(['Item','Area'],sort=True)['hg/ha_yield'].sum().nlargest(10)"
   ]
  },
  {
   "cell_type": "markdown",
   "metadata": {},
   "source": [
    "India is the highest for production of cassava and potatoes. Potatoes seems to be the dominated crop in the dataset, being the highest in 4 countries. "
   ]
  },
  {
   "cell_type": "markdown",
   "metadata": {},
   "source": [
    "The final dataframe starts from 1990 and ends in 2013, that's 23 years worth of data for 101 countries. "
   ]
  },
  {
   "cell_type": "markdown",
   "metadata": {},
   "source": [
    "Now, exploring the relationships between the colunms of the dataframe, a good way to quickly check correlations among columns is by visualizing the correlation matrix as a heatmap."
   ]
  },
  {
   "cell_type": "code",
   "execution_count": 25,
   "metadata": {},
   "outputs": [],
   "source": [
    "import sklearn\n",
    "import seaborn as sns\n",
    "import matplotlib.pyplot as plt"
   ]
  },
  {
   "cell_type": "code",
   "execution_count": 26,
   "metadata": {
    "scrolled": false
   },
   "outputs": [
    {
     "data": {
      "image/png": "[encoded data removed]",
      "text/plain": [
       "<Figure size 792x648 with 2 Axes>"
      ]
     },
     "metadata": {
      "needs_background": "light"
     },
     "output_type": "display_data"
    }
   ],
   "source": [
    "correlation_data=yield_df.select_dtypes(include=[np.number]).corr()\n",
    "\n",
    "mask = np.zeros_like(correlation_data, dtype=np.bool)\n",
    "mask[np.triu_indices_from(mask)] = True\n",
    "\n",
    "f, ax = plt.subplots(figsize=(11, 9))\n",
    "\n",
    "# Generate a custom diverging colormap\n",
    "cmap = sns.palette=\"vlag\"\n",
    "\n",
    "# Draw the heatmap with the mask and correct aspect ratio\n",
    "sns.heatmap(correlation_data, mask=mask, cmap=cmap, vmax=.3, center=0,\n",
    "            square=True, linewidths=.5, cbar_kws={\"shrink\": .5});"
   ]
  },
  {
   "cell_type": "markdown",
   "metadata": {},
   "source": [
    "It can be seen from the above correlation map that there is no correlation between any of the colmuns in the dataframe. "
   ]
  },
  {
   "cell_type": "markdown",
   "metadata": {},
   "source": [
    "# Part Three: Data Preprocessing"
   ]
  },
  {
   "cell_type": "markdown",
   "metadata": {},
   "source": [
    "Data Preprocessing is a technique that is used to convert the raw data into a clean data set. In other words, whenever the data is gathered from different sources it is collected in raw format which is not feasible for the analysis.  \n",
    "\n",
    "\n"
   ]
  },
  {
   "cell_type": "code",
   "execution_count": 27,
   "metadata": {
    "scrolled": true
   },
   "outputs": [
    {
     "data": {
      "text/html": [
       "<div>\n",
       "<style scoped>\n",
       "    .dataframe tbody tr th:only-of-type {\n",
       "        vertical-align: middle;\n",
       "    }\n",
       "\n",
       "    .dataframe tbody tr th {\n",
       "        vertical-align: top;\n",
       "    }\n",
       "\n",
       "    .dataframe thead th {\n",
       "        text-align: right;\n",
       "    }\n",
       "</style>\n",
       "<table border=\"1\" class=\"dataframe\">\n",
       "  <thead>\n",
       "    <tr style=\"text-align: right;\">\n",
       "      <th></th>\n",
       "      <th>Area</th>\n",
       "      <th>Item</th>\n",
       "      <th>Year</th>\n",
       "      <th>hg/ha_yield</th>\n",
       "      <th>average_rain_fall_mm_per_year</th>\n",
       "      <th>pesticides_tonnes</th>\n",
       "      <th>avg_temp</th>\n",
       "    </tr>\n",
       "  </thead>\n",
       "  <tbody>\n",
       "    <tr>\n",
       "      <th>0</th>\n",
       "      <td>Albania</td>\n",
       "      <td>Maize</td>\n",
       "      <td>1990</td>\n",
       "      <td>36613</td>\n",
       "      <td>1485.0</td>\n",
       "      <td>121.0</td>\n",
       "      <td>16.37</td>\n",
       "    </tr>\n",
       "    <tr>\n",
       "      <th>1</th>\n",
       "      <td>Albania</td>\n",
       "      <td>Potatoes</td>\n",
       "      <td>1990</td>\n",
       "      <td>66667</td>\n",
       "      <td>1485.0</td>\n",
       "      <td>121.0</td>\n",
       "      <td>16.37</td>\n",
       "    </tr>\n",
       "    <tr>\n",
       "      <th>2</th>\n",
       "      <td>Albania</td>\n",
       "      <td>Rice, paddy</td>\n",
       "      <td>1990</td>\n",
       "      <td>23333</td>\n",
       "      <td>1485.0</td>\n",
       "      <td>121.0</td>\n",
       "      <td>16.37</td>\n",
       "    </tr>\n",
       "    <tr>\n",
       "      <th>3</th>\n",
       "      <td>Albania</td>\n",
       "      <td>Sorghum</td>\n",
       "      <td>1990</td>\n",
       "      <td>12500</td>\n",
       "      <td>1485.0</td>\n",
       "      <td>121.0</td>\n",
       "      <td>16.37</td>\n",
       "    </tr>\n",
       "    <tr>\n",
       "      <th>4</th>\n",
       "      <td>Albania</td>\n",
       "      <td>Soybeans</td>\n",
       "      <td>1990</td>\n",
       "      <td>7000</td>\n",
       "      <td>1485.0</td>\n",
       "      <td>121.0</td>\n",
       "      <td>16.37</td>\n",
       "    </tr>\n",
       "  </tbody>\n",
       "</table>\n",
       "</div>"
      ],
      "text/plain": [
       "      Area         Item  Year  hg/ha_yield  average_rain_fall_mm_per_year  \\\n",
       "0  Albania        Maize  1990        36613                         1485.0   \n",
       "1  Albania     Potatoes  1990        66667                         1485.0   \n",
       "2  Albania  Rice, paddy  1990        23333                         1485.0   \n",
       "3  Albania      Sorghum  1990        12500                         1485.0   \n",
       "4  Albania     Soybeans  1990         7000                         1485.0   \n",
       "\n",
       "   pesticides_tonnes  avg_temp  \n",
       "0              121.0     16.37  \n",
       "1              121.0     16.37  \n",
       "2              121.0     16.37  \n",
       "3              121.0     16.37  \n",
       "4              121.0     16.37  "
      ]
     },
     "execution_count": 27,
     "metadata": {},
     "output_type": "execute_result"
    }
   ],
   "source": [
    "yield_df.head()"
   ]
  },
  {
   "cell_type": "markdown",
   "metadata": {},
   "source": [
    "### Encoding Categorical Variables:\n",
    "There are two categorical columns in the dataframe, categorical data are variables that contain label values rather than numeric values. The number of possible values is often limited to a fixed set, like in this case, items and countries values.\n",
    "Many machine learning algorithms cannot operate on label data directly. They require all input variables and output variables to be numeric.\n",
    "\n",
    "This means that categorical data must be converted to a numerical form. One hot encoding is a process by which categorical variables are converted into a form that could be provided to ML algorithms to do a better job in prediction. For that purpose, One-Hot Encoding will be used to convert these two columns to one-hot numeric array.\n",
    "\n",
    "The categorical value represents the numerical value of the entry in the dataset. This encoding will create a binary column for each category and returns a matrix with the results. \n"
   ]
  },
  {
   "cell_type": "code",
   "execution_count": 28,
   "metadata": {},
   "outputs": [],
   "source": [
    "from sklearn.preprocessing import OneHotEncoder"
   ]
  },
  {
   "cell_type": "code",
   "execution_count": 29,
   "metadata": {},
   "outputs": [
    {
     "data": {
      "text/html": [
       "<div>\n",
       "<style scoped>\n",
       "    .dataframe tbody tr th:only-of-type {\n",
       "        vertical-align: middle;\n",
       "    }\n",
       "\n",
       "    .dataframe tbody tr th {\n",
       "        vertical-align: top;\n",
       "    }\n",
       "\n",
       "    .dataframe thead th {\n",
       "        text-align: right;\n",
       "    }\n",
       "</style>\n",
       "<table border=\"1\" class=\"dataframe\">\n",
       "  <thead>\n",
       "    <tr style=\"text-align: right;\">\n",
       "      <th></th>\n",
       "      <th>Year</th>\n",
       "      <th>average_rain_fall_mm_per_year</th>\n",
       "      <th>pesticides_tonnes</th>\n",
       "      <th>avg_temp</th>\n",
       "      <th>Country_Albania</th>\n",
       "      <th>Country_Algeria</th>\n",
       "      <th>Country_Angola</th>\n",
       "      <th>Country_Argentina</th>\n",
       "      <th>Country_Armenia</th>\n",
       "      <th>Country_Australia</th>\n",
       "      <th>...</th>\n",
       "      <th>Item_Cassava</th>\n",
       "      <th>Item_Maize</th>\n",
       "      <th>Item_Plantains and others</th>\n",
       "      <th>Item_Potatoes</th>\n",
       "      <th>Item_Rice, paddy</th>\n",
       "      <th>Item_Sorghum</th>\n",
       "      <th>Item_Soybeans</th>\n",
       "      <th>Item_Sweet potatoes</th>\n",
       "      <th>Item_Wheat</th>\n",
       "      <th>Item_Yams</th>\n",
       "    </tr>\n",
       "  </thead>\n",
       "  <tbody>\n",
       "    <tr>\n",
       "      <th>0</th>\n",
       "      <td>1990</td>\n",
       "      <td>1485.0</td>\n",
       "      <td>121.0</td>\n",
       "      <td>16.37</td>\n",
       "      <td>1</td>\n",
       "      <td>0</td>\n",
       "      <td>0</td>\n",
       "      <td>0</td>\n",
       "      <td>0</td>\n",
       "      <td>0</td>\n",
       "      <td>...</td>\n",
       "      <td>0</td>\n",
       "      <td>1</td>\n",
       "      <td>0</td>\n",
       "      <td>0</td>\n",
       "      <td>0</td>\n",
       "      <td>0</td>\n",
       "      <td>0</td>\n",
       "      <td>0</td>\n",
       "      <td>0</td>\n",
       "      <td>0</td>\n",
       "    </tr>\n",
       "    <tr>\n",
       "      <th>1</th>\n",
       "      <td>1990</td>\n",
       "      <td>1485.0</td>\n",
       "      <td>121.0</td>\n",
       "      <td>16.37</td>\n",
       "      <td>1</td>\n",
       "      <td>0</td>\n",
       "      <td>0</td>\n",
       "      <td>0</td>\n",
       "      <td>0</td>\n",
       "      <td>0</td>\n",
       "      <td>...</td>\n",
       "      <td>0</td>\n",
       "      <td>0</td>\n",
       "      <td>0</td>\n",
       "      <td>1</td>\n",
       "      <td>0</td>\n",
       "      <td>0</td>\n",
       "      <td>0</td>\n",
       "      <td>0</td>\n",
       "      <td>0</td>\n",
       "      <td>0</td>\n",
       "    </tr>\n",
       "    <tr>\n",
       "      <th>2</th>\n",
       "      <td>1990</td>\n",
       "      <td>1485.0</td>\n",
       "      <td>121.0</td>\n",
       "      <td>16.37</td>\n",
       "      <td>1</td>\n",
       "      <td>0</td>\n",
       "      <td>0</td>\n",
       "      <td>0</td>\n",
       "      <td>0</td>\n",
       "      <td>0</td>\n",
       "      <td>...</td>\n",
       "      <td>0</td>\n",
       "      <td>0</td>\n",
       "      <td>0</td>\n",
       "      <td>0</td>\n",
       "      <td>1</td>\n",
       "      <td>0</td>\n",
       "      <td>0</td>\n",
       "      <td>0</td>\n",
       "      <td>0</td>\n",
       "      <td>0</td>\n",
       "    </tr>\n",
       "    <tr>\n",
       "      <th>3</th>\n",
       "      <td>1990</td>\n",
       "      <td>1485.0</td>\n",
       "      <td>121.0</td>\n",
       "      <td>16.37</td>\n",
       "      <td>1</td>\n",
       "      <td>0</td>\n",
       "      <td>0</td>\n",
       "      <td>0</td>\n",
       "      <td>0</td>\n",
       "      <td>0</td>\n",
       "      <td>...</td>\n",
       "      <td>0</td>\n",
       "      <td>0</td>\n",
       "      <td>0</td>\n",
       "      <td>0</td>\n",
       "      <td>0</td>\n",
       "      <td>1</td>\n",
       "      <td>0</td>\n",
       "      <td>0</td>\n",
       "      <td>0</td>\n",
       "      <td>0</td>\n",
       "    </tr>\n",
       "    <tr>\n",
       "      <th>4</th>\n",
       "      <td>1990</td>\n",
       "      <td>1485.0</td>\n",
       "      <td>121.0</td>\n",
       "      <td>16.37</td>\n",
       "      <td>1</td>\n",
       "      <td>0</td>\n",
       "      <td>0</td>\n",
       "      <td>0</td>\n",
       "      <td>0</td>\n",
       "      <td>0</td>\n",
       "      <td>...</td>\n",
       "      <td>0</td>\n",
       "      <td>0</td>\n",
       "      <td>0</td>\n",
       "      <td>0</td>\n",
       "      <td>0</td>\n",
       "      <td>0</td>\n",
       "      <td>1</td>\n",
       "      <td>0</td>\n",
       "      <td>0</td>\n",
       "      <td>0</td>\n",
       "    </tr>\n",
       "  </tbody>\n",
       "</table>\n",
       "<p>5 rows × 115 columns</p>\n",
       "</div>"
      ],
      "text/plain": [
       "   Year  average_rain_fall_mm_per_year  pesticides_tonnes  avg_temp  \\\n",
       "0  1990                         1485.0              121.0     16.37   \n",
       "1  1990                         1485.0              121.0     16.37   \n",
       "2  1990                         1485.0              121.0     16.37   \n",
       "3  1990                         1485.0              121.0     16.37   \n",
       "4  1990                         1485.0              121.0     16.37   \n",
       "\n",
       "   Country_Albania  Country_Algeria  Country_Angola  Country_Argentina  \\\n",
       "0                1                0               0                  0   \n",
       "1                1                0               0                  0   \n",
       "2                1                0               0                  0   \n",
       "3                1                0               0                  0   \n",
       "4                1                0               0                  0   \n",
       "\n",
       "   Country_Armenia  Country_Australia  ...  Item_Cassava  Item_Maize  \\\n",
       "0                0                  0  ...             0           1   \n",
       "1                0                  0  ...             0           0   \n",
       "2                0                  0  ...             0           0   \n",
       "3                0                  0  ...             0           0   \n",
       "4                0                  0  ...             0           0   \n",
       "\n",
       "   Item_Plantains and others  Item_Potatoes  Item_Rice, paddy  Item_Sorghum  \\\n",
       "0                          0              0                 0             0   \n",
       "1                          0              1                 0             0   \n",
       "2                          0              0                 1             0   \n",
       "3                          0              0                 0             1   \n",
       "4                          0              0                 0             0   \n",
       "\n",
       "   Item_Soybeans  Item_Sweet potatoes  Item_Wheat  Item_Yams  \n",
       "0              0                    0           0          0  \n",
       "1              0                    0           0          0  \n",
       "2              0                    0           0          0  \n",
       "3              0                    0           0          0  \n",
       "4              1                    0           0          0  \n",
       "\n",
       "[5 rows x 115 columns]"
      ]
     },
     "execution_count": 29,
     "metadata": {},
     "output_type": "execute_result"
    }
   ],
   "source": [
    "yield_df_onehot = pd.get_dummies(yield_df, columns=['Area',\"Item\"], prefix = ['Country',\"Item\"])\n",
    "features=yield_df_onehot.loc[:, yield_df_onehot.columns != 'hg/ha_yield']\n",
    "label=yield_df['hg/ha_yield']\n",
    "features.head()"
   ]
  },
  {
   "cell_type": "code",
   "execution_count": 36,
   "metadata": {},
   "outputs": [],
   "source": [
    "features = features.drop(['Year'], axis=1)"
   ]
  },
  {
   "cell_type": "markdown",
   "metadata": {},
   "source": [
    "\n",
    "### Scaling Features: \n",
    "\n",
    "Taking a look at the dataset above, it contains features highly varying in magnitudes, units and range. The features with high magnitudes will weigh in a lot more in the distance calculations than features with low magnitudes.\n",
    "\n",
    "To supress this effect, we need to bring all features to the same level of magnitudes. This can be acheived by scaling."
   ]
  },
  {
   "cell_type": "code",
   "execution_count": 37,
   "metadata": {},
   "outputs": [],
   "source": [
    "from sklearn.preprocessing import MinMaxScaler\n",
    "scaler=MinMaxScaler()\n",
    "features=scaler.fit_transform(features) "
   ]
  },
  {
   "cell_type": "markdown",
   "metadata": {},
   "source": [
    "After dropping year column in addition to scaling all values in features, the resulting array will look something like this : "
   ]
  },
  {
   "cell_type": "code",
   "execution_count": 38,
   "metadata": {
    "scrolled": false
   },
   "outputs": [
    {
     "data": {
      "text/plain": [
       "array([[4.49670743e-01, 3.28894097e-04, 5.13458262e-01, ...,\n",
       "        0.00000000e+00, 0.00000000e+00, 0.00000000e+00],\n",
       "       [4.49670743e-01, 3.28894097e-04, 5.13458262e-01, ...,\n",
       "        0.00000000e+00, 0.00000000e+00, 0.00000000e+00],\n",
       "       [4.49670743e-01, 3.28894097e-04, 5.13458262e-01, ...,\n",
       "        0.00000000e+00, 0.00000000e+00, 0.00000000e+00],\n",
       "       ...,\n",
       "       [1.90028222e-01, 6.93361288e-03, 6.28960818e-01, ...,\n",
       "        0.00000000e+00, 0.00000000e+00, 0.00000000e+00],\n",
       "       [1.90028222e-01, 6.93361288e-03, 6.28960818e-01, ...,\n",
       "        1.00000000e+00, 0.00000000e+00, 0.00000000e+00],\n",
       "       [1.90028222e-01, 6.93361288e-03, 6.28960818e-01, ...,\n",
       "        0.00000000e+00, 1.00000000e+00, 0.00000000e+00]])"
      ]
     },
     "execution_count": 38,
     "metadata": {},
     "output_type": "execute_result"
    }
   ],
   "source": [
    "features"
   ]
  },
  {
   "cell_type": "markdown",
   "metadata": {},
   "source": [
    "## Training Data: \n",
    "\n",
    "The dataset will be split to two datasets, the training dataset and test dataset. The data is usually tend to be split inequality because training the model usually requires as much data-points as possible.The common splits are 70/30 or 80/20 for train/test.\n",
    "\n",
    "The training dataset is the intial dataset used to train ML algorithm to learn and produce right predictions. (70% of dataset is training dataset)\n",
    "\n",
    "The test dataset, however, is used to assess how well ML algorithm is trained with the training dataset. You can’t simply reuse the training dataset in the testing stage because ML algorithm will already “know” the expected output, which defeats the purpose of testing the algorithm. (30% of dataset is testing dataset) \n",
    "\n"
   ]
  },
  {
   "cell_type": "code",
   "execution_count": 39,
   "metadata": {},
   "outputs": [],
   "source": [
    "from sklearn.model_selection import train_test_split\n",
    "train_data, test_data, train_labels, test_labels = train_test_split(features, label, test_size=0.3, random_state=42)"
   ]
  },
  {
   "cell_type": "code",
   "execution_count": 40,
   "metadata": {},
   "outputs": [],
   "source": [
    "#write final df to csv file \n",
    "yield_df.to_csv('yield_df.csv')"
   ]
  },
  {
   "cell_type": "code",
   "execution_count": 41,
   "metadata": {},
   "outputs": [],
   "source": [
    "from sklearn.model_selection import train_test_split\n",
    "train_data, test_data, train_labels, test_labels = train_test_split(features, label, test_size=0.3, random_state=42)"
   ]
  },
  {
   "cell_type": "markdown",
   "metadata": {},
   "source": [
    "# Part Four: Model Comparison & Selection \n",
    "\n",
    "- Gradient Boosting Regressor\n",
    "- Random Forest Regressor\n",
    "- SVM \n",
    "- Decision Tree Regressor\n"
   ]
  },
  {
   "cell_type": "code",
   "execution_count": 42,
   "metadata": {},
   "outputs": [],
   "source": [
    "from sklearn.metrics import r2_score\n",
    "\n",
    "\n",
    "def compare_models(model):\n",
    "    model_name = model.__class__.__name__\n",
    "    fit=model.fit(train_data,train_labels)\n",
    "    y_pred=fit.predict(test_data)\n",
    "    r2=r2_score(test_labels,y_pred)\n",
    "    return([model_name,r2])"
   ]
  },
  {
   "cell_type": "code",
   "execution_count": 43,
   "metadata": {},
   "outputs": [],
   "source": [
    "from sklearn.ensemble import RandomForestRegressor\n",
    "from sklearn.ensemble import GradientBoostingRegressor\n",
    "from sklearn import svm\n",
    "from sklearn.tree import DecisionTreeRegressor\n",
    "\n",
    "models = [\n",
    "    GradientBoostingRegressor(n_estimators=200, max_depth=3, random_state=0),\n",
    "     RandomForestRegressor(n_estimators=200, max_depth=3, random_state=0),\n",
    "    svm.SVR(),\n",
    "   DecisionTreeRegressor()\n",
    "]"
   ]
  },
  {
   "cell_type": "code",
   "execution_count": 45,
   "metadata": {},
   "outputs": [
    {
     "name": "stdout",
     "output_type": "stream",
     "text": [
      "Model: GradientBoostingRegressor, R^2 score:0.90\n",
      "Model: RandomForestRegressor, R^2 score:0.68\n",
      "Model: SVR, R^2 score:-0.20\n",
      "Model: DecisionTreeRegressor, R^2 score:0.96\n"
     ]
    }
   ],
   "source": [
    "for model in models:\n",
    "    name, r2 = compare_models(model)\n",
    "    print(f'Model: {name}, R^2 score:{ r2:.2f}')\n"
   ]
  },
  {
   "cell_type": "markdown",
   "metadata": {},
   "source": [
    "The evaluation metric is set based on **R^2 (coefficient of determination)** regression score function, that will represents the proportion of the variance for items (crops) in the regression model. **R^2** score shows how well terms (data points) fit a curve or line.\n",
    "\n",
    "**R^2** is a statistical measure between 0 and 1 which calculates how similar a regression line is to the data it’s fitted to. If it’s a 1, the model 100% predicts the data variance; if it’s a 0, the model predicts none of the variance. \n",
    "\n",
    "From results viewd above, **Decision Tree Regressor** has the highest R^2 score 0f **96%**, **GradientBoostingRegressor** comes second. \n",
    "\n",
    "\n",
    " I'll also calculate **Adjusted R^2** also indicates how well terms fit a curve or line, but adjusts for the number of terms in a model. If you add more and more useless variables to a model, adjusted r-squared will decrease. If you add more useful variables, adjusted r-squared will increase.\n",
    "Adjusted R2 will always be less than or equal to R2. "
   ]
  },
  {
   "cell_type": "code",
   "execution_count": 46,
   "metadata": {},
   "outputs": [],
   "source": [
    "yield_df_onehot = yield_df_onehot.drop(['Year'], axis=1)"
   ]
  },
  {
   "cell_type": "code",
   "execution_count": 47,
   "metadata": {},
   "outputs": [
    {
     "data": {
      "text/html": [
       "<div>\n",
       "<style scoped>\n",
       "    .dataframe tbody tr th:only-of-type {\n",
       "        vertical-align: middle;\n",
       "    }\n",
       "\n",
       "    .dataframe tbody tr th {\n",
       "        vertical-align: top;\n",
       "    }\n",
       "\n",
       "    .dataframe thead th {\n",
       "        text-align: right;\n",
       "    }\n",
       "</style>\n",
       "<table border=\"1\" class=\"dataframe\">\n",
       "  <thead>\n",
       "    <tr style=\"text-align: right;\">\n",
       "      <th></th>\n",
       "      <th>hg/ha_yield</th>\n",
       "      <th>average_rain_fall_mm_per_year</th>\n",
       "      <th>pesticides_tonnes</th>\n",
       "      <th>avg_temp</th>\n",
       "      <th>Country_Albania</th>\n",
       "      <th>Country_Algeria</th>\n",
       "      <th>Country_Angola</th>\n",
       "      <th>Country_Argentina</th>\n",
       "      <th>Country_Armenia</th>\n",
       "      <th>Country_Australia</th>\n",
       "      <th>...</th>\n",
       "      <th>Item_Cassava</th>\n",
       "      <th>Item_Maize</th>\n",
       "      <th>Item_Plantains and others</th>\n",
       "      <th>Item_Potatoes</th>\n",
       "      <th>Item_Rice, paddy</th>\n",
       "      <th>Item_Sorghum</th>\n",
       "      <th>Item_Soybeans</th>\n",
       "      <th>Item_Sweet potatoes</th>\n",
       "      <th>Item_Wheat</th>\n",
       "      <th>Item_Yams</th>\n",
       "    </tr>\n",
       "  </thead>\n",
       "  <tbody>\n",
       "    <tr>\n",
       "      <th>0</th>\n",
       "      <td>36613</td>\n",
       "      <td>1485.0</td>\n",
       "      <td>121.0</td>\n",
       "      <td>16.37</td>\n",
       "      <td>1</td>\n",
       "      <td>0</td>\n",
       "      <td>0</td>\n",
       "      <td>0</td>\n",
       "      <td>0</td>\n",
       "      <td>0</td>\n",
       "      <td>...</td>\n",
       "      <td>0</td>\n",
       "      <td>1</td>\n",
       "      <td>0</td>\n",
       "      <td>0</td>\n",
       "      <td>0</td>\n",
       "      <td>0</td>\n",
       "      <td>0</td>\n",
       "      <td>0</td>\n",
       "      <td>0</td>\n",
       "      <td>0</td>\n",
       "    </tr>\n",
       "    <tr>\n",
       "      <th>1</th>\n",
       "      <td>66667</td>\n",
       "      <td>1485.0</td>\n",
       "      <td>121.0</td>\n",
       "      <td>16.37</td>\n",
       "      <td>1</td>\n",
       "      <td>0</td>\n",
       "      <td>0</td>\n",
       "      <td>0</td>\n",
       "      <td>0</td>\n",
       "      <td>0</td>\n",
       "      <td>...</td>\n",
       "      <td>0</td>\n",
       "      <td>0</td>\n",
       "      <td>0</td>\n",
       "      <td>1</td>\n",
       "      <td>0</td>\n",
       "      <td>0</td>\n",
       "      <td>0</td>\n",
       "      <td>0</td>\n",
       "      <td>0</td>\n",
       "      <td>0</td>\n",
       "    </tr>\n",
       "    <tr>\n",
       "      <th>2</th>\n",
       "      <td>23333</td>\n",
       "      <td>1485.0</td>\n",
       "      <td>121.0</td>\n",
       "      <td>16.37</td>\n",
       "      <td>1</td>\n",
       "      <td>0</td>\n",
       "      <td>0</td>\n",
       "      <td>0</td>\n",
       "      <td>0</td>\n",
       "      <td>0</td>\n",
       "      <td>...</td>\n",
       "      <td>0</td>\n",
       "      <td>0</td>\n",
       "      <td>0</td>\n",
       "      <td>0</td>\n",
       "      <td>1</td>\n",
       "      <td>0</td>\n",
       "      <td>0</td>\n",
       "      <td>0</td>\n",
       "      <td>0</td>\n",
       "      <td>0</td>\n",
       "    </tr>\n",
       "    <tr>\n",
       "      <th>3</th>\n",
       "      <td>12500</td>\n",
       "      <td>1485.0</td>\n",
       "      <td>121.0</td>\n",
       "      <td>16.37</td>\n",
       "      <td>1</td>\n",
       "      <td>0</td>\n",
       "      <td>0</td>\n",
       "      <td>0</td>\n",
       "      <td>0</td>\n",
       "      <td>0</td>\n",
       "      <td>...</td>\n",
       "      <td>0</td>\n",
       "      <td>0</td>\n",
       "      <td>0</td>\n",
       "      <td>0</td>\n",
       "      <td>0</td>\n",
       "      <td>1</td>\n",
       "      <td>0</td>\n",
       "      <td>0</td>\n",
       "      <td>0</td>\n",
       "      <td>0</td>\n",
       "    </tr>\n",
       "    <tr>\n",
       "      <th>4</th>\n",
       "      <td>7000</td>\n",
       "      <td>1485.0</td>\n",
       "      <td>121.0</td>\n",
       "      <td>16.37</td>\n",
       "      <td>1</td>\n",
       "      <td>0</td>\n",
       "      <td>0</td>\n",
       "      <td>0</td>\n",
       "      <td>0</td>\n",
       "      <td>0</td>\n",
       "      <td>...</td>\n",
       "      <td>0</td>\n",
       "      <td>0</td>\n",
       "      <td>0</td>\n",
       "      <td>0</td>\n",
       "      <td>0</td>\n",
       "      <td>0</td>\n",
       "      <td>1</td>\n",
       "      <td>0</td>\n",
       "      <td>0</td>\n",
       "      <td>0</td>\n",
       "    </tr>\n",
       "  </tbody>\n",
       "</table>\n",
       "<p>5 rows × 115 columns</p>\n",
       "</div>"
      ],
      "text/plain": [
       "   hg/ha_yield  average_rain_fall_mm_per_year  pesticides_tonnes  avg_temp  \\\n",
       "0        36613                         1485.0              121.0     16.37   \n",
       "1        66667                         1485.0              121.0     16.37   \n",
       "2        23333                         1485.0              121.0     16.37   \n",
       "3        12500                         1485.0              121.0     16.37   \n",
       "4         7000                         1485.0              121.0     16.37   \n",
       "\n",
       "   Country_Albania  Country_Algeria  Country_Angola  Country_Argentina  \\\n",
       "0                1                0               0                  0   \n",
       "1                1                0               0                  0   \n",
       "2                1                0               0                  0   \n",
       "3                1                0               0                  0   \n",
       "4                1                0               0                  0   \n",
       "\n",
       "   Country_Armenia  Country_Australia  ...  Item_Cassava  Item_Maize  \\\n",
       "0                0                  0  ...             0           1   \n",
       "1                0                  0  ...             0           0   \n",
       "2                0                  0  ...             0           0   \n",
       "3                0                  0  ...             0           0   \n",
       "4                0                  0  ...             0           0   \n",
       "\n",
       "   Item_Plantains and others  Item_Potatoes  Item_Rice, paddy  Item_Sorghum  \\\n",
       "0                          0              0                 0             0   \n",
       "1                          0              1                 0             0   \n",
       "2                          0              0                 1             0   \n",
       "3                          0              0                 0             1   \n",
       "4                          0              0                 0             0   \n",
       "\n",
       "   Item_Soybeans  Item_Sweet potatoes  Item_Wheat  Item_Yams  \n",
       "0              0                    0           0          0  \n",
       "1              0                    0           0          0  \n",
       "2              0                    0           0          0  \n",
       "3              0                    0           0          0  \n",
       "4              1                    0           0          0  \n",
       "\n",
       "[5 rows x 115 columns]"
      ]
     },
     "execution_count": 47,
     "metadata": {},
     "output_type": "execute_result"
    }
   ],
   "source": [
    "yield_df_onehot.head()"
   ]
  },
  {
   "cell_type": "code",
   "execution_count": 48,
   "metadata": {},
   "outputs": [],
   "source": [
    "#setting test data to columns from dataframe and excluding 'hg/ha_yield' values where ML model should be predicting \n",
    "\n",
    "test_df=pd.DataFrame(test_data,columns=yield_df_onehot.loc[:, yield_df_onehot.columns != 'hg/ha_yield'].columns) \n",
    "\n",
    "# using stack function to return a reshaped DataFrame by pivoting the columns of the current dataframe\n",
    "\n",
    "cntry=test_df[[col for col in test_df.columns if 'Country' in col]].stack()[test_df[[col for col in test_df.columns if 'Country' in col]].stack()>0]\n",
    "cntrylist=list(pd.DataFrame(cntry).index.get_level_values(1))\n",
    "countries=[i.split(\"_\")[1] for i in cntrylist]\n",
    "itm=test_df[[col for col in test_df.columns if 'Item' in col]].stack()[test_df[[col for col in test_df.columns if 'Item' in col]].stack()>0]\n",
    "itmlist=list(pd.DataFrame(itm).index.get_level_values(1))\n",
    "items=[i.split(\"_\")[1] for i in itmlist]"
   ]
  },
  {
   "cell_type": "code",
   "execution_count": 49,
   "metadata": {},
   "outputs": [
    {
     "data": {
      "text/html": [
       "<div>\n",
       "<style scoped>\n",
       "    .dataframe tbody tr th:only-of-type {\n",
       "        vertical-align: middle;\n",
       "    }\n",
       "\n",
       "    .dataframe tbody tr th {\n",
       "        vertical-align: top;\n",
       "    }\n",
       "\n",
       "    .dataframe thead th {\n",
       "        text-align: right;\n",
       "    }\n",
       "</style>\n",
       "<table border=\"1\" class=\"dataframe\">\n",
       "  <thead>\n",
       "    <tr style=\"text-align: right;\">\n",
       "      <th></th>\n",
       "      <th>average_rain_fall_mm_per_year</th>\n",
       "      <th>pesticides_tonnes</th>\n",
       "      <th>avg_temp</th>\n",
       "      <th>Country_Albania</th>\n",
       "      <th>Country_Algeria</th>\n",
       "      <th>Country_Angola</th>\n",
       "      <th>Country_Argentina</th>\n",
       "      <th>Country_Armenia</th>\n",
       "      <th>Country_Australia</th>\n",
       "      <th>Country_Austria</th>\n",
       "      <th>...</th>\n",
       "      <th>Item_Cassava</th>\n",
       "      <th>Item_Maize</th>\n",
       "      <th>Item_Plantains and others</th>\n",
       "      <th>Item_Potatoes</th>\n",
       "      <th>Item_Rice, paddy</th>\n",
       "      <th>Item_Sorghum</th>\n",
       "      <th>Item_Soybeans</th>\n",
       "      <th>Item_Sweet potatoes</th>\n",
       "      <th>Item_Wheat</th>\n",
       "      <th>Item_Yams</th>\n",
       "    </tr>\n",
       "  </thead>\n",
       "  <tbody>\n",
       "    <tr>\n",
       "      <th>0</th>\n",
       "      <td>0.183443</td>\n",
       "      <td>0.110716</td>\n",
       "      <td>0.542078</td>\n",
       "      <td>0.0</td>\n",
       "      <td>0.0</td>\n",
       "      <td>0.0</td>\n",
       "      <td>0.0</td>\n",
       "      <td>0.0</td>\n",
       "      <td>0.0</td>\n",
       "      <td>0.0</td>\n",
       "      <td>...</td>\n",
       "      <td>0.0</td>\n",
       "      <td>0.0</td>\n",
       "      <td>0.0</td>\n",
       "      <td>0.0</td>\n",
       "      <td>1.0</td>\n",
       "      <td>0.0</td>\n",
       "      <td>0.0</td>\n",
       "      <td>0.0</td>\n",
       "      <td>0.0</td>\n",
       "      <td>0.0</td>\n",
       "    </tr>\n",
       "    <tr>\n",
       "      <th>1</th>\n",
       "      <td>0.458451</td>\n",
       "      <td>0.000413</td>\n",
       "      <td>0.627257</td>\n",
       "      <td>0.0</td>\n",
       "      <td>0.0</td>\n",
       "      <td>0.0</td>\n",
       "      <td>0.0</td>\n",
       "      <td>0.0</td>\n",
       "      <td>0.0</td>\n",
       "      <td>0.0</td>\n",
       "      <td>...</td>\n",
       "      <td>0.0</td>\n",
       "      <td>0.0</td>\n",
       "      <td>0.0</td>\n",
       "      <td>0.0</td>\n",
       "      <td>0.0</td>\n",
       "      <td>0.0</td>\n",
       "      <td>0.0</td>\n",
       "      <td>0.0</td>\n",
       "      <td>1.0</td>\n",
       "      <td>0.0</td>\n",
       "    </tr>\n",
       "    <tr>\n",
       "      <th>2</th>\n",
       "      <td>0.183443</td>\n",
       "      <td>0.106159</td>\n",
       "      <td>0.518228</td>\n",
       "      <td>0.0</td>\n",
       "      <td>0.0</td>\n",
       "      <td>0.0</td>\n",
       "      <td>0.0</td>\n",
       "      <td>0.0</td>\n",
       "      <td>0.0</td>\n",
       "      <td>0.0</td>\n",
       "      <td>...</td>\n",
       "      <td>0.0</td>\n",
       "      <td>0.0</td>\n",
       "      <td>0.0</td>\n",
       "      <td>0.0</td>\n",
       "      <td>0.0</td>\n",
       "      <td>1.0</td>\n",
       "      <td>0.0</td>\n",
       "      <td>0.0</td>\n",
       "      <td>0.0</td>\n",
       "      <td>0.0</td>\n",
       "    </tr>\n",
       "    <tr>\n",
       "      <th>3</th>\n",
       "      <td>1.000000</td>\n",
       "      <td>0.224154</td>\n",
       "      <td>0.890971</td>\n",
       "      <td>0.0</td>\n",
       "      <td>0.0</td>\n",
       "      <td>0.0</td>\n",
       "      <td>0.0</td>\n",
       "      <td>0.0</td>\n",
       "      <td>0.0</td>\n",
       "      <td>0.0</td>\n",
       "      <td>...</td>\n",
       "      <td>0.0</td>\n",
       "      <td>0.0</td>\n",
       "      <td>0.0</td>\n",
       "      <td>1.0</td>\n",
       "      <td>0.0</td>\n",
       "      <td>0.0</td>\n",
       "      <td>0.0</td>\n",
       "      <td>0.0</td>\n",
       "      <td>0.0</td>\n",
       "      <td>0.0</td>\n",
       "    </tr>\n",
       "    <tr>\n",
       "      <th>4</th>\n",
       "      <td>0.458451</td>\n",
       "      <td>0.000355</td>\n",
       "      <td>0.625213</td>\n",
       "      <td>0.0</td>\n",
       "      <td>0.0</td>\n",
       "      <td>0.0</td>\n",
       "      <td>0.0</td>\n",
       "      <td>0.0</td>\n",
       "      <td>0.0</td>\n",
       "      <td>0.0</td>\n",
       "      <td>...</td>\n",
       "      <td>0.0</td>\n",
       "      <td>0.0</td>\n",
       "      <td>0.0</td>\n",
       "      <td>0.0</td>\n",
       "      <td>0.0</td>\n",
       "      <td>0.0</td>\n",
       "      <td>0.0</td>\n",
       "      <td>1.0</td>\n",
       "      <td>0.0</td>\n",
       "      <td>0.0</td>\n",
       "    </tr>\n",
       "  </tbody>\n",
       "</table>\n",
       "<p>5 rows × 114 columns</p>\n",
       "</div>"
      ],
      "text/plain": [
       "   average_rain_fall_mm_per_year  pesticides_tonnes  avg_temp  \\\n",
       "0                       0.183443           0.110716  0.542078   \n",
       "1                       0.458451           0.000413  0.627257   \n",
       "2                       0.183443           0.106159  0.518228   \n",
       "3                       1.000000           0.224154  0.890971   \n",
       "4                       0.458451           0.000355  0.625213   \n",
       "\n",
       "   Country_Albania  Country_Algeria  Country_Angola  Country_Argentina  \\\n",
       "0              0.0              0.0             0.0                0.0   \n",
       "1              0.0              0.0             0.0                0.0   \n",
       "2              0.0              0.0             0.0                0.0   \n",
       "3              0.0              0.0             0.0                0.0   \n",
       "4              0.0              0.0             0.0                0.0   \n",
       "\n",
       "   Country_Armenia  Country_Australia  Country_Austria  ...  Item_Cassava  \\\n",
       "0              0.0                0.0              0.0  ...           0.0   \n",
       "1              0.0                0.0              0.0  ...           0.0   \n",
       "2              0.0                0.0              0.0  ...           0.0   \n",
       "3              0.0                0.0              0.0  ...           0.0   \n",
       "4              0.0                0.0              0.0  ...           0.0   \n",
       "\n",
       "   Item_Maize  Item_Plantains and others  Item_Potatoes  Item_Rice, paddy  \\\n",
       "0         0.0                        0.0            0.0               1.0   \n",
       "1         0.0                        0.0            0.0               0.0   \n",
       "2         0.0                        0.0            0.0               0.0   \n",
       "3         0.0                        0.0            1.0               0.0   \n",
       "4         0.0                        0.0            0.0               0.0   \n",
       "\n",
       "   Item_Sorghum  Item_Soybeans  Item_Sweet potatoes  Item_Wheat  Item_Yams  \n",
       "0           0.0            0.0                  0.0         0.0        0.0  \n",
       "1           0.0            0.0                  0.0         1.0        0.0  \n",
       "2           1.0            0.0                  0.0         0.0        0.0  \n",
       "3           0.0            0.0                  0.0         0.0        0.0  \n",
       "4           0.0            0.0                  1.0         0.0        0.0  \n",
       "\n",
       "[5 rows x 114 columns]"
      ]
     },
     "execution_count": 49,
     "metadata": {},
     "output_type": "execute_result"
    }
   ],
   "source": [
    "test_df.head()"
   ]
  },
  {
   "cell_type": "code",
   "execution_count": 50,
   "metadata": {},
   "outputs": [
    {
     "data": {
      "text/html": [
       "<div>\n",
       "<style scoped>\n",
       "    .dataframe tbody tr th:only-of-type {\n",
       "        vertical-align: middle;\n",
       "    }\n",
       "\n",
       "    .dataframe tbody tr th {\n",
       "        vertical-align: top;\n",
       "    }\n",
       "\n",
       "    .dataframe thead th {\n",
       "        text-align: right;\n",
       "    }\n",
       "</style>\n",
       "<table border=\"1\" class=\"dataframe\">\n",
       "  <thead>\n",
       "    <tr style=\"text-align: right;\">\n",
       "      <th></th>\n",
       "      <th>average_rain_fall_mm_per_year</th>\n",
       "      <th>pesticides_tonnes</th>\n",
       "      <th>avg_temp</th>\n",
       "    </tr>\n",
       "  </thead>\n",
       "  <tbody>\n",
       "    <tr>\n",
       "      <th>0</th>\n",
       "      <td>0.183443</td>\n",
       "      <td>0.110716</td>\n",
       "      <td>0.542078</td>\n",
       "    </tr>\n",
       "    <tr>\n",
       "      <th>1</th>\n",
       "      <td>0.458451</td>\n",
       "      <td>0.000413</td>\n",
       "      <td>0.627257</td>\n",
       "    </tr>\n",
       "    <tr>\n",
       "      <th>2</th>\n",
       "      <td>0.183443</td>\n",
       "      <td>0.106159</td>\n",
       "      <td>0.518228</td>\n",
       "    </tr>\n",
       "    <tr>\n",
       "      <th>3</th>\n",
       "      <td>1.000000</td>\n",
       "      <td>0.224154</td>\n",
       "      <td>0.890971</td>\n",
       "    </tr>\n",
       "    <tr>\n",
       "      <th>4</th>\n",
       "      <td>0.458451</td>\n",
       "      <td>0.000355</td>\n",
       "      <td>0.625213</td>\n",
       "    </tr>\n",
       "  </tbody>\n",
       "</table>\n",
       "</div>"
      ],
      "text/plain": [
       "   average_rain_fall_mm_per_year  pesticides_tonnes  avg_temp\n",
       "0                       0.183443           0.110716  0.542078\n",
       "1                       0.458451           0.000413  0.627257\n",
       "2                       0.183443           0.106159  0.518228\n",
       "3                       1.000000           0.224154  0.890971\n",
       "4                       0.458451           0.000355  0.625213"
      ]
     },
     "execution_count": 50,
     "metadata": {},
     "output_type": "execute_result"
    }
   ],
   "source": [
    "test_df.drop([col for col in test_df.columns if 'Item' in col],axis=1,inplace=True)\n",
    "test_df.drop([col for col in test_df.columns if 'Country' in col],axis=1,inplace=True)\n",
    "test_df.head()"
   ]
  },
  {
   "cell_type": "code",
   "execution_count": 51,
   "metadata": {
    "scrolled": true
   },
   "outputs": [
    {
     "data": {
      "text/html": [
       "<div>\n",
       "<style scoped>\n",
       "    .dataframe tbody tr th:only-of-type {\n",
       "        vertical-align: middle;\n",
       "    }\n",
       "\n",
       "    .dataframe tbody tr th {\n",
       "        vertical-align: top;\n",
       "    }\n",
       "\n",
       "    .dataframe thead th {\n",
       "        text-align: right;\n",
       "    }\n",
       "</style>\n",
       "<table border=\"1\" class=\"dataframe\">\n",
       "  <thead>\n",
       "    <tr style=\"text-align: right;\">\n",
       "      <th></th>\n",
       "      <th>average_rain_fall_mm_per_year</th>\n",
       "      <th>pesticides_tonnes</th>\n",
       "      <th>avg_temp</th>\n",
       "      <th>Country</th>\n",
       "      <th>Item</th>\n",
       "    </tr>\n",
       "  </thead>\n",
       "  <tbody>\n",
       "    <tr>\n",
       "      <th>0</th>\n",
       "      <td>0.183443</td>\n",
       "      <td>0.110716</td>\n",
       "      <td>0.542078</td>\n",
       "      <td>Spain</td>\n",
       "      <td>Rice, paddy</td>\n",
       "    </tr>\n",
       "    <tr>\n",
       "      <th>1</th>\n",
       "      <td>0.458451</td>\n",
       "      <td>0.000413</td>\n",
       "      <td>0.627257</td>\n",
       "      <td>Madagascar</td>\n",
       "      <td>Wheat</td>\n",
       "    </tr>\n",
       "    <tr>\n",
       "      <th>2</th>\n",
       "      <td>0.183443</td>\n",
       "      <td>0.106159</td>\n",
       "      <td>0.518228</td>\n",
       "      <td>Spain</td>\n",
       "      <td>Sorghum</td>\n",
       "    </tr>\n",
       "    <tr>\n",
       "      <th>3</th>\n",
       "      <td>1.000000</td>\n",
       "      <td>0.224154</td>\n",
       "      <td>0.890971</td>\n",
       "      <td>Colombia</td>\n",
       "      <td>Potatoes</td>\n",
       "    </tr>\n",
       "    <tr>\n",
       "      <th>4</th>\n",
       "      <td>0.458451</td>\n",
       "      <td>0.000355</td>\n",
       "      <td>0.625213</td>\n",
       "      <td>Madagascar</td>\n",
       "      <td>Sweet potatoes</td>\n",
       "    </tr>\n",
       "  </tbody>\n",
       "</table>\n",
       "</div>"
      ],
      "text/plain": [
       "   average_rain_fall_mm_per_year  pesticides_tonnes  avg_temp     Country  \\\n",
       "0                       0.183443           0.110716  0.542078       Spain   \n",
       "1                       0.458451           0.000413  0.627257  Madagascar   \n",
       "2                       0.183443           0.106159  0.518228       Spain   \n",
       "3                       1.000000           0.224154  0.890971    Colombia   \n",
       "4                       0.458451           0.000355  0.625213  Madagascar   \n",
       "\n",
       "             Item  \n",
       "0     Rice, paddy  \n",
       "1           Wheat  \n",
       "2         Sorghum  \n",
       "3        Potatoes  \n",
       "4  Sweet potatoes  "
      ]
     },
     "execution_count": 51,
     "metadata": {},
     "output_type": "execute_result"
    }
   ],
   "source": [
    "test_df['Country']=countries\n",
    "test_df['Item']=items\n",
    "test_df.head()"
   ]
  },
  {
   "cell_type": "code",
   "execution_count": 52,
   "metadata": {
    "scrolled": true
   },
   "outputs": [
    {
     "data": {
      "text/plain": [
       "Item\n",
       "Cassava                 0.928092\n",
       "Maize                   0.893807\n",
       "Plantains and others    0.804077\n",
       "Potatoes                0.911331\n",
       "Rice, paddy             0.891482\n",
       "Sorghum                 0.787841\n",
       "Soybeans                0.820066\n",
       "Sweet potatoes          0.848973\n",
       "Wheat                   0.922755\n",
       "Yams                    0.928351\n",
       "dtype: float64"
      ]
     },
     "execution_count": 52,
     "metadata": {},
     "output_type": "execute_result"
    }
   ],
   "source": [
    "clf=DecisionTreeRegressor()\n",
    "model=clf.fit(train_data,train_labels)\n",
    "\n",
    "test_df[\"yield_predicted\"]= model.predict(test_data)\n",
    "test_df[\"yield_actual\"]=pd.DataFrame(test_labels)[\"hg/ha_yield\"].tolist()\n",
    "test_group=test_df.groupby(\"Item\")\n",
    "test_group.apply(lambda x: r2_score(x.yield_actual,x.yield_predicted))"
   ]
  },
  {
   "cell_type": "code",
   "execution_count": 53,
   "metadata": {},
   "outputs": [
    {
     "data": {
      "image/png": "[encoded data removed]",
      "text/plain": [
       "<Figure size 432x288 with 1 Axes>"
      ]
     },
     "metadata": {
      "needs_background": "light"
     },
     "output_type": "display_data"
    }
   ],
   "source": [
    "# So let's run the model actual values against the predicted ones \n",
    "\n",
    "fig, ax = plt.subplots() \n",
    "\n",
    "ax.scatter(test_df[\"yield_actual\"], test_df[\"yield_predicted\"],edgecolors=(0, 0, 0))\n",
    "\n",
    "ax.set_xlabel('Actual')\n",
    "ax.set_ylabel('Predicted')\n",
    "ax.set_title(\"Actual vs Predicted\")\n",
    "plt.show()"
   ]
  },
  {
   "cell_type": "markdown",
   "metadata": {},
   "source": [
    "The figure above shows the goodness of the fit with the predictions visualized as a line. It can be seen that R Square score is excellent. This means that we have found a good fitting model to predict the crops yield value for a certain country. Adding more features, like climate data; wind and pollution, the economical situation of a given country and so on will probably enhance the model’s predictions. \n"
   ]
  },
  {
   "cell_type": "code",
   "execution_count": 54,
   "metadata": {
    "scrolled": true
   },
   "outputs": [
    {
     "data": {
      "text/plain": [
       "Item\n",
       "Cassava                 0.927158\n",
       "Maize                   0.893121\n",
       "Plantains and others    0.793965\n",
       "Potatoes                0.910785\n",
       "Rice, paddy             0.890579\n",
       "Sorghum                 0.785940\n",
       "Soybeans                0.818606\n",
       "Sweet potatoes          0.847566\n",
       "Wheat                   0.922216\n",
       "Yams                    0.925837\n",
       "dtype: float64"
      ]
     },
     "execution_count": 54,
     "metadata": {},
     "output_type": "execute_result"
    }
   ],
   "source": [
    "def adjusted_r_squared(y,yhat,x):\n",
    "    score=1- (((1-(r2_score(y,yhat)))*(len(y)-1))/(len(y)-x.shape[1]-2))\n",
    "    return score\n",
    "\n",
    "test_group.apply(lambda x: adjusted_r_squared(x.yield_actual,x.yield_predicted,x))"
   ]
  },
  {
   "cell_type": "markdown",
   "metadata": {},
   "source": [
    "References\n",
    "https://towardsdatascience.com/the-mathematics-of-decision-trees-random-forest-and-feature-importance-in-scikit-learn-and-spark-f2861df67e3\n",
    "\n",
    "https://gdcoder.com/decision-tree-regressor-explained-in-depth/\n",
    "\n",
    "http://www.fao.org/home/en/\n",
    "\n",
    "https://data.worldbank.org/\n",
    "\n",
    "https://chrisalbon.com/machine_learning/trees_and_forests/decision_tree_regression/\n",
    "\n"
   ]
  }
 ],
 "metadata": {
  "kernelspec": {
   "display_name": "Python 3 (ipykernel)",
   "language": "python",
   "name": "python3"
  },
  "language_info": {
   "codemirror_mode": {
    "name": "ipython",
    "version": 3
   },
   "file_extension": ".py",
   "mimetype": "text/x-python",
   "name": "python",
   "nbconvert_exporter": "python",
   "pygments_lexer": "ipython3",
   "version": "3.8.10"
  }
 },
 "nbformat": 4,
 "nbformat_minor": 2
}
