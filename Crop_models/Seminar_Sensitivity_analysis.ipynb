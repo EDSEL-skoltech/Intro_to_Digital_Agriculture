{
 "cells": [
  {
   "cell_type": "markdown",
   "metadata": {
    "colab_type": "text",
    "id": "7M3sjbWCff8u"
   },
   "source": [
    "# Introduction to Digital agro \n",
    "\n",
    "## Sensitivity Analysis of crop models\n",
    "\n",
    "____\n",
    "\n",
    "### Mikhail Gasanov\n",
    "\n",
    "E-mail: Mikhail.Gasanov[a]skoltech.ru\n",
    "\n",
    "tg:@misha_grol"
   ]
  },
  {
   "cell_type": "markdown",
   "metadata": {
    "colab_type": "text",
    "id": "Wq03bRoDff8y"
   },
   "source": [
    "\n",
    "## Clone utils and files from GitHub"
   ]
  },
  {
   "cell_type": "code",
   "execution_count": 2,
   "metadata": {
    "colab": {
     "base_uri": "https://localhost:8080/",
     "height": 149
    },
    "colab_type": "code",
    "id": "Jp5PPrbBAHzf",
    "outputId": "77cdc600-09f2-4bb7-8eae-3ea815bb8189"
   },
   "outputs": [],
   "source": [
    "# !git clone https://github.com/EDSEL-skoltech/Intro_to_Digital_Agriculture.git\n",
    "# %cd ./Intro_to_Digital_Agriculture/Crop_models \n",
    "# !pip install SALib\n",
    "# !pip install git+https://github.com/mishagrol/pcse"
   ]
  },
  {
   "cell_type": "code",
   "execution_count": 54,
   "metadata": {},
   "outputs": [
    {
     "name": "stdout",
     "output_type": "stream",
     "text": [
      "This notebook was built with:\n",
      "python version: 3.6.11 | packaged by conda-forge | (default, Aug  5 2020, 20:19:23) \n",
      "[GCC Clang 10.0.1 ] \n",
      "PCSE version: 5.4.2\n"
     ]
    }
   ],
   "source": [
    "%matplotlib inline\n",
    "import sys, os\n",
    "import pcse\n",
    "import pandas as pd\n",
    "import numpy as np\n",
    "import matplotlib\n",
    "import yaml\n",
    "matplotlib.style.use(\"ggplot\")\n",
    "import matplotlib.pyplot as plt\n",
    "from tqdm.notebook import tqdm\n",
    "\n",
    "from pcse.models import Wofost71_PP\n",
    "from pcse.base import ParameterProvider\n",
    "from pcse.db import NASAPowerWeatherDataProvider\n",
    "from pcse.fileinput import YAMLCropDataProvider\n",
    "from pcse.util import WOFOST71SiteDataProvider, DummySoilDataProvider\n",
    "\n",
    "\n",
    "print(\"This notebook was built with:\")\n",
    "print(\"python version: %s \" % sys.version)\n",
    "print(\"PCSE version: %s\" %  pcse.__version__)"
   ]
  },
  {
   "cell_type": "code",
   "execution_count": 14,
   "metadata": {},
   "outputs": [],
   "source": [
    "import warnings\n",
    "warnings.filterwarnings(\"ignore\")"
   ]
  },
  {
   "cell_type": "markdown",
   "metadata": {
    "colab_type": "text",
    "id": "UOsFYjiOff-o"
   },
   "source": [
    "# Sensitivity analysis of models\n",
    "___\n",
    "\n"
   ]
  },
  {
   "cell_type": "markdown",
   "metadata": {},
   "source": [
    "<img src=\"http://drive.google.com/uc?export=view&id=1uijz-Bm9Mxwv8eI6CL8QsumiP7ISqnFo\">\n",
    "<!-- <img src=\"http://drive.google.com/uc?export=view&id=1dPvni3r4B3FqMFKugxtT8GfH1_W1jNNR\"> -->\n"
   ]
  },
  {
   "cell_type": "markdown",
   "metadata": {},
   "source": [
    "## WOFOST parameters"
   ]
  },
  {
   "cell_type": "code",
   "execution_count": 15,
   "metadata": {},
   "outputs": [
    {
     "data": {
      "text/html": [
       "<div>\n",
       "<style scoped>\n",
       "    .dataframe tbody tr th:only-of-type {\n",
       "        vertical-align: middle;\n",
       "    }\n",
       "\n",
       "    .dataframe tbody tr th {\n",
       "        vertical-align: top;\n",
       "    }\n",
       "\n",
       "    .dataframe thead th {\n",
       "        text-align: right;\n",
       "    }\n",
       "</style>\n",
       "<table border=\"1\" class=\"dataframe\">\n",
       "  <thead>\n",
       "    <tr style=\"text-align: right;\">\n",
       "      <th></th>\n",
       "      <th>Name</th>\n",
       "      <th>Typical Value</th>\n",
       "      <th>Category</th>\n",
       "      <th>Description</th>\n",
       "      <th>Unit</th>\n",
       "    </tr>\n",
       "  </thead>\n",
       "  <tbody>\n",
       "    <tr>\n",
       "      <th>0</th>\n",
       "      <td>CFET</td>\n",
       "      <td>1.000</td>\n",
       "      <td>Water use</td>\n",
       "      <td>correction factor for evapotranspiration</td>\n",
       "      <td>-</td>\n",
       "    </tr>\n",
       "    <tr>\n",
       "      <th>1</th>\n",
       "      <td>CVL</td>\n",
       "      <td>0.720</td>\n",
       "      <td>Conversion of assimilates into biomass</td>\n",
       "      <td>efficiency conversion of assimilates into leaf...</td>\n",
       "      <td>kg / kg</td>\n",
       "    </tr>\n",
       "    <tr>\n",
       "      <th>2</th>\n",
       "      <td>CVO</td>\n",
       "      <td>0.820</td>\n",
       "      <td>Conversion of assimilates into biomass</td>\n",
       "      <td>efficiency conversion of assimilates into stor...</td>\n",
       "      <td>kg / kg</td>\n",
       "    </tr>\n",
       "    <tr>\n",
       "      <th>3</th>\n",
       "      <td>CVR</td>\n",
       "      <td>0.720</td>\n",
       "      <td>Conversion of assimilates into biomass</td>\n",
       "      <td>efficiency conversion of assimilates into root...</td>\n",
       "      <td>kg / kg</td>\n",
       "    </tr>\n",
       "    <tr>\n",
       "      <th>4</th>\n",
       "      <td>CVS</td>\n",
       "      <td>0.690</td>\n",
       "      <td>Conversion of assimilates into biomass</td>\n",
       "      <td>efficiency conversion of assimilates into stem...</td>\n",
       "      <td>kg / kg</td>\n",
       "    </tr>\n",
       "    <tr>\n",
       "      <th>5</th>\n",
       "      <td>DLC</td>\n",
       "      <td>16.000</td>\n",
       "      <td>Phenology</td>\n",
       "      <td>critical day length for development (lower thr...</td>\n",
       "      <td>hours</td>\n",
       "    </tr>\n",
       "    <tr>\n",
       "      <th>6</th>\n",
       "      <td>DLO</td>\n",
       "      <td>8.000</td>\n",
       "      <td>Phenology</td>\n",
       "      <td>optimum day length for development</td>\n",
       "      <td>hours</td>\n",
       "    </tr>\n",
       "    <tr>\n",
       "      <th>7</th>\n",
       "      <td>PERDL</td>\n",
       "      <td>0.030</td>\n",
       "      <td>Death rates</td>\n",
       "      <td>max. relative death rate of leaves due to wate...</td>\n",
       "      <td>-</td>\n",
       "    </tr>\n",
       "    <tr>\n",
       "      <th>8</th>\n",
       "      <td>Q10</td>\n",
       "      <td>2.000</td>\n",
       "      <td>Maintenance respiration</td>\n",
       "      <td>increase of the respiration rate per 10 °C tem...</td>\n",
       "      <td>-</td>\n",
       "    </tr>\n",
       "    <tr>\n",
       "      <th>9</th>\n",
       "      <td>RDI</td>\n",
       "      <td>10.000</td>\n",
       "      <td>Water use</td>\n",
       "      <td>initial rooting depth</td>\n",
       "      <td>cm</td>\n",
       "    </tr>\n",
       "    <tr>\n",
       "      <th>10</th>\n",
       "      <td>RDMCR</td>\n",
       "      <td>120.000</td>\n",
       "      <td>Water use</td>\n",
       "      <td>crop-dependent maximum rooting depth</td>\n",
       "      <td>cm</td>\n",
       "    </tr>\n",
       "    <tr>\n",
       "      <th>11</th>\n",
       "      <td>RGRLAI</td>\n",
       "      <td>0.016</td>\n",
       "      <td>Initial state</td>\n",
       "      <td>max. relative increase in leaf area index</td>\n",
       "      <td>day-1</td>\n",
       "    </tr>\n",
       "    <tr>\n",
       "      <th>12</th>\n",
       "      <td>RML</td>\n",
       "      <td>0.030</td>\n",
       "      <td>Maintenance respiration</td>\n",
       "      <td>maintenance respiration rate coefficient of le...</td>\n",
       "      <td>day-1</td>\n",
       "    </tr>\n",
       "    <tr>\n",
       "      <th>13</th>\n",
       "      <td>RMO</td>\n",
       "      <td>0.003</td>\n",
       "      <td>Maintenance respiration</td>\n",
       "      <td>maintenance respiration rate coefficient of st...</td>\n",
       "      <td>day-1</td>\n",
       "    </tr>\n",
       "    <tr>\n",
       "      <th>14</th>\n",
       "      <td>RMR</td>\n",
       "      <td>0.015</td>\n",
       "      <td>Maintenance respiration</td>\n",
       "      <td>maintenance respiration rate coefficient of ro...</td>\n",
       "      <td>day-1</td>\n",
       "    </tr>\n",
       "    <tr>\n",
       "      <th>15</th>\n",
       "      <td>RMS</td>\n",
       "      <td>0.015</td>\n",
       "      <td>Maintenance respiration</td>\n",
       "      <td>maintenance respiration rate coefficient of st...</td>\n",
       "      <td>day-1</td>\n",
       "    </tr>\n",
       "    <tr>\n",
       "      <th>16</th>\n",
       "      <td>SPA</td>\n",
       "      <td>0.000</td>\n",
       "      <td>Crop green area</td>\n",
       "      <td>specific pod area</td>\n",
       "      <td>ha / kg</td>\n",
       "    </tr>\n",
       "    <tr>\n",
       "      <th>17</th>\n",
       "      <td>SPAN</td>\n",
       "      <td>37.000</td>\n",
       "      <td>Crop green area</td>\n",
       "      <td>life span of leaves growing at 35 Celsius</td>\n",
       "      <td>day</td>\n",
       "    </tr>\n",
       "    <tr>\n",
       "      <th>18</th>\n",
       "      <td>TBASE</td>\n",
       "      <td>3.000</td>\n",
       "      <td>Crop green area</td>\n",
       "      <td>lower threshold temperature for physiological ...</td>\n",
       "      <td>˚C</td>\n",
       "    </tr>\n",
       "    <tr>\n",
       "      <th>19</th>\n",
       "      <td>TBASEM</td>\n",
       "      <td>3.000</td>\n",
       "      <td>Crop green area</td>\n",
       "      <td>lower threshold temperature for emergence</td>\n",
       "      <td>˚C</td>\n",
       "    </tr>\n",
       "    <tr>\n",
       "      <th>20</th>\n",
       "      <td>TDWI</td>\n",
       "      <td>0.510</td>\n",
       "      <td>Initial state</td>\n",
       "      <td>initial total crop dry weight</td>\n",
       "      <td>kg / ha</td>\n",
       "    </tr>\n",
       "    <tr>\n",
       "      <th>21</th>\n",
       "      <td>TEFFMX</td>\n",
       "      <td>20.000</td>\n",
       "      <td>Emergence</td>\n",
       "      <td>max. effective temperature for emergence</td>\n",
       "      <td>˚C</td>\n",
       "    </tr>\n",
       "    <tr>\n",
       "      <th>22</th>\n",
       "      <td>TSUM1</td>\n",
       "      <td>800.000</td>\n",
       "      <td>Phenological development</td>\n",
       "      <td>temperature sum from emergence to anthesis</td>\n",
       "      <td>˚C day</td>\n",
       "    </tr>\n",
       "    <tr>\n",
       "      <th>23</th>\n",
       "      <td>TSUM2</td>\n",
       "      <td>1400.000</td>\n",
       "      <td>Phenological development</td>\n",
       "      <td>temperature sum from anthesis to maturity</td>\n",
       "      <td>˚C day</td>\n",
       "    </tr>\n",
       "    <tr>\n",
       "      <th>24</th>\n",
       "      <td>TSUMEM</td>\n",
       "      <td>90.000</td>\n",
       "      <td>Emergence</td>\n",
       "      <td>temperature sum from sowing to emergence</td>\n",
       "      <td>˚C day</td>\n",
       "    </tr>\n",
       "    <tr>\n",
       "      <th>25</th>\n",
       "      <td>VERNBASE</td>\n",
       "      <td>14.000</td>\n",
       "      <td>Phenological development</td>\n",
       "      <td>base vernalization requirement</td>\n",
       "      <td>day</td>\n",
       "    </tr>\n",
       "    <tr>\n",
       "      <th>26</th>\n",
       "      <td>VERNDVS</td>\n",
       "      <td>0.300</td>\n",
       "      <td>Phenological development</td>\n",
       "      <td>critical DVS for vernalization to switch off</td>\n",
       "      <td>-</td>\n",
       "    </tr>\n",
       "    <tr>\n",
       "      <th>27</th>\n",
       "      <td>VERNSAT</td>\n",
       "      <td>70.000</td>\n",
       "      <td>Phenological development</td>\n",
       "      <td>saturated vernalization requirement</td>\n",
       "      <td>day</td>\n",
       "    </tr>\n",
       "  </tbody>\n",
       "</table>\n",
       "</div>"
      ],
      "text/plain": [
       "        Name  Typical Value                                Category  \\\n",
       "0       CFET          1.000                               Water use   \n",
       "1        CVL          0.720  Conversion of assimilates into biomass   \n",
       "2        CVO          0.820  Conversion of assimilates into biomass   \n",
       "3        CVR          0.720  Conversion of assimilates into biomass   \n",
       "4        CVS          0.690  Conversion of assimilates into biomass   \n",
       "5        DLC         16.000                               Phenology   \n",
       "6        DLO          8.000                               Phenology   \n",
       "7      PERDL          0.030                             Death rates   \n",
       "8        Q10          2.000                 Maintenance respiration   \n",
       "9        RDI         10.000                               Water use   \n",
       "10     RDMCR        120.000                               Water use   \n",
       "11    RGRLAI          0.016                           Initial state   \n",
       "12       RML          0.030                 Maintenance respiration   \n",
       "13       RMO          0.003                 Maintenance respiration   \n",
       "14       RMR          0.015                 Maintenance respiration   \n",
       "15       RMS          0.015                 Maintenance respiration   \n",
       "16       SPA          0.000                         Crop green area   \n",
       "17      SPAN         37.000                         Crop green area   \n",
       "18     TBASE          3.000                         Crop green area   \n",
       "19    TBASEM          3.000                         Crop green area   \n",
       "20      TDWI          0.510                           Initial state   \n",
       "21    TEFFMX         20.000                               Emergence   \n",
       "22     TSUM1        800.000                Phenological development   \n",
       "23     TSUM2       1400.000                Phenological development   \n",
       "24    TSUMEM         90.000                               Emergence   \n",
       "25  VERNBASE         14.000                Phenological development   \n",
       "26   VERNDVS          0.300                Phenological development   \n",
       "27   VERNSAT         70.000                Phenological development   \n",
       "\n",
       "                                          Description     Unit  \n",
       "0            correction factor for evapotranspiration        -  \n",
       "1   efficiency conversion of assimilates into leaf...  kg / kg  \n",
       "2   efficiency conversion of assimilates into stor...  kg / kg  \n",
       "3   efficiency conversion of assimilates into root...  kg / kg  \n",
       "4   efficiency conversion of assimilates into stem...  kg / kg  \n",
       "5   critical day length for development (lower thr...    hours  \n",
       "6                  optimum day length for development    hours  \n",
       "7   max. relative death rate of leaves due to wate...        -  \n",
       "8   increase of the respiration rate per 10 °C tem...        -  \n",
       "9                               initial rooting depth       cm  \n",
       "10               crop-dependent maximum rooting depth       cm  \n",
       "11          max. relative increase in leaf area index    day-1  \n",
       "12  maintenance respiration rate coefficient of le...    day-1  \n",
       "13  maintenance respiration rate coefficient of st...    day-1  \n",
       "14  maintenance respiration rate coefficient of ro...    day-1  \n",
       "15  maintenance respiration rate coefficient of st...    day-1  \n",
       "16                                  specific pod area  ha / kg  \n",
       "17          life span of leaves growing at 35 Celsius      day  \n",
       "18  lower threshold temperature for physiological ...       ˚C  \n",
       "19          lower threshold temperature for emergence       ˚C  \n",
       "20                      initial total crop dry weight  kg / ha  \n",
       "21           max. effective temperature for emergence       ˚C  \n",
       "22         temperature sum from emergence to anthesis   ˚C day  \n",
       "23          temperature sum from anthesis to maturity   ˚C day  \n",
       "24           temperature sum from sowing to emergence   ˚C day  \n",
       "25                     base vernalization requirement      day  \n",
       "26       critical DVS for vernalization to switch off        -  \n",
       "27                saturated vernalization requirement      day  "
      ]
     },
     "metadata": {},
     "output_type": "display_data"
    }
   ],
   "source": [
    "df = pd.read_excel(\"./data/ScalarParametersOfWofost-Potential.xlsx\")\n",
    "display(df)"
   ]
  },
  {
   "cell_type": "markdown",
   "metadata": {},
   "source": [
    "## Sobol’ Sequences versus Random numbers and regular grid\n"
   ]
  },
  {
   "cell_type": "markdown",
   "metadata": {},
   "source": [
    "<img src=\"http://drive.google.com/uc?export=view&id=1ezjA8aa50P08EUybwdDyo8JKCP7lU7zw\">"
   ]
  },
  {
   "cell_type": "code",
   "execution_count": 16,
   "metadata": {
    "colab": {},
    "colab_type": "code",
    "id": "gnfye784nEKx"
   },
   "outputs": [],
   "source": [
    "from SALib.sample import saltelli\n",
    "from SALib.analyze import sobol\n",
    "from SALib.test_functions import Ishigami\n"
   ]
  },
  {
   "cell_type": "markdown",
   "metadata": {
    "colab_type": "text",
    "id": "8NA-bZpWQi0f"
   },
   "source": [
    "__Docs [SALib](https://salib.readthedocs.io/en/latest/#)__"
   ]
  },
  {
   "cell_type": "markdown",
   "metadata": {
    "colab_type": "text",
    "id": "l4W7QknHnRud"
   },
   "source": [
    "In this example, we will perform a Sobol’ sensitivity analysis of the _Ishigami_ function, shown below. The _Ishigami_ function is commonly used to test uncertainty and sensitivity analysis methods because it exhibits strong nonlinearity and nonmonotonicity."
   ]
  },
  {
   "cell_type": "markdown",
   "metadata": {
    "colab_type": "text",
    "id": "iUoSwcBJnE5n"
   },
   "source": [
    "$f(x)=\\sin \\left(x_{1}\\right)+ \\text{a}\\, \\operatorname{sin}^{2}\\left(x_{2}\\right)+ \\text{b}\\,  x_{3}^{4} \\sin \\left(x_{1}\\right)$"
   ]
  },
  {
   "cell_type": "code",
   "execution_count": 32,
   "metadata": {
    "colab": {},
    "colab_type": "code",
    "id": "DBW4m3p8ff-u"
   },
   "outputs": [],
   "source": [
    "problem = {\n",
    "  'num_vars': 3,\n",
    "  'names': ['x1', 'x2', 'x3'],\n",
    "  'bounds': [[-np.pi, np.pi]]*3\n",
    "}"
   ]
  },
  {
   "cell_type": "code",
   "execution_count": 36,
   "metadata": {
    "colab": {
     "base_uri": "https://localhost:8080/",
     "height": 36
    },
    "colab_type": "code",
    "id": "sYxbSlYbsiyz",
    "outputId": "43781abd-3325-48fd-fa3e-f0de80fe24bd"
   },
   "outputs": [
    {
     "data": {
      "text/plain": [
       "(8000, 3)"
      ]
     },
     "execution_count": 36,
     "metadata": {},
     "output_type": "execute_result"
    }
   ],
   "source": [
    "# Generate samples\n",
    "param_values = saltelli.sample(problem, 10, calc_second_order=True)\n",
    "param_values.shape"
   ]
  },
  {
   "cell_type": "markdown",
   "metadata": {
    "colab_type": "text",
    "id": "Vr5zlk3off-y"
   },
   "source": [
    "Here, `param_values` is a NumPy matrix. If we run `param_values.shape`, we see that the matrix is **8000 by 3**. The Saltelli sampler generated 8000 samples. The Saltelli sampler generates $N∗(2D+2)$ samples, where in this example $N$ is 1000 (the argument we supplied) and $D$ is 3 (the number of model inputs). The keyword argument `calc_second_order=False` will exclude second-order indices, resulting in a smaller sample matrix with $N∗(D+2)$ rows instead.\n"
   ]
  },
  {
   "cell_type": "code",
   "execution_count": 37,
   "metadata": {
    "colab": {
     "base_uri": "https://localhost:8080/",
     "height": 187
    },
    "colab_type": "code",
    "id": "bQ9e0-w_ff-z",
    "outputId": "0a6e2cd1-eb3b-4e96-ef44-96a5af1cf384"
   },
   "outputs": [
    {
     "name": "stdout",
     "output_type": "stream",
     "text": [
      "Parameter S1 S1_conf ST ST_conf\n",
      "x1 0.307975 0.060295 0.560137 0.096384\n",
      "x2 0.447767 0.050511 0.438722 0.039817\n",
      "x3 -0.004255 0.057172 0.242845 0.024133\n",
      "\n",
      "Parameter_1 Parameter_2 S2 S2_conf\n",
      "x1 x2 0.012205 0.086730\n",
      "x1 x3 0.251526 0.085752\n",
      "x2 x3 -0.009954 0.065483\n"
     ]
    }
   ],
   "source": [
    "# Run model (example)\n",
    "Y = Ishigami.evaluate(param_values)\n",
    "\n",
    "# Perform analysis\n",
    "Si = sobol.analyze(problem, Y, print_to_console=True)\n",
    "# Returns a dictionary with keys 'S1', 'S1_conf', 'ST', and 'ST_conf'\n",
    "# (first and total-order indices with bootstrap confidence intervals)\n",
    "T_Si, first_Si, (idx, second_Si) = sobol.Si_to_pandas_dict(Si)"
   ]
  },
  {
   "cell_type": "code",
   "execution_count": 38,
   "metadata": {},
   "outputs": [
    {
     "data": {
      "text/html": [
       "<div>\n",
       "<style scoped>\n",
       "    .dataframe tbody tr th:only-of-type {\n",
       "        vertical-align: middle;\n",
       "    }\n",
       "\n",
       "    .dataframe tbody tr th {\n",
       "        vertical-align: top;\n",
       "    }\n",
       "\n",
       "    .dataframe thead th {\n",
       "        text-align: right;\n",
       "    }\n",
       "</style>\n",
       "<table border=\"1\" class=\"dataframe\">\n",
       "  <thead>\n",
       "    <tr style=\"text-align: right;\">\n",
       "      <th></th>\n",
       "      <th>S1</th>\n",
       "      <th>ST</th>\n",
       "      <th>S1_conf</th>\n",
       "      <th>ST_conf</th>\n",
       "    </tr>\n",
       "  </thead>\n",
       "  <tbody>\n",
       "    <tr>\n",
       "      <th>0</th>\n",
       "      <td>0.307975</td>\n",
       "      <td>0.560137</td>\n",
       "      <td>0.060295</td>\n",
       "      <td>0.096384</td>\n",
       "    </tr>\n",
       "    <tr>\n",
       "      <th>1</th>\n",
       "      <td>0.447767</td>\n",
       "      <td>0.438722</td>\n",
       "      <td>0.050511</td>\n",
       "      <td>0.039817</td>\n",
       "    </tr>\n",
       "    <tr>\n",
       "      <th>2</th>\n",
       "      <td>-0.004255</td>\n",
       "      <td>0.242845</td>\n",
       "      <td>0.057172</td>\n",
       "      <td>0.024133</td>\n",
       "    </tr>\n",
       "  </tbody>\n",
       "</table>\n",
       "</div>"
      ],
      "text/plain": [
       "         S1        ST   S1_conf   ST_conf\n",
       "0  0.307975  0.560137  0.060295  0.096384\n",
       "1  0.447767  0.438722  0.050511  0.039817\n",
       "2 -0.004255  0.242845  0.057172  0.024133"
      ]
     },
     "execution_count": 38,
     "metadata": {},
     "output_type": "execute_result"
    }
   ],
   "source": [
    "Si_dict = dict(Si) \n",
    "sensitivity_indices = ['S1', 'ST', 'S1_conf', 'ST_conf']\n",
    "Si_df = pd.DataFrame()\n",
    "for SI in sensitivity_indices:\n",
    "    Si_df = Si_df.append(pd.Series(Si_dict[SI]), ignore_index=True)\n",
    "\n",
    "Si_df = Si_df.T\n",
    "Si_df.columns = sensitivity_indices\n",
    "Si_df"
   ]
  },
  {
   "cell_type": "markdown",
   "metadata": {
    "colab_type": "text",
    "id": "xb2Ag_6g_TAd"
   },
   "source": [
    "Consider the model output as\n",
    "\\begin{eqnarray*}\n",
    "Y=f(X)=f\\left(X_{1}, \\ldots, X_{p}\\right),\n",
    "\\end{eqnarray*}\n",
    "where $f$ in our case part of agro-model simulator, $X$ are $p$ varied input parameters and $Y$ is the predicted output. Following the techniques by Sobol we represent the multi-variate random function $f$ using Hoeffding decomposition:\n",
    "\\begin{equation}\n",
    "f(X_1,\\dots,X_p) = f_0 + \\sum_i^p f_i + \\sum_i^p\\sum_{j>i}^p f_{ij} + \\dots + f_{1\\dots p},\n",
    "\\end{equation}\n",
    "where $f_0$ is a constant term, $f_i = f_i(X_i)$ denotes main effects, $f_{ij} = f_{ij}(X_i, X_j)$ and others describe higher-order interactions. These terms can be written as\n",
    "\\begin{equation*}\n",
    "\\begin{split}\n",
    "f_0 &= E(Y),\\\\\n",
    "f_i &= E_{X_{\\sim i}}(Y | X_i) - E(Y),\\\\\n",
    "f_{ij} &= E_{X_{\\sim ij}}(Y | X_i, X_j) - f_i - f_j - f_0,\\\\\n",
    "\\dots\n",
    "\\end{split}\n",
    "\\end{equation*}\n",
    "where $E$ is mathematical expectation and $X_{\\sim i}$ denotes all parameters except $i^\\text{th}$. Under the assumption that the input parameters are independent, total variance $V(Y)$ of the crop yield can be decomposed as follows:\n",
    "\\begin{equation*}\n",
    "V(Y) = \\sum_i^p V_i + \\sum_i^p\\sum_{j>i}^p V_{ij} + \\dots + V_{12\\dots p},\n",
    "\\end{equation*}\n",
    "where partial variances are\n",
    "\\begin{equation*}\n",
    "\\begin{split}\n",
    "V_i &= V[f_i(X_i)] = V_{X_i}\\left[E_{X_{\\sim i}}(Y | X_i)\\right],\\\\\n",
    "V_{ij} &= V[f_{ij}(X_i,X_j)] = V_{X_iX_j}\\left[E_{X_{\\sim ij}}(Y | X_i, X_j)\\right] - V_i - V_j,\\\\\n",
    "\\dots\n",
    "\\end{split}\n",
    "\\end{equation*}"
   ]
  },
  {
   "cell_type": "markdown",
   "metadata": {
    "colab_type": "text",
    "id": "lRL6RZj6_kFd"
   },
   "source": [
    "## Sobol index (first order, second order, total index)"
   ]
  },
  {
   "cell_type": "markdown",
   "metadata": {
    "colab_type": "text",
    "id": "DaeCBQQF_b5f"
   },
   "source": [
    "This way, sensitivity indices (SI) can be introduced as \n",
    "\\begin{equation}\n",
    "\\Large\n",
    "S_i = \\frac{V_i}{V(Y)},~S_{ij} = \\frac{V_{ij}}{V(Y)},~\\dots\n",
    "\\end{equation}\n",
    "In order to incorporate all of the interactions for a particular parameter, one can compute the total effect index:\n",
    "\\begin{equation}\n",
    "S_{T_i} = \\frac{E_{X_{\\sim i}}\\left[V_{X_i}(Y|X_{\\sim i})\\right]}{V(Y)} = 1 - \\frac{V_{X_{\\sim i}}\\left[E_{X_i}(Y | X_{\\sim i})\\right]}{V(Y)}\n",
    "\\end{equation}\n",
    "\n",
    "\n",
    "From this assumption we can conclude:\n",
    "\\begin{equation}\n",
    "\\Large\n",
    "0 \\leq S_i \\leq S_{T_i} \\leq 1\n",
    "\\end{equation}"
   ]
  },
  {
   "cell_type": "markdown",
   "metadata": {
    "colab_type": "text",
    "id": "JCKO1zaU_4Kk"
   },
   "source": [
    "More -\n",
    "* [Wiki](https://en.wikipedia.org/wiki/Sobol_sequence)\n",
    "* [Habr](https://habr.com/ru/post/440892/)\n",
    "* Feature selection [Skoltech ML 2020](https://github.com/adasegroup/ML2020_lectures/blob/master/lecture9/Lecture_9_Model_Feature_Selection_Sensitivity.pdf)"
   ]
  },
  {
   "cell_type": "markdown",
   "metadata": {
    "colab_type": "text",
    "id": "IM9HLmySff98"
   },
   "source": [
    "# Sensitivity analysis of WOFOST model "
   ]
  },
  {
   "cell_type": "markdown",
   "metadata": {
    "colab_type": "text",
    "id": "mBpW6Vi_81Ba"
   },
   "source": [
    "<img src=\"http://drive.google.com/uc?export=view&id=1OPZ0xIFpc8Ku3wtt6XffKy2QKLashDWP\">"
   ]
  },
  {
   "cell_type": "markdown",
   "metadata": {},
   "source": [
    "## Model input info"
   ]
  },
  {
   "cell_type": "code",
   "execution_count": 50,
   "metadata": {},
   "outputs": [],
   "source": [
    "# Define location, crop and season\n",
    "latitude = 52.0\n",
    "longitude = 5.0\n",
    "crop_name = 'sugarbeet'\n",
    "variety_name = 'Sugarbeet_601'\n",
    "campaign_start_date = '2006-01-01'\n",
    "emergence_date = \"2006-03-31\"\n",
    "harvest_date = \"2006-10-20\"\n",
    "max_duration = 300"
   ]
  },
  {
   "cell_type": "code",
   "execution_count": 51,
   "metadata": {},
   "outputs": [
    {
     "name": "stdout",
     "output_type": "stream",
     "text": [
      "\n",
      "- 2006-01-01:\n",
      "    CropCalendar:\n",
      "        crop_name: sugarbeet\n",
      "        variety_name: Sugarbeet_601\n",
      "        crop_start_date: 2006-03-31\n",
      "        crop_start_type: emergence\n",
      "        crop_end_date: 2006-10-20\n",
      "        crop_end_type: harvest\n",
      "        max_duration: 300\n",
      "    TimedEvents: null\n",
      "    StateEvents: null\n",
      "\n"
     ]
    }
   ],
   "source": [
    "# Here we define the agromanagement for sugar beet\n",
    "agro_yaml = \"\"\"\n",
    "- {start}:\n",
    "    CropCalendar:\n",
    "        crop_name: {cname}\n",
    "        variety_name: {vname}\n",
    "        crop_start_date: {startdate}\n",
    "        crop_start_type: emergence\n",
    "        crop_end_date: {enddate}\n",
    "        crop_end_type: harvest\n",
    "        max_duration: {maxdur}\n",
    "    TimedEvents: null\n",
    "    StateEvents: null\n",
    "\"\"\".format(cname=crop_name, vname=variety_name, \n",
    "           start=campaign_start_date, startdate=emergence_date, \n",
    "           enddate=harvest_date, maxdur=max_duration)\n",
    "agro = yaml.safe_load(agro_yaml)\n",
    "print(agro_yaml)"
   ]
  },
  {
   "cell_type": "code",
   "execution_count": 97,
   "metadata": {},
   "outputs": [
    {
     "name": "stdout",
     "output_type": "stream",
     "text": [
      "\n"
     ]
    }
   ],
   "source": [
    "# Weather data for Netherlands\n",
    "wdp = NASAPowerWeatherDataProvider(latitude=latitude, longitude=longitude)\n",
    "\n",
    "from pcse.fileinput import csvweatherdataprovider\n",
    "# Download the weather from CSV file if NASA POWER server doesn't response\n",
    "# wdp = csvweatherdataprovider.CSVWeatherDataProvider('data/meteo/NASA_weather_latitude_52.0_longitude_5.0.csv')\n",
    "\n",
    "# Parameter sets for crop, soil and site\n",
    "# Standard crop parameter library\n",
    "cropd = YAMLCropDataProvider()\n",
    "# We don't need soil for potential production, so we use dummy values\n",
    "soild = DummySoilDataProvider()\n",
    "# Some site parameters\n",
    "sited = WOFOST71SiteDataProvider(WAV=50, CO2=360.)\n",
    "\n",
    "# Retrieve all parameters in the form of a single object. \n",
    "# In order to see all parameters for the selected crop already, we\n",
    "# synchronise data provider cropd with the crop/variety: \n",
    "firstkey = list(agro[0])[0]\n",
    "cropcalendar = agro[0][firstkey]['CropCalendar'] \n",
    "cropd.set_active_crop(cropcalendar['crop_name'], cropcalendar['variety_name'])\n",
    "params = ParameterProvider(cropdata=cropd, sitedata=sited, soildata=soild)"
   ]
  },
  {
   "cell_type": "code",
   "execution_count": 75,
   "metadata": {},
   "outputs": [],
   "source": [
    "# Define the target variable\n",
    "target_variable = \"TWSO\"\n",
    "\n",
    "# For each scalar parameter, determine a sensible interval \n",
    "\n",
    "Crop_parameters = ['TSUM1','TSUM2','SPAN','Q10','TDWI']\n",
    "Model_parameters = {\n",
    "    'num_vars':5,\n",
    "    'names': Crop_parameters,\n",
    "    'bounds':[[500, 800],\n",
    "            [1200, 1600],\n",
    "            [28, 37],\n",
    "            [1.8, 2.2],\n",
    "            [0.4, 0.6]]}"
   ]
  },
  {
   "cell_type": "markdown",
   "metadata": {
    "colab_type": "text",
    "id": "EZAWCjDu7xVT"
   },
   "source": [
    "## Generate input parameters"
   ]
  },
  {
   "cell_type": "code",
   "execution_count": 93,
   "metadata": {
    "colab": {},
    "colab_type": "code",
    "id": "cuput0rjff-C"
   },
   "outputs": [],
   "source": [
    "param_values = saltelli.sample(Model_parameters, 10)"
   ]
  },
  {
   "cell_type": "markdown",
   "metadata": {
    "colab_type": "text",
    "id": "Ha0_KvGHff-E"
   },
   "source": [
    "$n = N \\times (D \\times 2 +2)$"
   ]
  },
  {
   "cell_type": "code",
   "execution_count": 94,
   "metadata": {
    "colab": {
     "base_uri": "https://localhost:8080/",
     "height": 36
    },
    "colab_type": "code",
    "id": "jwv9Lslkff-F",
    "outputId": "be898344-e4ab-4636-b5ab-625ca5fde263"
   },
   "outputs": [
    {
     "data": {
      "text/plain": [
       "(120, 5)"
      ]
     },
     "execution_count": 94,
     "metadata": {},
     "output_type": "execute_result"
    }
   ],
   "source": [
    "param_values.shape"
   ]
  },
  {
   "cell_type": "code",
   "execution_count": 102,
   "metadata": {},
   "outputs": [
    {
     "data": {
      "application/vnd.jupyter.widget-view+json": {
       "model_id": "16a213fe870742429bad29cd6014b23c",
       "version_major": 2,
       "version_minor": 0
      },
      "text/plain": [
       "HBox(children=(HTML(value=''), FloatProgress(value=1.0, bar_style='info', layout=Layout(width='20px'), max=1.0…"
      ]
     },
     "metadata": {},
     "output_type": "display_data"
    },
    {
     "name": "stdout",
     "output_type": "stream",
     "text": [
      "\n"
     ]
    }
   ],
   "source": [
    "nsets = len(param_values)\n",
    "\n",
    "\n",
    "# Loop over the samples of the parameter values and run WOFOST for each of the samples\n",
    "target_results = []\n",
    "pbar=tqdm()\n",
    "pbar.reset(total=nsets)\n",
    "for i, parameter in enumerate(param_values):\n",
    "    pbar.update()\n",
    "    params.clear_override()\n",
    "    for name, value in zip(Model_parameters[\"names\"], parameter):\n",
    "        params.set_override(name, value)\n",
    "    wofost = Wofost71_PP(params, wdp, agro)\n",
    "    wofost.run_till_terminate()\n",
    "    r = wofost.get_summary_output()\n",
    "    target_result = r[0][target_variable]\n",
    "#     print('Parameter:', parameter, 'Yield:', target_result)\n",
    "    if target_result is None:\n",
    "        print(\"Target variable is not available in summary output!\")\n",
    "        break\n",
    "    target_results.append(target_result)\n",
    "\n",
    "pbar.refresh()\n",
    "target_results = np.array(target_results)"
   ]
  },
  {
   "cell_type": "code",
   "execution_count": 73,
   "metadata": {
    "colab": {},
    "colab_type": "code",
    "id": "-MJQX33IMZh9"
   },
   "outputs": [],
   "source": [
    "\n",
    "Si = sobol.analyze(Model_parameters, target_results, print_to_console=False)"
   ]
  },
  {
   "cell_type": "code",
   "execution_count": 83,
   "metadata": {
    "colab": {
     "base_uri": "https://localhost:8080/",
     "height": 206
    },
    "colab_type": "code",
    "id": "dLlY6CSpff-g",
    "outputId": "3fd9db37-0422-49b0-9c28-9434aa780085"
   },
   "outputs": [
    {
     "data": {
      "text/html": [
       "<div>\n",
       "<style scoped>\n",
       "    .dataframe tbody tr th:only-of-type {\n",
       "        vertical-align: middle;\n",
       "    }\n",
       "\n",
       "    .dataframe tbody tr th {\n",
       "        vertical-align: top;\n",
       "    }\n",
       "\n",
       "    .dataframe thead th {\n",
       "        text-align: right;\n",
       "    }\n",
       "</style>\n",
       "<table border=\"1\" class=\"dataframe\">\n",
       "  <thead>\n",
       "    <tr style=\"text-align: right;\">\n",
       "      <th></th>\n",
       "      <th>S1</th>\n",
       "      <th>ST</th>\n",
       "      <th>S1_conf</th>\n",
       "      <th>ST_conf</th>\n",
       "    </tr>\n",
       "    <tr>\n",
       "      <th>Parameters</th>\n",
       "      <th></th>\n",
       "      <th></th>\n",
       "      <th></th>\n",
       "      <th></th>\n",
       "    </tr>\n",
       "  </thead>\n",
       "  <tbody>\n",
       "    <tr>\n",
       "      <th>TSUM1</th>\n",
       "      <td>0.913165</td>\n",
       "      <td>1.042718</td>\n",
       "      <td>0.518546</td>\n",
       "      <td>0.806036</td>\n",
       "    </tr>\n",
       "    <tr>\n",
       "      <th>TSUM2</th>\n",
       "      <td>-0.048769</td>\n",
       "      <td>0.013741</td>\n",
       "      <td>0.077270</td>\n",
       "      <td>0.018143</td>\n",
       "    </tr>\n",
       "    <tr>\n",
       "      <th>SPAN</th>\n",
       "      <td>0.310392</td>\n",
       "      <td>0.312428</td>\n",
       "      <td>0.254017</td>\n",
       "      <td>0.251188</td>\n",
       "    </tr>\n",
       "    <tr>\n",
       "      <th>Q10</th>\n",
       "      <td>0.069177</td>\n",
       "      <td>0.024272</td>\n",
       "      <td>0.133090</td>\n",
       "      <td>0.016854</td>\n",
       "    </tr>\n",
       "    <tr>\n",
       "      <th>TDWI</th>\n",
       "      <td>0.036392</td>\n",
       "      <td>0.001314</td>\n",
       "      <td>0.031586</td>\n",
       "      <td>0.001273</td>\n",
       "    </tr>\n",
       "  </tbody>\n",
       "</table>\n",
       "</div>"
      ],
      "text/plain": [
       "                  S1        ST   S1_conf   ST_conf\n",
       "Parameters                                        \n",
       "TSUM1       0.913165  1.042718  0.518546  0.806036\n",
       "TSUM2      -0.048769  0.013741  0.077270  0.018143\n",
       "SPAN        0.310392  0.312428  0.254017  0.251188\n",
       "Q10         0.069177  0.024272  0.133090  0.016854\n",
       "TDWI        0.036392  0.001314  0.031586  0.001273"
      ]
     },
     "execution_count": 83,
     "metadata": {},
     "output_type": "execute_result"
    }
   ],
   "source": [
    "Si_dict = dict(Si) \n",
    "sensitivity_indices = ['S1', 'ST', 'S1_conf', 'ST_conf']\n",
    "Si_df = pd.DataFrame()\n",
    "for SI in sensitivity_indices:\n",
    "    Si_df = Si_df.append(pd.Series(Si_dict[SI]), ignore_index=True)\n",
    "\n",
    "Si_df = Si_df.T\n",
    "Si_df.columns = sensitivity_indices\n",
    "Si_df['Parameters']=Crop_parameters\n",
    "Si_df.set_index('Parameters', inplace=True)\n",
    "Si_df"
   ]
  },
  {
   "cell_type": "markdown",
   "metadata": {
    "colab_type": "text",
    "id": "TIeMDNzga2_y"
   },
   "source": [
    "Is it ok?"
   ]
  },
  {
   "cell_type": "markdown",
   "metadata": {
    "colab_type": "text",
    "id": "QqllR3h_RK7d"
   },
   "source": [
    "\n",
    "\\begin{equation}\n",
    "\\Large\n",
    "0 \\leq S_i \\leq S_{T_i} \\leq 1\n",
    "\\end{equation}"
   ]
  },
  {
   "cell_type": "markdown",
   "metadata": {
    "colab_type": "text",
    "id": "PaaUpFfQff-2"
   },
   "source": [
    "# Visualization for sensitivity analysis"
   ]
  },
  {
   "cell_type": "markdown",
   "metadata": {
    "colab_type": "text",
    "id": "xyAx8-8Fff-4"
   },
   "source": [
    "Plots by [Water programming group](https://waterprogramming.wordpress.com/2019/08/27/a-python-implementation-of-grouped-radial-convergence-plots-to-visualize-sobol-sensitivity-analysis-results/)"
   ]
  },
  {
   "cell_type": "markdown",
   "metadata": {
    "colab_type": "text",
    "id": "5CbapN-Off-2"
   },
   "source": [
    "How to repeat: [Repo of SampleVIS](https://github.com/charlesrouge/SampleVis)"
   ]
  },
  {
   "cell_type": "code",
   "execution_count": 46,
   "metadata": {
    "colab": {},
    "colab_type": "code",
    "id": "qdag8yBlff-4"
   },
   "outputs": [],
   "source": [
    "import numpy as np\n",
    "from SALib.analyze import sobol\n",
    "from SALib.sample import saltelli\n",
    "from src.fishery import fish_game\n",
    "import matplotlib.pyplot as plt\n",
    "import itertools\n",
    "import math"
   ]
  },
  {
   "cell_type": "markdown",
   "metadata": {
    "colab_type": "text",
    "id": "TkyL56lTff-6"
   },
   "source": [
    "### Why number of samples is important?"
   ]
  },
  {
   "cell_type": "code",
   "execution_count": 47,
   "metadata": {
    "colab": {
     "base_uri": "https://localhost:8080/",
     "height": 1000
    },
    "colab_type": "code",
    "id": "mcLu7IlTff-7",
    "outputId": "16c68f29-eb6e-4674-b9bf-57ad321aad61"
   },
   "outputs": [
    {
     "name": "stdout",
     "output_type": "stream",
     "text": [
      "n= 50\n",
      "n= 100\n",
      "n= 150\n",
      "n= 200\n",
      "n= 250\n",
      "n= 300\n",
      "n= 350\n",
      "n= 400\n",
      "n= 450\n"
     ]
    },
    {
     "data": {
      "image/png": "[encoded data removed]",
      "text/plain": [
       "<Figure size 1296x648 with 2 Axes>"
      ]
     },
     "metadata": {},
     "output_type": "display_data"
    },
    {
     "data": {
      "text/plain": [
       "<matplotlib.legend.Legend at 0x7fe7ed03e390>"
      ]
     },
     "execution_count": 47,
     "metadata": {},
     "output_type": "execute_result"
    },
    {
     "data": {
      "image/png": "[encoded data removed]",
      "text/plain": [
       "<Figure size 1296x648 with 2 Axes>"
      ]
     },
     "metadata": {},
     "output_type": "display_data"
    }
   ],
   "source": [
    "# Set up dictionary with system parameters\n",
    "problem = {\n",
    "  'num_vars': 6,\n",
    "  'names': ['a', 'b', 'c','h',\n",
    "            'K','m'],\n",
    "  'bounds': [[ 0.002, 2],\n",
    "             [0.005, 1],\n",
    "             [0.2, 1],\n",
    "             [0.001, 1],\n",
    "             [100, 5000],\n",
    "             [0.1, 1.5]]\n",
    "}\n",
    "\n",
    "# Array with n's to use\n",
    "nsamples = np.arange(50, 500, 50)\n",
    "\n",
    "# Arrays to store the index estimates\n",
    "S1_estimates = np.zeros([problem['num_vars'],len(nsamples)])\n",
    "ST_estimates = np.zeros([problem['num_vars'],len(nsamples)])\n",
    "\n",
    "# Loop through all n values, create sample, evaluate model and estimate S1 & ST\n",
    "for i in range(len(nsamples)):\n",
    "    print('n= '+ str(nsamples[i]))\n",
    "    # Generate samples\n",
    "    sampleset = saltelli.sample(problem, nsamples[i],calc_second_order=False)\n",
    "    # Run model for all samples\n",
    "    output = [fish_game(*sampleset[j,:]) for j in range(len(sampleset))]\n",
    "    # Perform analysis\n",
    "    results = sobol.analyze(problem, np.asarray(output), calc_second_order=False,print_to_console=False)\n",
    "    # Store estimates\n",
    "    ST_estimates[:,i]=results['ST']\n",
    "    S1_estimates[:,i]=results['S1']\n",
    "\n",
    "np.save('ST_estimates.npy', ST_estimates)\n",
    "np.save('S1_estimates.npy', S1_estimates)\n",
    "\n",
    "S1_estimates = np.load('S1_estimates.npy')\n",
    "ST_estimates = np.load('ST_estimates.npy')\n",
    "\n",
    "# Generate figure showing evolution of indices\n",
    "fig =  plt.figure(figsize=(18,9))\n",
    "ax1 = fig.add_subplot(1,2,1)\n",
    "handles = []\n",
    "for j in range(problem['num_vars']):\n",
    "    handles += ax1.plot(nsamples, S1_estimates[j,:], linewidth=5)\n",
    "ax1.set_title('Evolution of S1 index estimates', fontsize=20)\n",
    "ax1.set_ylabel('S1', fontsize=18)\n",
    "ax1.set_xlabel('Number of samples (n)', fontsize=18)\n",
    "ax1.tick_params(axis='both', which='major', labelsize=14)\n",
    "ax2 = fig.add_subplot(1,2,2)\n",
    "for j in range(problem['num_vars']):\n",
    "    ax2.plot(nsamples, ST_estimates[j,:], linewidth=5)\n",
    "ax2.set_title('Evolution of ST index estimates', fontsize=20)\n",
    "ax2.set_ylabel('ST', fontsize=18)\n",
    "ax2.tick_params(axis='both', which='major', labelsize=14)\n",
    "ax2.set_xlabel('Number of samples (n)', fontsize=18)\n",
    "fig.legend(handles, problem['names'], loc = 'right', fontsize=11)\n",
    "plt.show()\n",
    "#plt.savefig('indexevolution.png')\n",
    "\n",
    "# Calculate parameter rankings\n",
    "S1_ranks = np.zeros_like(S1_estimates)\n",
    "ST_ranks = np.zeros_like(ST_estimates)\n",
    "for i in range(len(nsamples)):\n",
    "    orderS1 = np.argsort(S1_estimates[:,i])\n",
    "    orderST = np.argsort(ST_estimates[:,i])\n",
    "    S1_ranks[:,i] = orderS1.argsort()\n",
    "    ST_ranks[:,i] = orderST.argsort()\n",
    "    \n",
    "# Generate figure showing evolution of ranks\n",
    "fig =  plt.figure(figsize=(18,9))\n",
    "ax1 = fig.add_subplot(1,2,1)\n",
    "handles = []\n",
    "for j in range(problem['num_vars']):\n",
    "    handles += ax1.plot(nsamples, S1_ranks[j,:], linewidth=3)\n",
    "ax1.set_title('Parameter ranking based on S1', fontsize=20)\n",
    "ax1.set_ylabel('S1', fontsize=18)\n",
    "ax1.set_xlabel('Number of samples (n)', fontsize=18)\n",
    "ax1.set_yticklabels(np.arange(problem['num_vars']+1, 0, -1))\n",
    "ax1.tick_params(axis='both', which='major', labelsize=14)\n",
    "ax2 = fig.add_subplot(1,2,2)\n",
    "for j in range(problem['num_vars']):\n",
    "    ax2.plot(nsamples, ST_ranks[j,:], linewidth=3)\n",
    "ax2.set_title('Parameter ranking based on ST', fontsize=20)\n",
    "ax2.set_ylabel('ST', fontsize=18)\n",
    "ax2.set_yticklabels(np.arange(problem['num_vars']+1, 0, -1))\n",
    "ax2.tick_params(axis='both', which='major', labelsize=14)\n",
    "ax2.set_xlabel('Number of samples (n)', fontsize=18)\n",
    "fig.legend(handles, problem['names'], loc = 'right', fontsize=14)\n",
    "#plt.show()\n",
    "#plt.savefig('rankingevolution.png')"
   ]
  },
  {
   "cell_type": "markdown",
   "metadata": {
    "colab_type": "text",
    "id": "-1Lblvnvff-9"
   },
   "source": [
    "## Radial plot for SA"
   ]
  },
  {
   "cell_type": "code",
   "execution_count": 84,
   "metadata": {
    "colab": {},
    "colab_type": "code",
    "id": "5Oa37UTOff-9"
   },
   "outputs": [],
   "source": [
    "import numpy as np\n",
    "import itertools\n",
    "import matplotlib.pyplot as plt\n",
    "import seaborn as sns\n",
    "import math\n",
    "from numpy import genfromtxt\n",
    "import matplotlib.patches as mpatches\n",
    "import matplotlib.pyplot as plt\n",
    "sns.set_style('whitegrid', {'axes_linewidth': 0, 'axes.edgecolor': 'white'})"
   ]
  },
  {
   "cell_type": "markdown",
   "metadata": {
    "colab_type": "text",
    "id": "lCM69eEq-Qh1"
   },
   "source": [
    "## Plot function"
   ]
  },
  {
   "cell_type": "code",
   "execution_count": 85,
   "metadata": {
    "colab": {},
    "colab_type": "code",
    "id": "B6J2tyLAff-_"
   },
   "outputs": [],
   "source": [
    "def is_significant(value, confidence_interval, threshold=\"conf\"):\n",
    "    if threshold == \"conf\":\n",
    "        return value - abs(confidence_interval) > 0\n",
    "    else:\n",
    "        return value - abs(float(threshold)) > 0\n",
    " \n",
    "def grouped_radial(SAresults, parameters, radSc=2.0, scaling=1, widthSc=0.5, STthick=1, varNameMult=1.3, colors=None, groups=None, gpNameMult=1.5, threshold=\"conf\"):\n",
    "    # Derived from https://github.com/calvinwhealton/SensitivityAnalysisPlots\n",
    "    fig, ax = plt.subplots(1, 1)\n",
    "    color_map = {}\n",
    "     \n",
    "    # initialize parameters and colors\n",
    "    if groups is None:\n",
    "         \n",
    "        if colors is None:\n",
    "            colors = [\"k\"]\n",
    "         \n",
    "        for i, parameter in enumerate(parameters):\n",
    "            color_map[parameter] = colors[i % len(colors)]\n",
    "    else:        \n",
    "        if colors is None:\n",
    "            colors = sns.color_palette(\"deep\", max(3, len(groups)))\n",
    "         \n",
    "        for i, key in enumerate(groups.keys()):\n",
    "            #parameters.extend(groups[key])\n",
    "             \n",
    "            for parameter in groups[key]:\n",
    "                color_map[parameter] = colors[i % len(colors)]\n",
    "     \n",
    "    n = len(parameters)\n",
    "    angles = radSc*math.pi*np.arange(0, n)/n\n",
    "    x = radSc*np.cos(angles)\n",
    "    y = radSc*np.sin(angles)\n",
    "     \n",
    "    # plot second-order indices\n",
    "    for i, j in itertools.combinations(range(n), 2):\n",
    "        #key1 = parameters[i]\n",
    "        #key2 = parameters[j]\n",
    "         \n",
    "        if is_significant(SAresults[\"S2\"][i][j], SAresults[\"S2_conf\"][i][j], threshold):\n",
    "            angle = math.atan((y[j]-y[i])/(x[j]-x[i]))\n",
    "                 \n",
    "            if y[j]-y[i] < 0:\n",
    "                angle += math.pi\n",
    "                 \n",
    "            line_hw = scaling*(max(0, SAresults[\"S2\"][i][j])**widthSc)/2\n",
    "                 \n",
    "            coords = np.empty((4, 2))\n",
    "            coords[0, 0] = x[i] - line_hw*math.sin(angle)\n",
    "            coords[1, 0] = x[i] + line_hw*math.sin(angle)\n",
    "            coords[2, 0] = x[j] + line_hw*math.sin(angle)\n",
    "            coords[3, 0] = x[j] - line_hw*math.sin(angle)\n",
    "            coords[0, 1] = y[i] + line_hw*math.cos(angle)\n",
    "            coords[1, 1] = y[i] - line_hw*math.cos(angle)\n",
    "            coords[2, 1] = y[j] - line_hw*math.cos(angle)\n",
    "            coords[3, 1] = y[j] + line_hw*math.cos(angle)\n",
    " \n",
    "            ax.add_artist(plt.Polygon(coords, color=\"0.75\"))\n",
    "         \n",
    "    # plot total order indices\n",
    "    for i, key in enumerate(parameters):\n",
    "        if is_significant(SAresults[\"ST\"][i], SAresults[\"ST_conf\"][i], threshold):\n",
    "            ax.add_artist(plt.Circle((x[i], y[i]), scaling*(SAresults[\"ST\"][i]**widthSc)/2, color='w'))\n",
    "            ax.add_artist(plt.Circle((x[i], y[i]), scaling*(SAresults[\"ST\"][i]**widthSc)/2, lw=STthick, color='0.4', fill=False))\n",
    "     \n",
    "    # plot first-order indices\n",
    "    for i, key in enumerate(parameters):\n",
    "        if is_significant(SAresults[\"S1\"][i], SAresults[\"S1_conf\"][i], threshold):\n",
    "            ax.add_artist(plt.Circle((x[i], y[i]), scaling*(SAresults[\"S1\"][i]**widthSc)/2, color='0.4'))\n",
    "            \n",
    "    # add labels\n",
    "    for i, key in enumerate(parameters):                \n",
    "        ax.text(varNameMult*x[i], varNameMult*y[i], key, ha='center', va='center',\n",
    "                rotation=angles[i]*360/(2*math.pi) - 90,\n",
    "                color=color_map[key])\n",
    "         \n",
    "    if groups is not None:\n",
    "        for i, group in enumerate(groups.keys()):\n",
    "            print(group)\n",
    "            group_angle = np.mean([angles[j] for j in range(n) if parameters[j] in groups[group]])\n",
    "             \n",
    "            ax.text(gpNameMult*radSc*math.cos(group_angle), gpNameMult*radSc*math.sin(group_angle), group, ha='center', va='center',\n",
    "                rotation=group_angle*360/(2*math.pi) - 90,\n",
    "                color=colors[i % len(colors)])\n",
    "             \n",
    "    ax.set_facecolor('white')\n",
    "    ax.set_xticks([])\n",
    "    ax.set_yticks([])\n",
    "#     ax.\n",
    "    plt.axis('equal')\n",
    "    plt.axis([-2*radSc, 2*radSc, -2*radSc, 2*radSc])\n",
    "    #plt.show()\n",
    " \n",
    "     \n",
    "    return fig"
   ]
  },
  {
   "cell_type": "markdown",
   "metadata": {
    "colab_type": "text",
    "id": "mkmi-0-vff_C"
   },
   "source": [
    "## Range of soil parameters"
   ]
  },
  {
   "cell_type": "code",
   "execution_count": 86,
   "metadata": {
    "colab": {},
    "colab_type": "code",
    "id": "EbKdSoihff_C"
   },
   "outputs": [],
   "source": [
    "problem = {\n",
    "    'num_vars':6,\n",
    "    'names':['SOC', 'Sand', 'Clay', 'pH', 'CN', 'BD'],\n",
    "    'bounds':[[2.58, 6.20],\n",
    "              [0.01, 0.30],\n",
    "              [0.01, 0.30],\n",
    "              [4.6, 6.9],\n",
    "              [10.9, 12.4],\n",
    "              [900, 1350]]\n",
    "}"
   ]
  },
  {
   "cell_type": "code",
   "execution_count": 87,
   "metadata": {
    "colab": {},
    "colab_type": "code",
    "id": "OOz0S62Off_F"
   },
   "outputs": [],
   "source": [
    "#names for csv files\n",
    "list_of_csv=['soybean-000-2015.csv', 'sugar-beet-2011.csv', 'sugar-beet-2017.csv',\n",
    "'spring-barley-2012.csv', 'sugar-beet-2014.csv']\n",
    "list_of_names=['soybean-000-2015', 'sugar-beat-2011', 'sugar-beat-2017',\n",
    "'spring-barley-2012', 'sugar-beat-2014']\n",
    "list_of_totals=['total_SI_'+x for x in list_of_names]\n",
    "list_of_first=['fisrt_SI_'+x for x in list_of_names]\n",
    "list_of_second=['second_SI_'+x for x in list_of_names]\n",
    "list_of_SI=['SI_'+x for x in list_of_names]"
   ]
  },
  {
   "cell_type": "code",
   "execution_count": 90,
   "metadata": {
    "colab": {
     "base_uri": "https://localhost:8080/",
     "height": 111
    },
    "colab_type": "code",
    "id": "gz3hUbeuff_I",
    "outputId": "5917f0ad-5554-4761-8bdc-80d47d9d59b8"
   },
   "outputs": [
    {
     "name": "stdout",
     "output_type": "stream",
     "text": [
      "soybean-000-2015.csv\n",
      "sugar-beet-2011.csv\n",
      "sugar-beet-2017.csv\n",
      "spring-barley-2012.csv\n",
      "sugar-beet-2014.csv\n"
     ]
    }
   ],
   "source": [
    "for j, i in enumerate(list_of_csv):\n",
    "        all_data_csv = genfromtxt('./data/monica_sensitivity/'+str(i), delimiter=',')\n",
    "        output = all_data_csv[:,2]\n",
    "        print(i)\n",
    "        list_of_SI[j] = sobol.analyze(problem, output, calc_second_order=True, conf_level=0.95, print_to_console=False)"
   ]
  },
  {
   "cell_type": "code",
   "execution_count": null,
   "metadata": {
    "colab": {
     "base_uri": "https://localhost:8080/",
     "height": 327
    },
    "colab_type": "code",
    "id": "-d6zTAAxff_K",
    "outputId": "f835a88e-d5a3-46ea-bf94-fe587b2a6981"
   },
   "outputs": [
    {
     "name": "stdout",
     "output_type": "stream",
     "text": [
      "Soil physics\n",
      "Soil chemistry\n"
     ]
    },
    {
     "data": {
      "image/png": "[encoded data removed]",
      "text/plain": [
       "<Figure size 432x288 with 1 Axes>"
      ]
     },
     "metadata": {
      "tags": []
     },
     "output_type": "display_data"
    }
   ],
   "source": [
    "groups={\"Soil physics\" : [\"Sand\", \"Clay\", \"BD\"],\n",
    "        \"Soil chemistry\" : [\"pH\", \"SOC\", \"CN\"]}\n",
    " \n",
    "fig = grouped_radial(list_of_SI[4], ['BD', 'Sand', 'Clay', 'pH', 'CN', 'SOC'], groups=groups, threshold=0.001)\n",
    "red_patch = mpatches.Patch(color='red', label='The red data')\n",
    "plt.title(list_of_names[4], loc='left')\n",
    "\n",
    "plt.show()"
   ]
  },
  {
   "cell_type": "markdown",
   "metadata": {
    "colab_type": "text",
    "id": "uz8LoKAWff_Q"
   },
   "source": [
    "# Homework\n",
    "____\n"
   ]
  },
  {
   "cell_type": "markdown",
   "metadata": {
    "colab_type": "text",
    "id": "NRf5Tc2eff_R"
   },
   "source": [
    "\n",
    "## Resources\n",
    "\n",
    "__SA and UQ__\n",
    "\n",
    "\n",
    "1) [Rhodium project](https://github.com/Project-Platypus/Rhodium.git)\n",
    "\n",
    "\n",
    "2) [SALib](https://github.com/SALib/SALib)\n",
    "\n",
    "__Model__\n",
    "\n",
    "3) [PCSE](https://pcse.readthedocs.io/en/stable/index.html)\n",
    "\n",
    "4) How to install PCSE at local machine\n",
    "    `conda env create -f` [py3_pcse.yml](https://github.com/mishagrol/Seminar_Sobol/blob/master/py3_pcse.yml)\n",
    "\n",
    "Аny questions  -  \n",
    "\n",
    "Telegram - `@misha_grol`"
   ]
  },
  {
   "cell_type": "code",
   "execution_count": 105,
   "metadata": {},
   "outputs": [],
   "source": [
    "from pcse.fileinput import YAMLCropDataProvider\n",
    "cropd = YAMLCropDataProvider()\n",
    "# cropd.print_crops_varieties()"
   ]
  },
  {
   "cell_type": "markdown",
   "metadata": {},
   "source": [
    "## Part 1 – Crop Yield Prediction (PCSE/WOFOST)  \n",
    "\n",
    "You can use the seminars’ notebook:  \n",
    "\n",
    "* Assess the yield of one of the crops for the Moscow region over several years (potatoes, sugar beets)   \n",
    "Crop  - [List of crops](https://github.com/ajwdewit/WOFOST_crop_parameters) \\\n",
    "Weather  - [NASAdataprovider in PCSE](https://pcse.readthedocs.io/en/stable/code.html?highlight=NASA#pcse.db.NASAPowerWeatherDataProvider)   \n",
    "* Generate plots for biomass growth, crop yield and seasonal weather for one year\n",
    "\n",
    "\n",
    "### Agromanagement for Moscow Potato crop and NPK fertilization\n",
    "```\n",
    "\"name\": \"Potato\", \n",
    "\"latitude\": 54.85, \n",
    "\"longitude\": 38.85, \n",
    "\"crop_start\": \"2019-04-20\", \n",
    "\"crop_end\": \"2019-09-15\", \n",
    "\"crop_name\": \"potato\", \n",
    "\"npk_events\": [\"2019-06-22\"], \n",
    "\"npk\": [[90,10,90]]\n",
    "```\n",
    "\n",
    "### Available crop"
   ]
  },
  {
   "cell_type": "code",
   "execution_count": null,
   "metadata": {},
   "outputs": [],
   "source": [
    "from pcse.fileinput import YAMLCropDataProvider\n",
    "cropd = YAMLCropDataProvider()\n",
    "# cropd.print_crops_varieties()"
   ]
  },
  {
   "cell_type": "markdown",
   "metadata": {
    "colab_type": "text",
    "id": "3QNf2VAmVrCB"
   },
   "source": [
    "## Part 2 – Sensitivity Analysis (SALib)  \n",
    "\n",
    "1) Perform sensitivity analysis of one of the model blocks (crop, soil, agromanagement *) with SALib. You can choose one of the methods that you consider necessary (Sobol, FAST, ...). \n",
    "\n",
    "    Generate samples – In report provide the size of the resulting matrix and the sample size (N) \n",
    "\n",
    "    Conduct parameter sensitivity analysis  - In report provide S1 and ST indices.  \n",
    "\n",
    "2) Generate plots (Hist, etc.)  \n",
    "\n",
    "*3) Speed-up sensitivity analysis with multiprocessing \n",
    "\n",
    "*4) Estimate the required number of simulations to obtain reliable values of the sensitivity indices. Try to estimate the sample size at the confidence interval of the sensitivity indices. \n",
    "\n",
    "* Please note that working with discrete data can cause certain difficulties. "
   ]
  },
  {
   "cell_type": "markdown",
   "metadata": {
    "colab_type": "text",
    "id": "YlZ0GfwNff_U"
   },
   "source": [
    "### bonus"
   ]
  },
  {
   "cell_type": "markdown",
   "metadata": {
    "colab_type": "text",
    "id": "0NsBD3_lff_V"
   },
   "source": [
    "__Morris method__"
   ]
  },
  {
   "cell_type": "markdown",
   "metadata": {
    "colab_type": "text",
    "id": "Y7dLOiBiff_V"
   },
   "source": [
    "\n",
    "Generate a sample using the Method of Morris\n",
    "\n",
    "Three variants of Morris' sampling for elementary effects is supported:\n",
    "\n",
    "- Vanilla Morris\n",
    "- Optimised trajectories when ``optimal_trajectories=True`` (using\n",
    "    Campolongo's enhancements from 2007 and optionally Ruano's enhancement\n",
    "    from 2012; ``local_optimization=True``)\n",
    "- Groups with optimised trajectories when ``optimal_trajectories=True`` and\n",
    "    the problem definition specifies groups (note that ``local_optimization``\n",
    "    must be ``False``)\n",
    "\n",
    "At present, optimised trajectories is implemented using either a brute-force\n",
    "approach, which can be very slow, especially if you require more than four\n",
    "trajectories, or a local method based which is much faster. Both methods now\n",
    "implement working with groups of factors.\n",
    "\n",
    "Note that the number of factors makes little difference,\n",
    "but the ratio between number of optimal trajectories and the sample size\n",
    "results in an exponentially increasing number of scores that must be\n",
    "computed to find the optimal combination of trajectories.  We suggest going\n",
    "no higher than 4 from a pool of 100 samples with the brute force approach.\n",
    "With local_optimization = True (which is default),\n",
    "it is possible to go higher than the previously suggested 4 from 100.\n",
    "\n"
   ]
  },
  {
   "cell_type": "code",
   "execution_count": 91,
   "metadata": {
    "colab": {},
    "colab_type": "code",
    "id": "ROldqQcHff_W"
   },
   "outputs": [
    {
     "name": "stdout",
     "output_type": "stream",
     "text": [
      "Parameter                         Mu_Star         Mu    Mu_Star_Conf      Sigma\n",
      "x1                                  2.564     -0.039           0.052      2.690\n",
      "x2                                  1.431     -0.047           0.044      1.619\n",
      "x3                                  0.603     -0.003           0.024      0.704\n",
      "x4                                  0.330      0.004           0.013      0.388\n",
      "x5                                  0.034     -0.000           0.001      0.040\n",
      "x6                                  0.034      0.000           0.001      0.040\n",
      "x7                                  0.033     -0.001           0.001      0.040\n",
      "x8                                  0.034      0.003           0.001      0.039\n"
     ]
    },
    {
     "data": {
      "image/png": "[encoded data removed]",
      "text/plain": [
       "<Figure size 432x288 with 2 Axes>"
      ]
     },
     "metadata": {},
     "output_type": "display_data"
    },
    {
     "data": {
      "image/png": "[encoded data removed]",
      "text/plain": [
       "<Figure size 432x288 with 8 Axes>"
      ]
     },
     "metadata": {},
     "output_type": "display_data"
    }
   ],
   "source": [
    "import sys\n",
    "\n",
    "from SALib.analyze import morris\n",
    "from SALib.sample.morris import sample\n",
    "from SALib.test_functions import Sobol_G\n",
    "from SALib.util import read_param_file\n",
    "from SALib.plotting.morris import horizontal_bar_plot, covariance_plot, \\\n",
    "    sample_histograms\n",
    "import matplotlib.pyplot as plt\n",
    "\n",
    "#sys.path.append('../..')\n",
    "\n",
    "# Read the parameter range file and generate samples\n",
    "#problem = read_param_file('/Users/mikhailgasanov/Documents/GIT/SALib/src/SALib/test_functions/params/Sobol_G.txt')\n",
    "# or define manually without a parameter file:\n",
    "problem = {\n",
    " 'num_vars': 8,\n",
    " 'names': ['x1', 'x2', 'x3', 'x4', 'x5', 'x6', 'x7', 'x8'],\n",
    " 'groups': None,\n",
    " 'bounds': [[0.0, 1.0],\n",
    "            [0.0, 1.0],\n",
    "            [0.0, 1.0],\n",
    "            [0.0, 1.0],\n",
    "            [0.0, 1.0],\n",
    "            [0.0, 1.0],\n",
    "            [0.0, 1.0],\n",
    "            [0.0, 1.0]]\n",
    "}\n",
    "# Files with a 4th column for \"group name\" will be detected automatically, e.g.\n",
    "# param_file = '../../src/SALib/test_functions/params/Ishigami_groups.txt'\n",
    "\n",
    "# Generate samples\n",
    "param_values = sample(problem, N=1000, num_levels=4,\n",
    "                      optimal_trajectories=None)\n",
    "\n",
    "# To use optimized trajectories (brute force method),\n",
    "# give an integer value for optimal_trajectories\n",
    "\n",
    "# Run the \"model\" -- this will happen offline for external models\n",
    "Y = Sobol_G.evaluate(param_values)\n",
    "\n",
    "# Perform the sensitivity analysis using the model output\n",
    "# Specify which column of the output file to analyze (zero-indexed)\n",
    "Si = morris.analyze(problem, param_values, Y, conf_level=0.95,\n",
    "                    print_to_console=True,\n",
    "                    num_levels=4, num_resamples=100)\n",
    "# Returns a dictionary with keys 'mu', 'mu_star', 'sigma', and 'mu_star_conf'\n",
    "# e.g. Si['mu_star'] contains the mu* value for each parameter, in the\n",
    "# same order as the parameter file\n",
    "\n",
    "fig, (ax1, ax2) = plt.subplots(1, 2)\n",
    "horizontal_bar_plot(ax1, Si, {}, sortby='mu_star', unit=r\"tCO$_2$/year\")\n",
    "covariance_plot(ax2, Si, {}, unit=r\"tCO$_2$/year\")\n",
    "\n",
    "fig2 = plt.figure()\n",
    "sample_histograms(fig2, param_values, problem, {'color': 'y'})\n",
    "plt.show()"
   ]
  },
  {
   "cell_type": "code",
   "execution_count": null,
   "metadata": {
    "colab": {},
    "colab_type": "code",
    "id": "8-FizFxrff_Y"
   },
   "outputs": [],
   "source": []
  },
  {
   "cell_type": "code",
   "execution_count": null,
   "metadata": {},
   "outputs": [],
   "source": []
  }
 ],
 "metadata": {
  "colab": {
   "collapsed_sections": [
    "KWTtMUZsff84"
   ],
   "include_colab_link": true,
   "name": "Seminar_Sensitivity_analysis.ipynb",
   "provenance": []
  },
  "kernelspec": {
   "display_name": "Python 3 (ipykernel)",
   "language": "python",
   "name": "python3"
  },
  "language_info": {
   "codemirror_mode": {
    "name": "ipython",
    "version": 3
   },
   "file_extension": ".py",
   "mimetype": "text/x-python",
   "name": "python",
   "nbconvert_exporter": "python",
   "pygments_lexer": "ipython3",
   "version": "3.8.10"
  }
 },
 "nbformat": 4,
 "nbformat_minor": 1
}
