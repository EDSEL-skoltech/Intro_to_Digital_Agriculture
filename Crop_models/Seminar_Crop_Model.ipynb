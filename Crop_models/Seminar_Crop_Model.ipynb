{
 "cells": [
  {
   "cell_type": "markdown",
   "metadata": {
    "colab_type": "text",
    "id": "view-in-github"
   },
   "source": [
    "<a href=\"https://colab.research.google.com/github/mishagrol/Seminar_Sobol/blob/master/Seminar_Soil_Sensitivity.ipynb\" target=\"_parent\"><img src=\"https://colab.research.google.com/assets/colab-badge.svg\" alt=\"Open In Colab\"/></a>"
   ]
  },
  {
   "cell_type": "markdown",
   "metadata": {
    "colab_type": "text",
    "id": "7M3sjbWCff8u"
   },
   "source": [
    "# Introduction to Digital agro \n",
    "\n",
    "## Crop simulation models\n",
    "\n",
    "____\n",
    "\n",
    "### Mikhail Gasanov\n",
    "\n",
    "E-mail: Mikhail.Gasanov[a]skoltech.ru\n",
    "\n",
    "tg:@misha_grol"
   ]
  },
  {
   "cell_type": "markdown",
   "metadata": {},
   "source": [
    "\n",
    "<img src=\"http://drive.google.com/uc?export=view&id=1Pm5Zysv5PxYcTAQDuPe0LNz_zbE0msEW\">"
   ]
  },
  {
   "cell_type": "markdown",
   "metadata": {
    "colab_type": "text",
    "id": "Wq03bRoDff8y"
   },
   "source": [
    "\n",
    "## Clone utils and files from GitHub"
   ]
  },
  {
   "cell_type": "code",
   "execution_count": 2,
   "metadata": {
    "colab": {
     "base_uri": "https://localhost:8080/",
     "height": 149
    },
    "colab_type": "code",
    "id": "Jp5PPrbBAHzf",
    "outputId": "77cdc600-09f2-4bb7-8eae-3ea815bb8189"
   },
   "outputs": [],
   "source": [
    "# !git clone https://github.com/mishagrol/Seminar_Sobol.git\n",
    "# !cp -r ./Seminar_Sobol/* ."
   ]
  },
  {
   "cell_type": "markdown",
   "metadata": {},
   "source": [
    "# How to start with PCSE/WOFOST model\n",
    "\n",
    "_____\n",
    "\n",
    "### Documentation: [PCSE](https://pcse.readthedocs.io/)"
   ]
  },
  {
   "cell_type": "markdown",
   "metadata": {},
   "source": [
    "<img style=\"float: right;\" src=\"data:image/png;base64,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\">\n",
    "\n"
   ]
  },
  {
   "cell_type": "code",
   "execution_count": 22,
   "metadata": {},
   "outputs": [
    {
     "name": "stdout",
     "output_type": "stream",
     "text": [
      "This notebook was built with:\n",
      "python version: 3.6.11 | packaged by conda-forge | (default, Aug  5 2020, 20:19:23) \n",
      "[GCC Clang 10.0.1 ] \n",
      "PCSE version: 5.4.2\n"
     ]
    }
   ],
   "source": [
    "%matplotlib inline\n",
    "import sys, os\n",
    "import pcse\n",
    "import pandas as pd\n",
    "import matplotlib\n",
    "import yaml\n",
    "matplotlib.style.use(\"ggplot\")\n",
    "import matplotlib.pyplot as plt\n",
    "print(\"This notebook was built with:\")\n",
    "print(\"python version: %s \" % sys.version)\n",
    "print(\"PCSE version: %s\" %  pcse.__version__)"
   ]
  },
  {
   "cell_type": "code",
   "execution_count": 2,
   "metadata": {},
   "outputs": [],
   "source": [
    "import warnings\n",
    "warnings.filterwarnings(\"ignore\")"
   ]
  },
  {
   "cell_type": "code",
   "execution_count": 3,
   "metadata": {},
   "outputs": [],
   "source": [
    "wofostPP = pcse.start_wofost(mode=\"wlp\")"
   ]
  },
  {
   "cell_type": "markdown",
   "metadata": {},
   "source": [
    "You have just successfully initialized a PCSE/WOFOST object in the Python interpreter, which is in its initial state and waiting to do some simulation. We can now advance the model state for example with 1 day:\n"
   ]
  },
  {
   "cell_type": "code",
   "execution_count": 4,
   "metadata": {},
   "outputs": [],
   "source": [
    "wofostPP.run()"
   ]
  },
  {
   "cell_type": "markdown",
   "metadata": {},
   "source": [
    "Advancing the crop simulation with only 1 day, is often not so useful so the number of days to simulate can be specified as well:"
   ]
  },
  {
   "cell_type": "code",
   "execution_count": 5,
   "metadata": {},
   "outputs": [],
   "source": [
    "wofostPP.run(days=10)"
   ]
  },
  {
   "cell_type": "markdown",
   "metadata": {},
   "source": [
    "## Getting information about state and rate variables\n",
    "Retrieving information about the calculated model states or rates can be done with the `get_variable()` method on a PCSE object. For example, to retrieve the leaf area index value in the current model state you can do:"
   ]
  },
  {
   "cell_type": "markdown",
   "metadata": {},
   "source": [
    "### Leaf Area Index \n",
    "\n",
    "\n",
    "<img src=\"http://drive.google.com/uc?export=view&id=14nRP6TBQJLnIQ9Tv_HEvpvIvCe9gnXOO\">"
   ]
  },
  {
   "cell_type": "code",
   "execution_count": 6,
   "metadata": {},
   "outputs": [
    {
     "name": "stdout",
     "output_type": "stream",
     "text": [
      "2000-01-12\n",
      "LAI 0.2870809817505803\n"
     ]
    }
   ],
   "source": [
    "# Leaf Area Index at this date\n",
    "print(wofostPP.day)\n",
    "print('LAI', wofostPP.get_variable('LAI'))"
   ]
  },
  {
   "cell_type": "markdown",
   "metadata": {},
   "source": [
    "The `get_variable()` method can retrieve any state or rate variable that is defined somewhere in the model. \n",
    "\n",
    "Finally, we can finish the crop season by letting it run until the model terminates because the crop reaches maturity or the harvest date:"
   ]
  },
  {
   "cell_type": "code",
   "execution_count": 7,
   "metadata": {},
   "outputs": [],
   "source": [
    "wofostPP.run_till_terminate()"
   ]
  },
  {
   "cell_type": "markdown",
   "metadata": {},
   "source": [
    "## Retrieving and displaying WOFOST output\n",
    "We can retrieve the results of the simulation at each time step using  `get_output()`. In python terms this returns a list of dictionaries, one dictionary for each time step of the the simulation results. Each dictionary contains the key:value pairs of the state or rate variables that were stored at that time step.\n",
    "\n"
   ]
  },
  {
   "cell_type": "code",
   "execution_count": 8,
   "metadata": {},
   "outputs": [],
   "source": [
    "output = wofostPP.get_output()"
   ]
  },
  {
   "cell_type": "markdown",
   "metadata": {},
   "source": [
    "The most convenient way to handle the output from WOFOST is to used the `pandas` module to convert it into a dataframe. Pandas DataFrames can be converted to a variety of formats including excel, CSV or database tables."
   ]
  },
  {
   "cell_type": "code",
   "execution_count": 9,
   "metadata": {},
   "outputs": [],
   "source": [
    "df_crop = pd.DataFrame(output).set_index('day')"
   ]
  },
  {
   "cell_type": "code",
   "execution_count": 10,
   "metadata": {},
   "outputs": [
    {
     "name": "stdout",
     "output_type": "stream",
     "text": [
      "Reached maturity at 2000-05-31 with total biomass 15261.8 kg/ha, a yield of 7179.8 kg/ha with a maximum LAI of 6.13.\n"
     ]
    }
   ],
   "source": [
    "summary_output = wofostPP.get_summary_output()\n",
    "msg = \"Reached maturity at {DOM} with total biomass {TAGP:.1f} kg/ha, \" \\\n",
    "      \"a yield of {TWSO:.1f} kg/ha with a maximum LAI of {LAIMAX:.2f}.\"\n",
    "for crop_cycle in summary_output:\n",
    "    print(msg.format(**crop_cycle))"
   ]
  },
  {
   "cell_type": "code",
   "execution_count": 11,
   "metadata": {},
   "outputs": [
    {
     "data": {
      "image/png": "[encoded data removed]",
      "text/plain": [
       "<Figure size 1152x576 with 2 Axes>"
      ]
     },
     "metadata": {},
     "output_type": "display_data"
    }
   ],
   "source": [
    "fig, (axis1, axis2) = plt.subplots(nrows=1, ncols=2, figsize=(16,8))\n",
    "df_crop.LAI.plot(ax=axis1, label=\"LAI\", color='k')\n",
    "df_crop.TAGP.plot(ax=axis2, label=\"Total biomass\")\n",
    "df_crop.TWSO.plot(ax=axis2, label=\"Yield\")\n",
    "axis1.set_title(\"Leaf Area Index\")\n",
    "axis2.set_title(\"Crop biomass\")\n",
    "fig.autofmt_xdate()\n",
    "r = fig.legend()"
   ]
  },
  {
   "cell_type": "markdown",
   "metadata": {
    "colab_type": "text",
    "id": "4hifI4Y3ff83"
   },
   "source": [
    "# Running PCSE/WOFOST with custom input data\n",
    "\n",
    "This Jupyter notebook will show you how to read inputs from files for running PCSE/WOFOST.\n",
    "\n",
    "thanks to **Allard de Wit**\n",
    "\n",
    "**Prerequisites for running this notebook**\n",
    "\n",
    "Several packages need to be installed for running PCSE/WOFOST:\n",
    "\n",
    "  1. `PCSE` and its dependencies. See the [PCSE user guide](http://pcse.readthedocs.io/en/stable/installing.html) for more information;\n",
    "  2. The `pandas` module for processing and storing WOFOST output;\n",
    "  3. The `matplotlib` module for generating charts"
   ]
  },
  {
   "cell_type": "markdown",
   "metadata": {
    "colab_type": "text",
    "id": "kDCHB9wDff84"
   },
   "source": [
    "<img style=\"float: right;\" src=\"data:image/png;base64,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\">\n",
    "\n"
   ]
  },
  {
   "cell_type": "markdown",
   "metadata": {
    "colab_type": "text",
    "id": "OwBANTHXff89"
   },
   "source": [
    "## Reading model parameters\n",
    "### Crop parameters"
   ]
  },
  {
   "cell_type": "code",
   "execution_count": 12,
   "metadata": {},
   "outputs": [],
   "source": [
    "data_dir = 'data/'"
   ]
  },
  {
   "cell_type": "code",
   "execution_count": 13,
   "metadata": {
    "colab": {},
    "colab_type": "code",
    "id": "ie930bW_ff8-"
   },
   "outputs": [],
   "source": [
    "from pcse.fileinput import CABOFileReader\n",
    "cropfile = os.path.join(data_dir, 'crop', 'SUG0601.crop')\n",
    "cropdata = CABOFileReader(cropfile)"
   ]
  },
  {
   "cell_type": "code",
   "execution_count": 14,
   "metadata": {
    "colab": {},
    "colab_type": "code",
    "id": "qoyjh53gLVbM"
   },
   "outputs": [],
   "source": [
    "#potato\n",
    "from pcse.fileinput import CABOFileReader\n",
    "cropfile_potato = os.path.join(data_dir, 'crop', 'POT701.CAB')\n",
    "cropdata_potato = CABOFileReader(cropfile_potato)"
   ]
  },
  {
   "cell_type": "code",
   "execution_count": 15,
   "metadata": {
    "colab": {
     "base_uri": "https://localhost:8080/",
     "height": 36
    },
    "colab_type": "code",
    "id": "tmx8WTgPff9B",
    "outputId": "d58be0ce-deb1-4fc6-d5e2-13049afddf36"
   },
   "outputs": [
    {
     "data": {
      "text/plain": [
       "63"
      ]
     },
     "execution_count": 15,
     "metadata": {},
     "output_type": "execute_result"
    }
   ],
   "source": [
    "# Number of parameters for our crop \n",
    "len(cropdata_potato)"
   ]
  },
  {
   "cell_type": "markdown",
   "metadata": {
    "colab_type": "text",
    "id": "uPZJ5kpgff9H"
   },
   "source": [
    "### Soil parameters\n",
    "The soildata dictionary provides the parameter name/value pairs related to the soil type and soil physical properties. The number of parameters is variable depending on the soil water balance type that is used for the simulation. For this example, we will use the water balance for freely draining soils and use the soil file for medium fine sand: `ec3.soil`. This file is also taken from the soil files in the [WOFOST Control Centre](http://www.wageningenur.nl/wofost)."
   ]
  },
  {
   "cell_type": "code",
   "execution_count": 17,
   "metadata": {
    "colab": {
     "base_uri": "https://localhost:8080/",
     "height": 451
    },
    "colab_type": "code",
    "id": "cK5ftsxFff9I",
    "outputId": "73d285e1-15a1-4444-8923-63ccced7003b"
   },
   "outputs": [
    {
     "name": "stdout",
     "output_type": "stream",
     "text": [
      "** $Id: ec3.new 1.2 1997/09/18 17:33:54 LEM release $\n",
      "**\n",
      "** SOIL DATA FILE for use with WOFOST Version 5.0, June 1990\n",
      "**\n",
      "** EC3-medium fine\n",
      "------------------------------------\n",
      "SMW: 0.104 <class 'float'>\n",
      "SMFCF: 0.3 <class 'float'>\n",
      "SM0: 0.41 <class 'float'>\n",
      "CRAIRC: 0.06 <class 'float'>\n",
      "K0: 25.586 <class 'float'>\n",
      "SOPE: 1.47 <class 'float'>\n",
      "KSUB: 1.47 <class 'float'>\n",
      "SPADS: 0.1 <class 'float'>\n",
      "SPODS: 0.03 <class 'float'>\n",
      "SPASS: 0.2 <class 'float'>\n",
      "SPOSS: 0.05 <class 'float'>\n",
      "DEFLIM: -0.3 <class 'float'>\n",
      "RDMSOL: 120 <class 'int'>\n",
      "SOLNAM: EC3-medium fine <class 'str'>\n",
      "SMTAB: [-1.0, 0.41, 1.0, 0.398, 1.3, 0.389, 1.491, 0.38, 2.0, 0.34, 2.4, 0.287, 2.7, 0.241, 3.4, 0.148, 4.204, 0.104, 6.0, 0.09] <class 'list'>\n",
      "CONTAB: [0.0, 1.408, 1.0, 0.167, 1.3, -0.215, 1.491, -0.638, 1.7, -0.854, 2.0, -1.155, 2.4, -1.796, 2.7, -2.26, 3.0, -2.745, 3.4, -3.357, 3.7, -3.824, 4.0, -4.276, 4.204, -4.678] <class 'list'>\n",
      "\n"
     ]
    }
   ],
   "source": [
    "soilfile = os.path.join(data_dir, 'soil', 'ec3.soil')\n",
    "soildata = CABOFileReader(soilfile)\n",
    "print(soildata)"
   ]
  },
  {
   "cell_type": "markdown",
   "metadata": {
    "colab_type": "text",
    "id": "CB5Wr5kVff9R"
   },
   "source": [
    "### Site parameters\n",
    "\n",
    "The site parameters provide ancillary parameters that are not related to the crop or the soil. Examples are the initial conditions of the water balance such as the initial soil moisture content (WAV) and the initial and maximum surface storage (SSI, SSMAX). Also the atmospheric $CO_{2}$ \n",
    "concentration is a typical site parameter. For the moment, we can define these parameters directly on the Python commandline as a simple python dictionary. However, it is more convenient to use the `WOFOST71SiteDataProvider` that documents the site parameters and provides sensible defaults:"
   ]
  },
  {
   "cell_type": "code",
   "execution_count": 18,
   "metadata": {
    "colab": {
     "base_uri": "https://localhost:8080/",
     "height": 36
    },
    "colab_type": "code",
    "id": "98xI8e_9ff9S",
    "outputId": "cb0f1050-965e-43e3-dde1-14d9be09e963"
   },
   "outputs": [
    {
     "name": "stdout",
     "output_type": "stream",
     "text": [
      "{'IFUNRN': 0, 'NOTINF': 0, 'SSI': 0.0, 'SSMAX': 0.0, 'WAV': 100.0, 'SMLIM': 0.4, 'CO2': 360.0}\n"
     ]
    }
   ],
   "source": [
    "from pcse.util import WOFOST71SiteDataProvider\n",
    "sitedata = WOFOST71SiteDataProvider(WAV=100, CO2=360)\n",
    "print(sitedata)"
   ]
  },
  {
   "cell_type": "markdown",
   "metadata": {
    "colab_type": "text",
    "id": "zh-FCwyLff9X"
   },
   "source": [
    "### Packaging all parameters\n",
    "Finally, we need to pack the different sets of parameters into one variable using the `ParameterProvider`. This is needed because PCSE expects one variable that contains all parameter values. Using this approach has the additional advantage that parameter value can be easily overridden in case of running multiple simulations with slightly different parameter values:"
   ]
  },
  {
   "cell_type": "code",
   "execution_count": 19,
   "metadata": {
    "colab": {},
    "colab_type": "code",
    "id": "2aBDkIxSff9X"
   },
   "outputs": [],
   "source": [
    "from pcse.base import ParameterProvider\n",
    "parameters = ParameterProvider(cropdata=cropdata, soildata=soildata, sitedata=sitedata)"
   ]
  },
  {
   "cell_type": "markdown",
   "metadata": {
    "colab_type": "text",
    "id": "ZQx5Hv5pff9a"
   },
   "source": [
    "## Agromanagement\n",
    "The agromanagement inputs provide the start date of the agricultural campaign, the start_date/start_type of the crop simulation, the end_date/end_type of the crop simulation and the maximum duration of the crop simulation. The latter is included to avoid unrealistically long simulations for example as a results of a too high temperature sum requirement.\n",
    "\n",
    "The agromanagement inputs are defined with a special syntax called [YAML](http://yaml.org/) which allows to easily create more complex structures which is needed for defining the agromanagement. The agromanagement file for sugar beet in Wageningen `sugarbeet_calendar.agro` can be read with the `YAMLAgroManagementReader`:"
   ]
  },
  {
   "cell_type": "code",
   "execution_count": 23,
   "metadata": {
    "colab": {
     "base_uri": "https://localhost:8080/",
     "height": 432
    },
    "colab_type": "code",
    "id": "Xd3ej9Xmff9d",
    "outputId": "64ef5278-d792-4ad5-f54c-dfd9e476ad1f"
   },
   "outputs": [
    {
     "name": "stdout",
     "output_type": "stream",
     "text": [
      "!!python/object/new:pcse.fileinput.yaml_agro_loader.YAMLAgroManagementReader\n",
      "listitems:\n",
      "- 2019-06-01:\n",
      "    CropCalendar:\n",
      "      crop_end_date: 2019-10-15\n",
      "      crop_end_type: harvest\n",
      "      crop_name: sugar-beet\n",
      "      crop_start_date: 2019-06-02\n",
      "      crop_start_type: emergence\n",
      "      max_duration: 300\n",
      "      variety_name: sugar-beet-601\n",
      "    StateEvents: null\n",
      "    TimedEvents:\n",
      "    - comment: All fertilizer amounts in kg/ha\n",
      "      event_signal: apply_npk\n",
      "      events_table:\n",
      "      - 2019-06-22:\n",
      "          K_amount: 122\n",
      "          N_amount: 128\n",
      "          P_amount: 25\n",
      "      name: Timed N/P/K application table\n",
      "\n"
     ]
    }
   ],
   "source": [
    "from pcse.fileinput import YAMLAgroManagementReader\n",
    "#crop rotation for Moscow region\n",
    "agromanagement_file = os.path.join(data_dir, 'agro', 'sugarbeet_calendar_Moscow_short.agro')\n",
    "#agromanagement_file = os.path.join(data_dir, 'agro', 'sugarbeet_calendar.agro')\n",
    "agromanagement = YAMLAgroManagementReader(agromanagement_file)\n",
    "print(agromanagement)"
   ]
  },
  {
   "cell_type": "markdown",
   "metadata": {
    "colab_type": "text",
    "id": "0Ca2c7k1DOG7"
   },
   "source": [
    "We can create a crop rotation in the model\n"
   ]
  },
  {
   "cell_type": "code",
   "execution_count": 24,
   "metadata": {
    "colab": {
     "base_uri": "https://localhost:8080/",
     "height": 357
    },
    "colab_type": "code",
    "id": "cwwJNHKTff9g",
    "outputId": "ecb59337-c890-410d-fd74-801d6d7244c2"
   },
   "outputs": [
    {
     "name": "stdout",
     "output_type": "stream",
     "text": [
      "\n",
      "- 2017-05-01:\n",
      "    CropCalendar:\n",
      "        crop_name: 'sugar-beet'\n",
      "        variety_name: 'sugar-beet-601'\n",
      "        crop_start_date: 2017-05-20\n",
      "        crop_start_type: sowing\n",
      "        crop_end_date: \n",
      "        crop_end_type: maturity\n",
      "        max_duration: 250\n",
      "    TimedEvents:\n",
      "    -   event_signal: apply_npk\n",
      "        name:  Timed N/P/K application table\n",
      "        comment: All fertilizer amounts in kg/ha\n",
      "        events_table:\n",
      "        - 2017-06-22: {N_amount : 120, P_amount: 60, K_amount: 60}\n",
      "    StateEvents: null\n",
      "\n"
     ]
    }
   ],
   "source": [
    "K_kg = 60\n",
    "P_kg = 60\n",
    "N_kg = 120\n",
    "year=2017\n",
    "\n",
    "yaml_agro = f\"\"\"\n",
    "- {year}-05-01:\n",
    "    CropCalendar:\n",
    "        crop_name: 'sugar-beet'\n",
    "        variety_name: 'sugar-beet-601'\n",
    "        crop_start_date: {year}-05-20\n",
    "        crop_start_type: sowing\n",
    "        crop_end_date: \n",
    "        crop_end_type: maturity\n",
    "        max_duration: 250\n",
    "    TimedEvents:\n",
    "    -   event_signal: apply_npk\n",
    "        name:  Timed N/P/K application table\n",
    "        comment: All fertilizer amounts in kg/ha\n",
    "        events_table:\n",
    "        - {year}-06-22: {{N_amount : {N_kg}, P_amount: {P_kg}, K_amount: {K_kg}}}\n",
    "    StateEvents: null\n",
    "\"\"\"\n",
    "agromanagement = yaml.safe_load(yaml_agro)\n",
    "print(yaml_agro)\n",
    "#crop_end_date: {year_date_1}-11-15"
   ]
  },
  {
   "cell_type": "markdown",
   "metadata": {
    "colab_type": "text",
    "id": "bXZrl3QHff9j"
   },
   "source": [
    "## Daily weather observations\n",
    "Daily weather variables are needed for running the simulation. There are several data providers in PCSE for reading weather data, see the section on [weather data providers](http://pcse.readthedocs.io/en/stable/reference_guide.html#weather-data-providers) to get an overview.\n",
    "\n",
    "For this example we will use weather data from an excel file which provides daily weather data for Wageningen for the period 2004 to 2008. We will read the data from the file using the ExcelWeatherDataProvider:"
   ]
  },
  {
   "cell_type": "markdown",
   "metadata": {
    "colab_type": "text",
    "id": "t13-ERiZff9k"
   },
   "source": [
    "### NASA Weather Data Provider from NASA [DataBase](https://power.larc.nasa.gov/)"
   ]
  },
  {
   "cell_type": "code",
   "execution_count": 25,
   "metadata": {
    "colab": {},
    "colab_type": "code",
    "id": "DRPk4bALff9k"
   },
   "outputs": [],
   "source": [
    "#NASA Weather system\n",
    "\n",
    "#Sometimes it does not work (server), upload excel file\n",
    "from pcse.db import NASAPowerWeatherDataProvider"
   ]
  },
  {
   "cell_type": "code",
   "execution_count": 26,
   "metadata": {
    "colab": {},
    "colab_type": "code",
    "id": "YQ5s1Xg0ff9n"
   },
   "outputs": [],
   "source": [
    "\n",
    "weather = NASAPowerWeatherDataProvider(51, 5, force_update=True)\n"
   ]
  },
  {
   "cell_type": "code",
   "execution_count": 27,
   "metadata": {},
   "outputs": [
    {
     "name": "stdout",
     "output_type": "stream",
     "text": [
      "Weather data provided by: NASAPowerWeatherDataProvider\n",
      "--------Description---------\n",
      "NASA/POWER SRB/FLASHFlux/MERRA2/GEOS 5.12.4 (FP-IT) 0.5 x 0.5 Degree Daily Averaged Data\n",
      "----Site characteristics----\n",
      "Elevation:   38.5\n",
      "Latitude:  51.000\n",
      "Longitude:  5.000\n",
      "Data available for 1983-07-01 - 2021-02-07\n",
      "Number of missing days: 6\n",
      "\n"
     ]
    }
   ],
   "source": [
    "print(weather)"
   ]
  },
  {
   "cell_type": "markdown",
   "metadata": {},
   "source": [
    "### Problems with missing days (~1-5 %)"
   ]
  },
  {
   "cell_type": "code",
   "execution_count": 28,
   "metadata": {},
   "outputs": [],
   "source": [
    "def weather_loader(latitude, longitude):\n",
    "    \n",
    "    path = './data/meteo/'\n",
    "    #API request to NASA database\n",
    "    weather = NASAPowerWeatherDataProvider(latitude, longitude, force_update=True)\n",
    "\n",
    "    # Print done if downloaded\n",
    "    print('____DONE_____','latitude',latitude, 'longitude',longitude,'____')\n",
    "\n",
    "    # export pcse.weather format to pandas df\n",
    "    df_weather = pd.DataFrame(weather.export())\n",
    "\n",
    "\n",
    "    #print('initial number of days:', len(df_weather))\n",
    "\n",
    "    #create full range of dates\n",
    "    r = pd.date_range(start=df_weather.DAY.min(), end=df_weather.DAY.max())\n",
    "\n",
    "\n",
    "    #extend range of dates\n",
    "    full_range_weather = df_weather.set_index('DAY').reindex(r).rename_axis('DAY').reset_index()\n",
    "    missing_days = (full_range_weather.isna()).sum().sum()\n",
    "\n",
    "    print('num_of_missing_days', missing_days)\n",
    "\n",
    "    #fill weather with fill forward method in pandas\n",
    "    filled_weather = full_range_weather.fillna(method='ffill', axis=0)\n",
    "\n",
    "    #save as csv file\n",
    "\n",
    "    filled_weather=filled_weather[['DAY', 'IRRAD', 'TMIN', 'TMAX', 'VAP', 'WIND', 'RAIN']]\n",
    "    filled_weather['SNOWDEPTH'] = 'NaN'\n",
    "    filled_weather[['IRRAD']] = filled_weather[['IRRAD']]/1000.\n",
    "    filled_weather[['VAP']] = filled_weather[['VAP']]/10.\n",
    "    filled_weather.DAY=filled_weather.DAY.dt.strftime('%Y%m%d')\n",
    "\n",
    "\n",
    "    text = open(path+\"pattern.csv\", \"r\")\n",
    "    text = ''.join([i for i in text]).replace(\"1111\", str(weather.longitude))\n",
    "    text = ''.join([i for i in text]).replace(\"2222\", str(weather.latitude))\n",
    "    text = ''.join([i for i in text]).replace(\"3333\", str(weather.elevation))\n",
    "    text = ''.join([i for i in text]).replace(\"4444\", str(weather.angstA))\n",
    "    text = ''.join([i for i in text]).replace(\"5555\", str(weather.angstB))\n",
    "    x = open(path+f'NASA_weather_latitude_{latitude}_longitude_{longitude}.csv',\"w\")\n",
    "    x.writelines(text)\n",
    "    x.close()\n",
    "\n",
    "    path_to_save_csv_file = path+f'NASA_weather_latitude_{latitude}_longitude_{longitude}.csv'\n",
    "    filled_weather.to_csv(path_to_save_csv_file, mode='a', header=False, index=False)\n",
    "\n",
    "    #add info to weather database and save it to csv\n",
    "\n",
    "\n",
    "    #LOAD WEATHER as csv file\n",
    "    weather = pcse.fileinput.CSVWeatherDataProvider(path_to_save_csv_file)  \n",
    "    return weather"
   ]
  },
  {
   "cell_type": "code",
   "execution_count": 29,
   "metadata": {},
   "outputs": [
    {
     "name": "stdout",
     "output_type": "stream",
     "text": [
      "____DONE_____ latitude 55 longitude 55 ____\n",
      "num_of_missing_days 195\n"
     ]
    }
   ],
   "source": [
    "weather = weather_loader(55,55)"
   ]
  },
  {
   "cell_type": "code",
   "execution_count": 38,
   "metadata": {},
   "outputs": [],
   "source": [
    "df_weather = pd.DataFrame(weather.export())"
   ]
  },
  {
   "cell_type": "code",
   "execution_count": 51,
   "metadata": {},
   "outputs": [
    {
     "data": {
      "text/plain": [
       "Text(0.5, 1.0, 'T°C Max')"
      ]
     },
     "execution_count": 51,
     "metadata": {},
     "output_type": "execute_result"
    },
    {
     "data": {
      "image/png": "[encoded data removed]",
      "text/plain": [
       "<Figure size 1152x288 with 2 Axes>"
      ]
     },
     "metadata": {},
     "output_type": "display_data"
    }
   ],
   "source": [
    "fig, (ax1,ax2) = plt.subplots(nrows=1, ncols=2, figsize=(16,4))\n",
    "df_weather.set_index('DAY')['ET0'][-365:].plot(ax=ax1, label='ET0')\n",
    "df_weather.set_index('DAY')['TMAX'][-365:].plot(ax=ax2, label='T MAX')\n",
    "ax1.set_title('ET 0')\n",
    "ax2.set_title('T°C Max')"
   ]
  },
  {
   "cell_type": "markdown",
   "metadata": {
    "colab_type": "text",
    "id": "Cm-0b9X0ff9u"
   },
   "source": [
    "## Importing, initializing and running a PCSE model\n",
    "\n",
    "Internally, PCSE uses a simulation engine to run a crop simulation. This engine takes a configuration file that specifies the components for the crop, the soil and the agromanagement that need to be used for the simulation. So any PCSE model can be started by importing the engine and initializing it with a given configuration file and the corresponding parameters, weather data and agromanagement.\n",
    "\n",
    "However, as many users of PCSE only need a particular configuration (for example the WOFOST model for potential production), preconfigured Engines are provided in `pcse.models`. For the sugarbeet example we will import the WOFOST model for water-limited simulation under freely draining soil conditions:"
   ]
  },
  {
   "cell_type": "code",
   "execution_count": 52,
   "metadata": {
    "colab": {
     "base_uri": "https://localhost:8080/",
     "height": 238
    },
    "colab_type": "code",
    "id": "sY_Nzqooff9x",
    "outputId": "b52d2947-d0d5-4c14-9759-ec14492687a1"
   },
   "outputs": [
    {
     "data": {
      "text/html": [
       "<div>\n",
       "<style scoped>\n",
       "    .dataframe tbody tr th:only-of-type {\n",
       "        vertical-align: middle;\n",
       "    }\n",
       "\n",
       "    .dataframe tbody tr th {\n",
       "        vertical-align: top;\n",
       "    }\n",
       "\n",
       "    .dataframe thead th {\n",
       "        text-align: right;\n",
       "    }\n",
       "</style>\n",
       "<table border=\"1\" class=\"dataframe\">\n",
       "  <thead>\n",
       "    <tr style=\"text-align: right;\">\n",
       "      <th></th>\n",
       "      <th>DVS</th>\n",
       "      <th>LAI</th>\n",
       "      <th>TAGP</th>\n",
       "      <th>TWSO</th>\n",
       "      <th>TWLV</th>\n",
       "      <th>TWST</th>\n",
       "      <th>TWRT</th>\n",
       "      <th>TRA</th>\n",
       "      <th>RD</th>\n",
       "      <th>SM</th>\n",
       "      <th>WWLOW</th>\n",
       "    </tr>\n",
       "    <tr>\n",
       "      <th>day</th>\n",
       "      <th></th>\n",
       "      <th></th>\n",
       "      <th></th>\n",
       "      <th></th>\n",
       "      <th></th>\n",
       "      <th></th>\n",
       "      <th></th>\n",
       "      <th></th>\n",
       "      <th></th>\n",
       "      <th></th>\n",
       "      <th></th>\n",
       "    </tr>\n",
       "  </thead>\n",
       "  <tbody>\n",
       "    <tr>\n",
       "      <th>2018-01-21</th>\n",
       "      <td>1.638268</td>\n",
       "      <td>4.361832</td>\n",
       "      <td>13001.94206</td>\n",
       "      <td>8070.729387</td>\n",
       "      <td>2295.014434</td>\n",
       "      <td>2636.198239</td>\n",
       "      <td>2072.527759</td>\n",
       "      <td>0.014248</td>\n",
       "      <td>120.0</td>\n",
       "      <td>0.154055</td>\n",
       "      <td>18.486627</td>\n",
       "    </tr>\n",
       "    <tr>\n",
       "      <th>2018-01-22</th>\n",
       "      <td>1.638268</td>\n",
       "      <td>4.361832</td>\n",
       "      <td>13001.94206</td>\n",
       "      <td>8070.729387</td>\n",
       "      <td>2295.014434</td>\n",
       "      <td>2636.198239</td>\n",
       "      <td>2072.527759</td>\n",
       "      <td>0.023385</td>\n",
       "      <td>120.0</td>\n",
       "      <td>0.153960</td>\n",
       "      <td>18.475179</td>\n",
       "    </tr>\n",
       "    <tr>\n",
       "      <th>2018-01-23</th>\n",
       "      <td>1.638268</td>\n",
       "      <td>4.361832</td>\n",
       "      <td>13001.94206</td>\n",
       "      <td>8070.729387</td>\n",
       "      <td>2295.014434</td>\n",
       "      <td>2636.198239</td>\n",
       "      <td>2072.527759</td>\n",
       "      <td>0.023202</td>\n",
       "      <td>120.0</td>\n",
       "      <td>0.154166</td>\n",
       "      <td>18.499908</td>\n",
       "    </tr>\n",
       "    <tr>\n",
       "      <th>2018-01-24</th>\n",
       "      <td>1.638268</td>\n",
       "      <td>4.361832</td>\n",
       "      <td>13001.94206</td>\n",
       "      <td>8070.729387</td>\n",
       "      <td>2295.014434</td>\n",
       "      <td>2636.198239</td>\n",
       "      <td>2072.527759</td>\n",
       "      <td>0.028208</td>\n",
       "      <td>120.0</td>\n",
       "      <td>0.154058</td>\n",
       "      <td>18.486978</td>\n",
       "    </tr>\n",
       "    <tr>\n",
       "      <th>2018-01-25</th>\n",
       "      <td>1.638268</td>\n",
       "      <td>4.361832</td>\n",
       "      <td>13001.94206</td>\n",
       "      <td>8070.729387</td>\n",
       "      <td>2295.014434</td>\n",
       "      <td>2636.198239</td>\n",
       "      <td>2072.527759</td>\n",
       "      <td>0.026663</td>\n",
       "      <td>120.0</td>\n",
       "      <td>0.153811</td>\n",
       "      <td>18.457348</td>\n",
       "    </tr>\n",
       "  </tbody>\n",
       "</table>\n",
       "</div>"
      ],
      "text/plain": [
       "                 DVS       LAI         TAGP         TWSO         TWLV  \\\n",
       "day                                                                     \n",
       "2018-01-21  1.638268  4.361832  13001.94206  8070.729387  2295.014434   \n",
       "2018-01-22  1.638268  4.361832  13001.94206  8070.729387  2295.014434   \n",
       "2018-01-23  1.638268  4.361832  13001.94206  8070.729387  2295.014434   \n",
       "2018-01-24  1.638268  4.361832  13001.94206  8070.729387  2295.014434   \n",
       "2018-01-25  1.638268  4.361832  13001.94206  8070.729387  2295.014434   \n",
       "\n",
       "                   TWST         TWRT       TRA     RD        SM      WWLOW  \n",
       "day                                                                         \n",
       "2018-01-21  2636.198239  2072.527759  0.014248  120.0  0.154055  18.486627  \n",
       "2018-01-22  2636.198239  2072.527759  0.023385  120.0  0.153960  18.475179  \n",
       "2018-01-23  2636.198239  2072.527759  0.023202  120.0  0.154166  18.499908  \n",
       "2018-01-24  2636.198239  2072.527759  0.028208  120.0  0.154058  18.486978  \n",
       "2018-01-25  2636.198239  2072.527759  0.026663  120.0  0.153811  18.457348  "
      ]
     },
     "execution_count": 52,
     "metadata": {},
     "output_type": "execute_result"
    }
   ],
   "source": [
    "from pcse.models import Wofost71_WLP_FD\n",
    "wofsim = Wofost71_WLP_FD(parameters, weather, agromanagement)\n",
    "wofsim.run_till_terminate()\n",
    "df_results = pd.DataFrame(wofsim.get_output())\n",
    "df_results = df_results.set_index(\"day\")\n",
    "df_results.tail()"
   ]
  },
  {
   "cell_type": "markdown",
   "metadata": {
    "colab_type": "text",
    "id": "r4VvmP85ff9z"
   },
   "source": [
    "We can then run the simulation and retrieve the time series of daily simulation output using the get_output() method on the WOFOST object. Finally, we convert the simulation results to a pandas dataframe:"
   ]
  },
  {
   "cell_type": "code",
   "execution_count": 53,
   "metadata": {
    "colab": {},
    "colab_type": "code",
    "id": "MPGc2hh-ff90"
   },
   "outputs": [],
   "source": [
    "summary_output = wofsim.get_summary_output()"
   ]
  },
  {
   "cell_type": "code",
   "execution_count": 54,
   "metadata": {
    "colab": {
     "base_uri": "https://localhost:8080/",
     "height": 300
    },
    "colab_type": "code",
    "id": "w15xwH84ff92",
    "outputId": "6eba8cfa-2f9c-4708-9315-1a4c22cb5f08"
   },
   "outputs": [
    {
     "data": {
      "text/plain": [
       "[{'DVS': 1.6382678571428573,\n",
       "  'LAIMAX': 4.361831916594967,\n",
       "  'TAGP': 13001.942059594281,\n",
       "  'TWSO': 8070.729386700372,\n",
       "  'TWLV': 2295.0144341030245,\n",
       "  'TWST': 2636.198238790885,\n",
       "  'TWRT': 2072.5277589248244,\n",
       "  'CTRAT': 17.5463787829338,\n",
       "  'RD': 120.0,\n",
       "  'DOS': datetime.date(2017, 5, 20),\n",
       "  'DOE': datetime.date(2017, 6, 1),\n",
       "  'DOA': datetime.date(2017, 7, 23),\n",
       "  'DOM': None,\n",
       "  'DOH': None,\n",
       "  'DOV': None}]"
      ]
     },
     "execution_count": 54,
     "metadata": {},
     "output_type": "execute_result"
    }
   ],
   "source": [
    "wofsim.get_summary_output()"
   ]
  },
  {
   "cell_type": "code",
   "execution_count": 55,
   "metadata": {
    "colab": {
     "base_uri": "https://localhost:8080/",
     "height": 36
    },
    "colab_type": "code",
    "id": "zLg2UCSUff95",
    "outputId": "a8b489ca-c378-47e9-aed7-1dc5adddc860"
   },
   "outputs": [
    {
     "name": "stdout",
     "output_type": "stream",
     "text": [
      "Reached maturity at None with total biomass 13001.942059594281 kg/ha and a yield of 8070.729386700372 kg/ha.\n"
     ]
    }
   ],
   "source": [
    "msg = \"Reached maturity at {DOM} with total biomass {TAGP} kg/ha \"\\\n",
    "\"and a yield of {TWSO} kg/ha.\"\n",
    "print(msg.format(**summary_output[0]))"
   ]
  },
  {
   "cell_type": "markdown",
   "metadata": {
    "colab_type": "text",
    "id": "UOsFYjiOff-o"
   },
   "source": [
    "# Sensitivity analysis of models\n",
    "___\n",
    "\n"
   ]
  },
  {
   "cell_type": "markdown",
   "metadata": {},
   "source": [
    "<img src=\"http://drive.google.com/uc?export=view&id=1uijz-Bm9Mxwv8eI6CL8QsumiP7ISqnFo\">\n",
    "<img src=\"http://drive.google.com/uc?export=view&id=1dPvni3r4B3FqMFKugxtT8GfH1_W1jNNR\">\n"
   ]
  },
  {
   "cell_type": "code",
   "execution_count": null,
   "metadata": {
    "colab": {
     "base_uri": "https://localhost:8080/",
     "height": 394
    },
    "colab_type": "code",
    "id": "9ELzKKw6wy7T",
    "outputId": "54a785c9-7d33-4269-b022-bffb647a8156"
   },
   "outputs": [
    {
     "name": "stdout",
     "output_type": "stream",
     "text": [
      "Collecting SALib\n",
      "\u001b[?25l  Downloading https://files.pythonhosted.org/packages/f7/33/cee4d64f7c40f33c08cf5ef5c9b1fb5e51f194b5deceefb5567112800b70/SALib-1.3.11.tar.gz (856kB)\n",
      "\u001b[K     |████████████████████████████████| 860kB 3.3MB/s \n",
      "\u001b[?25hRequirement already satisfied: numpy in /usr/local/lib/python3.6/dist-packages (from SALib) (1.18.5)\n",
      "Requirement already satisfied: scipy in /usr/local/lib/python3.6/dist-packages (from SALib) (1.4.1)\n",
      "Requirement already satisfied: matplotlib in /usr/local/lib/python3.6/dist-packages (from SALib) (3.2.2)\n",
      "Requirement already satisfied: pandas in /usr/local/lib/python3.6/dist-packages (from SALib) (1.0.5)\n",
      "Requirement already satisfied: python-dateutil>=2.1 in /usr/local/lib/python3.6/dist-packages (from matplotlib->SALib) (2.8.1)\n",
      "Requirement already satisfied: pyparsing!=2.0.4,!=2.1.2,!=2.1.6,>=2.0.1 in /usr/local/lib/python3.6/dist-packages (from matplotlib->SALib) (2.4.7)\n",
      "Requirement already satisfied: cycler>=0.10 in /usr/local/lib/python3.6/dist-packages (from matplotlib->SALib) (0.10.0)\n",
      "Requirement already satisfied: kiwisolver>=1.0.1 in /usr/local/lib/python3.6/dist-packages (from matplotlib->SALib) (1.2.0)\n",
      "Requirement already satisfied: pytz>=2017.2 in /usr/local/lib/python3.6/dist-packages (from pandas->SALib) (2018.9)\n",
      "Requirement already satisfied: six>=1.5 in /usr/local/lib/python3.6/dist-packages (from python-dateutil>=2.1->matplotlib->SALib) (1.15.0)\n",
      "Building wheels for collected packages: SALib\n",
      "  Building wheel for SALib (setup.py) ... \u001b[?25l\u001b[?25hdone\n",
      "  Created wheel for SALib: filename=SALib-1.3.11-py2.py3-none-any.whl size=729665 sha256=93e720543725a20b1f31d6b4dcd5681574a59bb5c49e364a65b935ee9a92a0b0\n",
      "  Stored in directory: /root/.cache/pip/wheels/62/ed/f9/a0b98754ffb2191b98324b96cbbeb1bd5d9598b39ab996b429\n",
      "Successfully built SALib\n",
      "Installing collected packages: SALib\n",
      "Successfully installed SALib-1.3.11\n"
     ]
    }
   ],
   "source": [
    "# !pip install SALib"
   ]
  },
  {
   "cell_type": "markdown",
   "metadata": {},
   "source": [
    "## Sobol’ Sequences versus Random numbers and regular grid\n"
   ]
  },
  {
   "cell_type": "markdown",
   "metadata": {},
   "source": [
    "<img src=\"http://drive.google.com/uc?export=view&id=1ezjA8aa50P08EUybwdDyo8JKCP7lU7zw\">"
   ]
  },
  {
   "cell_type": "code",
   "execution_count": 42,
   "metadata": {
    "colab": {},
    "colab_type": "code",
    "id": "gnfye784nEKx"
   },
   "outputs": [],
   "source": [
    "from SALib.sample import saltelli\n",
    "from SALib.analyze import sobol\n",
    "from SALib.test_functions import Ishigami\n",
    "import numpy as np"
   ]
  },
  {
   "cell_type": "markdown",
   "metadata": {
    "colab_type": "text",
    "id": "8NA-bZpWQi0f"
   },
   "source": [
    "__Docs [SALib](https://salib.readthedocs.io/en/latest/#)__"
   ]
  },
  {
   "cell_type": "code",
   "execution_count": null,
   "metadata": {},
   "outputs": [],
   "source": []
  },
  {
   "cell_type": "markdown",
   "metadata": {
    "colab_type": "text",
    "id": "l4W7QknHnRud"
   },
   "source": [
    "In this example, we will perform a Sobol’ sensitivity analysis of the _Ishigami_ function, shown below. The _Ishigami_ function is commonly used to test uncertainty and sensitivity analysis methods because it exhibits strong nonlinearity and nonmonotonicity."
   ]
  },
  {
   "cell_type": "markdown",
   "metadata": {
    "colab_type": "text",
    "id": "iUoSwcBJnE5n"
   },
   "source": [
    "$f(x)=\\sin \\left(x_{1}\\right)+ \\text{a}\\, \\operatorname{sin}^{2}\\left(x_{2}\\right)+ \\text{b}\\,  x_{3}^{4} \\sin \\left(x_{1}\\right)$"
   ]
  },
  {
   "cell_type": "code",
   "execution_count": 43,
   "metadata": {
    "colab": {},
    "colab_type": "code",
    "id": "DBW4m3p8ff-u"
   },
   "outputs": [],
   "source": [
    "problem = {\n",
    "  'num_vars': 3,\n",
    "  'names': ['x1', 'x2', 'x3'],\n",
    "  'bounds': [[-np.pi, np.pi]]*3\n",
    "}"
   ]
  },
  {
   "cell_type": "code",
   "execution_count": 118,
   "metadata": {
    "colab": {
     "base_uri": "https://localhost:8080/",
     "height": 36
    },
    "colab_type": "code",
    "id": "sYxbSlYbsiyz",
    "outputId": "43781abd-3325-48fd-fa3e-f0de80fe24bd"
   },
   "outputs": [
    {
     "data": {
      "text/plain": [
       "(80, 3)"
      ]
     },
     "execution_count": 118,
     "metadata": {},
     "output_type": "execute_result"
    }
   ],
   "source": [
    "# Generate samples\n",
    "param_values = saltelli.sample(problem, 10, calc_second_order=True)\n",
    "param_values.shape"
   ]
  },
  {
   "cell_type": "markdown",
   "metadata": {
    "colab_type": "text",
    "id": "Vr5zlk3off-y"
   },
   "source": [
    "Here, `param_values` is a NumPy matrix. If we run `param_values.shape`, we see that the matrix is **8000 by 3**. The Saltelli sampler generated 8000 samples. The Saltelli sampler generates $N∗(2D+2)$ samples, where in this example $N$ is 1000 (the argument we supplied) and $D$ is 3 (the number of model inputs). The keyword argument `calc_second_order=False` will exclude second-order indices, resulting in a smaller sample matrix with $N∗(D+2)$ rows instead.\n"
   ]
  },
  {
   "cell_type": "code",
   "execution_count": null,
   "metadata": {
    "colab": {
     "base_uri": "https://localhost:8080/",
     "height": 187
    },
    "colab_type": "code",
    "id": "bQ9e0-w_ff-z",
    "outputId": "0a6e2cd1-eb3b-4e96-ef44-96a5af1cf384"
   },
   "outputs": [
    {
     "name": "stdout",
     "output_type": "stream",
     "text": [
      "Parameter S1 S1_conf ST ST_conf\n",
      "x1 -0.203434 0.660158 1.345837 2.206907\n",
      "x2 0.838328 0.650453 0.716922 0.567090\n",
      "x3 -0.592087 0.390549 0.459872 0.420236\n",
      "\n",
      "Parameter_1 Parameter_2 S2 S2_conf\n",
      "x1 x2 0.208665 1.159449\n",
      "x1 x3 1.165212 0.917190\n",
      "x2 x3 0.268558 0.759311\n"
     ]
    }
   ],
   "source": [
    "# Run model (example)\n",
    "Y = Ishigami.evaluate(param_values)\n",
    "\n",
    "# Perform analysis\n",
    "Si = sobol.analyze(problem, Y, print_to_console=True)\n",
    "# Returns a dictionary with keys 'S1', 'S1_conf', 'ST', and 'ST_conf'\n",
    "# (first and total-order indices with bootstrap confidence intervals)\n",
    "T_Si, first_Si, (idx, second_Si) = sobol.Si_to_pandas_dict(Si)"
   ]
  },
  {
   "cell_type": "markdown",
   "metadata": {
    "colab_type": "text",
    "id": "xb2Ag_6g_TAd"
   },
   "source": [
    "Consider the model output as\n",
    "\\begin{eqnarray*}\n",
    "Y=f(X)=f\\left(X_{1}, \\ldots, X_{p}\\right),\n",
    "\\end{eqnarray*}\n",
    "where $f$ in our case part of agro-model simulator, $X$ are $p$ varied input parameters and $Y$ is the predicted output. Following the techniques by Sobol we represent the multi-variate random function $f$ using Hoeffding decomposition:\n",
    "\\begin{equation}\n",
    "f(X_1,\\dots,X_p) = f_0 + \\sum_i^p f_i + \\sum_i^p\\sum_{j>i}^p f_{ij} + \\dots + f_{1\\dots p},\n",
    "\\end{equation}\n",
    "where $f_0$ is a constant term, $f_i = f_i(X_i)$ denotes main effects, $f_{ij} = f_{ij}(X_i, X_j)$ and others describe higher-order interactions. These terms can be written as\n",
    "\\begin{equation*}\n",
    "\\begin{split}\n",
    "f_0 &= E(Y),\\\\\n",
    "f_i &= E_{X_{\\sim i}}(Y | X_i) - E(Y),\\\\\n",
    "f_{ij} &= E_{X_{\\sim ij}}(Y | X_i, X_j) - f_i - f_j - f_0,\\\\\n",
    "\\dots\n",
    "\\end{split}\n",
    "\\end{equation*}\n",
    "where $E$ is mathematical expectation and $X_{\\sim i}$ denotes all parameters except $i^\\text{th}$. Under the assumption that the input parameters are independent, total variance $V(Y)$ of the crop yield can be decomposed as follows:\n",
    "\\begin{equation*}\n",
    "V(Y) = \\sum_i^p V_i + \\sum_i^p\\sum_{j>i}^p V_{ij} + \\dots + V_{12\\dots p},\n",
    "\\end{equation*}\n",
    "where partial variances are\n",
    "\\begin{equation*}\n",
    "\\begin{split}\n",
    "V_i &= V[f_i(X_i)] = V_{X_i}\\left[E_{X_{\\sim i}}(Y | X_i)\\right],\\\\\n",
    "V_{ij} &= V[f_{ij}(X_i,X_j)] = V_{X_iX_j}\\left[E_{X_{\\sim ij}}(Y | X_i, X_j)\\right] - V_i - V_j,\\\\\n",
    "\\dots\n",
    "\\end{split}\n",
    "\\end{equation*}"
   ]
  },
  {
   "cell_type": "markdown",
   "metadata": {
    "colab_type": "text",
    "id": "lRL6RZj6_kFd"
   },
   "source": [
    "## Sobol index (first order, second order, total index)"
   ]
  },
  {
   "cell_type": "markdown",
   "metadata": {
    "colab_type": "text",
    "id": "DaeCBQQF_b5f"
   },
   "source": [
    "This way, sensitivity indices (SI) can be introduced as \n",
    "\\begin{equation}\n",
    "\\Large\n",
    "S_i = \\frac{V_i}{V(Y)},~S_{ij} = \\frac{V_{ij}}{V(Y)},~\\dots\n",
    "\\end{equation}\n",
    "In order to incorporate all of the interactions for a particular parameter, one can compute the total effect index:\n",
    "\\begin{equation}\n",
    "S_{T_i} = \\frac{E_{X_{\\sim i}}\\left[V_{X_i}(Y|X_{\\sim i})\\right]}{V(Y)} = 1 - \\frac{V_{X_{\\sim i}}\\left[E_{X_i}(Y | X_{\\sim i})\\right]}{V(Y)}\n",
    "\\end{equation}\n",
    "\n",
    "\n",
    "From this assumption we can conclude:\n",
    "\\begin{equation}\n",
    "\\Large\n",
    "0 \\leq S_i \\leq S_{T_i} \\leq 1\n",
    "\\end{equation}"
   ]
  },
  {
   "cell_type": "markdown",
   "metadata": {
    "colab_type": "text",
    "id": "JCKO1zaU_4Kk"
   },
   "source": [
    "More -\n",
    "* [Wiki](https://en.wikipedia.org/wiki/Sobol_sequence)\n",
    "* [Habr](https://habr.com/ru/post/440892/)\n",
    "* Feature selection [Skoltech ML 2020](https://github.com/adasegroup/ML2020_lectures/blob/master/lecture9/Lecture_9_Model_Feature_Selection_Sensitivity.pdf)"
   ]
  },
  {
   "cell_type": "markdown",
   "metadata": {
    "colab_type": "text",
    "id": "IM9HLmySff98"
   },
   "source": [
    "# Sensitivity analysis of WOFOST model "
   ]
  },
  {
   "cell_type": "markdown",
   "metadata": {
    "colab_type": "text",
    "id": "mBpW6Vi_81Ba"
   },
   "source": [
    "<img src=\"http://drive.google.com/uc?export=view&id=1OPZ0xIFpc8Ku3wtt6XffKy2QKLashDWP\">"
   ]
  },
  {
   "cell_type": "markdown",
   "metadata": {
    "colab_type": "text",
    "id": "c-49rOGJ7lzn"
   },
   "source": [
    "## Install modules "
   ]
  },
  {
   "cell_type": "code",
   "execution_count": null,
   "metadata": {
    "colab": {},
    "colab_type": "code",
    "id": "5XaP3X3Klszc"
   },
   "outputs": [],
   "source": [
    "  from SALib.sample import saltelli\n",
    "  from SALib.analyze import sobol\n",
    "  from SALib.test_functions import Ishigami\n",
    "  import numpy as np\n",
    "  import pandas as pd"
   ]
  },
  {
   "cell_type": "markdown",
   "metadata": {
    "colab_type": "text",
    "id": "_VzU-hLD7smX"
   },
   "source": [
    "## Parameters"
   ]
  },
  {
   "cell_type": "code",
   "execution_count": null,
   "metadata": {
    "colab": {},
    "colab_type": "code",
    "id": "4qaOZXqoff99"
   },
   "outputs": [],
   "source": [
    "NPK = {\n",
    "    'num_vars':3,\n",
    "    'names':['N_kg', 'P_kg', 'K_kg'],\n",
    "    'bounds':[[30., 60.],\n",
    "              [60., 90.],\n",
    "              [100., 130.]]\n",
    "}"
   ]
  },
  {
   "cell_type": "code",
   "execution_count": null,
   "metadata": {
    "colab": {},
    "colab_type": "code",
    "id": "qdNxHeRzff9_"
   },
   "outputs": [],
   "source": [
    "Soil_parameters = {\n",
    "  'num_vars':5,\n",
    "    'names':['SMV', 'SMFCF', 'SM0', 'CRAIRC', 'K0'],\n",
    "    'bounds':[[0.7, 1.3],\n",
    "              [0.1, 0.5],\n",
    "              [0.2, 0.6],\n",
    "             [0.04, 0.08],\n",
    "             [22.5, 27.5]]}"
   ]
  },
  {
   "cell_type": "markdown",
   "metadata": {
    "colab_type": "text",
    "id": "EZAWCjDu7xVT"
   },
   "source": [
    "## Generate input parameters"
   ]
  },
  {
   "cell_type": "code",
   "execution_count": null,
   "metadata": {
    "colab": {},
    "colab_type": "code",
    "id": "cuput0rjff-C"
   },
   "outputs": [],
   "source": [
    "param_values = saltelli.sample(Soil_parameters, 10)"
   ]
  },
  {
   "cell_type": "markdown",
   "metadata": {
    "colab_type": "text",
    "id": "Ha0_KvGHff-E"
   },
   "source": [
    "$n = N \\times (D \\times 2 +2)$"
   ]
  },
  {
   "cell_type": "code",
   "execution_count": null,
   "metadata": {
    "colab": {
     "base_uri": "https://localhost:8080/",
     "height": 36
    },
    "colab_type": "code",
    "id": "jwv9Lslkff-F",
    "outputId": "be898344-e4ab-4636-b5ab-625ca5fde263"
   },
   "outputs": [
    {
     "data": {
      "text/plain": [
       "(120, 5)"
      ]
     },
     "execution_count": 87,
     "metadata": {
      "tags": []
     },
     "output_type": "execute_result"
    }
   ],
   "source": [
    "param_values.shape"
   ]
  },
  {
   "cell_type": "markdown",
   "metadata": {
    "colab_type": "text",
    "id": "S4wVilgyff-N"
   },
   "source": [
    "## Loop for yield prediction"
   ]
  },
  {
   "cell_type": "code",
   "execution_count": null,
   "metadata": {
    "colab": {},
    "colab_type": "code",
    "id": "debkME_Pff-K"
   },
   "outputs": [],
   "source": [
    "from pcse.fileinput import YAMLAgroManagementReader\n",
    "agromanagement_file = os.path.join(data_dir, 'agro', './sugarbeet_calendar.agro')\n",
    "agromanagement = YAMLAgroManagementReader(agromanagement_file)\n",
    "#print(agromanagement)\n",
    "Soil_parameters = {\n",
    "  'num_vars':5,\n",
    "    'names':['SMV', 'SMFCF', 'SM0', 'CRAIRC', 'K0'],\n",
    "    'bounds':[[0.7, 1.3],\n",
    "              [0.1, 0.5],\n",
    "              [0.2, 0.6],\n",
    "             [0.04, 0.08],\n",
    "             [22.5, 27.5]]}\n",
    "param_values = saltelli.sample(Soil_parameters, N=10, calc_second_order=True)"
   ]
  },
  {
   "cell_type": "markdown",
   "metadata": {
    "colab_type": "text",
    "id": "sXZANXnDPc3r"
   },
   "source": [
    "Soil parameters in [PCSE model](https://pcse.readthedocs.io/en/stable/code.html?highlight=K0#pcse.soil.WaterbalanceFD) "
   ]
  },
  {
   "cell_type": "code",
   "execution_count": null,
   "metadata": {
    "colab": {},
    "colab_type": "code",
    "id": "2U3X6RkhAmkV"
   },
   "outputs": [],
   "source": [
    "def sensitivity_soil(soil_parameters):\n",
    "    SMV, SMFCF, SM0, CRAIRC, K0 = soil_parameters \n",
    "    soildata['SMV'] = SMV\n",
    "    soildata['SMFCF'] = SMFCF\n",
    "    soildata['SM0'] = SM0\n",
    "    soildata['CRAIRC'] = CRAIRC\n",
    "    soildata['K0'] = K0\n",
    "    parameters = ParameterProvider(cropdata=cropdata, soildata=soildata, sitedata=sitedata)\n",
    "    wofsim = Wofost71_WLP_FD(parameters, wdp, agromanagement)\n",
    "    wofsim.run_till_terminate()\n",
    "    #df_results = pd.DataFrame(wofsim.get_output())\n",
    "    #df_results = df_results.set_index(\"day\")\n",
    "    #df_results.tail()\n",
    "    summary_output = wofsim.get_summary_output()\n",
    "    yield_list.append(summary_output[0]['TWSO'])"
   ]
  },
  {
   "cell_type": "code",
   "execution_count": null,
   "metadata": {
    "colab": {
     "base_uri": "https://localhost:8080/",
     "height": 1000
    },
    "colab_type": "code",
    "id": "pZaHKfNlAs7s",
    "outputId": "77e6674c-8873-449b-bc7e-bb5ffda59134"
   },
   "outputs": [
    {
     "name": "stdout",
     "output_type": "stream",
     "text": [
      "[ 0.83183594  0.13867188  0.40742187  0.06707031 23.90136719]\n",
      "[ 1.24433594  0.13867188  0.40742187  0.06707031 23.90136719]\n",
      "[ 0.83183594  0.11835938  0.40742187  0.06707031 23.90136719]\n",
      "[ 0.83183594  0.13867188  0.55976563  0.06707031 23.90136719]\n",
      "[ 0.83183594  0.13867188  0.40742187  0.06003906 23.90136719]\n",
      "[ 0.83183594  0.13867188  0.40742187  0.06707031 22.84667969]\n",
      "[ 0.83183594  0.11835938  0.55976563  0.06003906 22.84667969]\n",
      "[ 1.24433594  0.13867188  0.55976563  0.06003906 22.84667969]\n",
      "[ 1.24433594  0.11835938  0.40742187  0.06003906 22.84667969]\n",
      "[ 1.24433594  0.11835938  0.55976563  0.06707031 22.84667969]\n",
      "[ 1.24433594  0.11835938  0.55976563  0.06003906 23.90136719]\n",
      "[ 1.24433594  0.11835938  0.55976563  0.06003906 22.84667969]\n",
      "[ 1.13183594  0.33867188  0.20742188  0.04707031 26.40136719]\n",
      "[ 0.94433594  0.33867188  0.20742188  0.04707031 26.40136719]\n",
      "[ 1.13183594  0.31835938  0.20742188  0.04707031 26.40136719]\n",
      "[ 1.13183594  0.33867188  0.35976562  0.04707031 26.40136719]\n",
      "[ 1.13183594  0.33867188  0.20742188  0.04003906 26.40136719]\n",
      "[ 1.13183594  0.33867188  0.20742188  0.04707031 25.34667969]\n",
      "[ 1.13183594  0.31835938  0.35976562  0.04003906 25.34667969]\n",
      "[ 0.94433594  0.33867188  0.35976562  0.04003906 25.34667969]\n",
      "[ 0.94433594  0.31835938  0.20742188  0.04003906 25.34667969]\n",
      "[ 0.94433594  0.31835938  0.35976562  0.04707031 25.34667969]\n",
      "[ 0.94433594  0.31835938  0.35976562  0.04003906 26.40136719]\n",
      "[ 0.94433594  0.31835938  0.35976562  0.04003906 25.34667969]\n",
      "[ 1.28183594  0.23867188  0.50742187  0.07707031 25.15136719]\n",
      "[ 0.79433594  0.23867188  0.50742187  0.07707031 25.15136719]\n",
      "[ 1.28183594  0.21835938  0.50742187  0.07707031 25.15136719]\n",
      "[ 1.28183594  0.23867188  0.25976562  0.07707031 25.15136719]\n",
      "[ 1.28183594  0.23867188  0.50742187  0.05003906 25.15136719]\n",
      "[ 1.28183594  0.23867188  0.50742187  0.07707031 26.59667969]\n",
      "[ 1.28183594  0.21835938  0.25976562  0.05003906 26.59667969]\n",
      "[ 0.79433594  0.23867188  0.25976562  0.05003906 26.59667969]\n",
      "[ 0.79433594  0.21835938  0.50742187  0.05003906 26.59667969]\n",
      "[ 0.79433594  0.21835938  0.25976562  0.07707031 26.59667969]\n",
      "[ 0.79433594  0.21835938  0.25976562  0.05003906 25.15136719]\n",
      "[ 0.79433594  0.21835938  0.25976562  0.05003906 26.59667969]\n",
      "[ 0.98183594  0.43867188  0.30742188  0.05707031 22.65136719]\n",
      "[ 1.09433594  0.43867188  0.30742188  0.05707031 22.65136719]\n",
      "[ 0.98183594  0.41835937  0.30742188  0.05707031 22.65136719]\n",
      "[ 0.98183594  0.43867188  0.45976563  0.05707031 22.65136719]\n",
      "[ 0.98183594  0.43867188  0.30742188  0.07003906 22.65136719]\n",
      "[ 0.98183594  0.43867188  0.30742188  0.05707031 24.09667969]\n",
      "[ 0.98183594  0.41835937  0.45976563  0.07003906 24.09667969]\n",
      "[ 1.09433594  0.43867188  0.45976563  0.07003906 24.09667969]\n",
      "[ 1.09433594  0.41835937  0.30742188  0.07003906 24.09667969]\n",
      "[ 1.09433594  0.41835937  0.45976563  0.05707031 24.09667969]\n",
      "[ 1.09433594  0.41835937  0.45976563  0.07003906 22.65136719]\n",
      "[ 1.09433594  0.41835937  0.45976563  0.07003906 24.09667969]\n",
      "[ 0.90683594  0.28867188  0.25742188  0.05207031 23.27636719]\n",
      "[ 1.16933594  0.28867188  0.25742188  0.05207031 23.27636719]\n",
      "[ 0.90683594  0.26835938  0.25742188  0.05207031 23.27636719]\n",
      "[ 0.90683594  0.28867188  0.20976563  0.05207031 23.27636719]\n",
      "[ 0.90683594  0.28867188  0.25742188  0.05503906 23.27636719]\n",
      "[ 0.90683594  0.28867188  0.25742188  0.05207031 25.97167969]\n",
      "[ 0.90683594  0.26835938  0.20976563  0.05503906 25.97167969]\n",
      "[ 1.16933594  0.28867188  0.20976563  0.05503906 25.97167969]\n",
      "[ 1.16933594  0.26835938  0.25742188  0.05503906 25.97167969]\n",
      "[ 1.16933594  0.26835938  0.20976563  0.05207031 25.97167969]\n",
      "[ 1.16933594  0.26835938  0.20976563  0.05503906 23.27636719]\n",
      "[ 1.16933594  0.26835938  0.20976563  0.05503906 25.97167969]\n",
      "[ 1.20683594  0.48867187  0.45742187  0.07207031 25.77636719]\n",
      "[ 0.86933594  0.48867187  0.45742187  0.07207031 25.77636719]\n",
      "[ 1.20683594  0.46835938  0.45742187  0.07207031 25.77636719]\n",
      "[ 1.20683594  0.48867187  0.40976563  0.07207031 25.77636719]\n",
      "[ 1.20683594  0.48867187  0.45742187  0.07503906 25.77636719]\n",
      "[ 1.20683594  0.48867187  0.45742187  0.07207031 23.47167969]\n",
      "[ 1.20683594  0.46835938  0.40976563  0.07503906 23.47167969]\n",
      "[ 0.86933594  0.48867187  0.40976563  0.07503906 23.47167969]\n",
      "[ 0.86933594  0.46835938  0.45742187  0.07503906 23.47167969]\n",
      "[ 0.86933594  0.46835938  0.40976563  0.07207031 23.47167969]\n",
      "[ 0.86933594  0.46835938  0.40976563  0.07503906 25.77636719]\n",
      "[ 0.86933594  0.46835938  0.40976563  0.07503906 23.47167969]\n",
      "[ 1.05683594  0.18867188  0.35742188  0.04207031 27.02636719]\n",
      "[ 0.71933594  0.18867188  0.35742188  0.04207031 27.02636719]\n",
      "[ 1.05683594  0.16835938  0.35742188  0.04207031 27.02636719]\n",
      "[ 1.05683594  0.18867188  0.50976562  0.04207031 27.02636719]\n",
      "[ 1.05683594  0.18867188  0.35742188  0.06503906 27.02636719]\n",
      "[ 1.05683594  0.18867188  0.35742188  0.04207031 24.72167969]\n",
      "[ 1.05683594  0.16835938  0.50976562  0.06503906 24.72167969]\n",
      "[ 0.71933594  0.18867188  0.50976562  0.06503906 24.72167969]\n",
      "[ 0.71933594  0.16835938  0.35742188  0.06503906 24.72167969]\n",
      "[ 0.71933594  0.16835938  0.50976562  0.04207031 24.72167969]\n",
      "[ 0.71933594  0.16835938  0.50976562  0.06503906 27.02636719]\n",
      "[ 0.71933594  0.16835938  0.50976562  0.06503906 24.72167969]\n",
      "[ 0.75683594  0.38867188  0.55742187  0.06207031 24.52636719]\n",
      "[ 1.01933594  0.38867188  0.55742187  0.06207031 24.52636719]\n",
      "[ 0.75683594  0.36835938  0.55742187  0.06207031 24.52636719]\n",
      "[ 0.75683594  0.38867188  0.30976562  0.06207031 24.52636719]\n",
      "[ 0.75683594  0.38867188  0.55742187  0.04503906 24.52636719]\n",
      "[ 0.75683594  0.38867188  0.55742187  0.06207031 27.22167969]\n",
      "[ 0.75683594  0.36835938  0.30976562  0.04503906 27.22167969]\n",
      "[ 1.01933594  0.38867188  0.30976562  0.04503906 27.22167969]\n",
      "[ 1.01933594  0.36835938  0.55742187  0.04503906 27.22167969]\n",
      "[ 1.01933594  0.36835938  0.30976562  0.06207031 27.22167969]\n",
      "[ 1.01933594  0.36835938  0.30976562  0.04503906 24.52636719]\n",
      "[ 1.01933594  0.36835938  0.30976562  0.04503906 27.22167969]\n",
      "[ 0.73808594  0.17617188  0.21992188  0.05832031 25.62011719]\n",
      "[ 0.85058594  0.17617188  0.21992188  0.05832031 25.62011719]\n",
      "[ 0.73808594  0.48085937  0.21992188  0.05832031 25.62011719]\n",
      "[ 0.73808594  0.17617188  0.52226562  0.05832031 25.62011719]\n",
      "[ 0.73808594  0.17617188  0.21992188  0.04128906 25.62011719]\n",
      "[ 0.73808594  0.17617188  0.21992188  0.05832031 24.56542969]\n",
      "[ 0.73808594  0.48085937  0.52226562  0.04128906 24.56542969]\n",
      "[ 0.85058594  0.17617188  0.52226562  0.04128906 24.56542969]\n",
      "[ 0.85058594  0.48085937  0.21992188  0.04128906 24.56542969]\n",
      "[ 0.85058594  0.48085937  0.52226562  0.05832031 24.56542969]\n",
      "[ 0.85058594  0.48085937  0.52226562  0.04128906 25.62011719]\n",
      "[ 0.85058594  0.48085937  0.52226562  0.04128906 24.56542969]\n",
      "[ 1.03808594  0.37617188  0.41992188  0.07832031 23.12011719]\n",
      "[ 1.15058594  0.37617188  0.41992188  0.07832031 23.12011719]\n",
      "[ 1.03808594  0.28085938  0.41992188  0.07832031 23.12011719]\n",
      "[ 1.03808594  0.37617188  0.32226562  0.07832031 23.12011719]\n",
      "[ 1.03808594  0.37617188  0.41992188  0.06128906 23.12011719]\n",
      "[ 1.03808594  0.37617188  0.41992188  0.07832031 27.06542969]\n",
      "[ 1.03808594  0.28085938  0.32226562  0.06128906 27.06542969]\n",
      "[ 1.15058594  0.37617188  0.32226562  0.06128906 27.06542969]\n",
      "[ 1.15058594  0.28085938  0.41992188  0.06128906 27.06542969]\n",
      "[ 1.15058594  0.28085938  0.32226562  0.07832031 27.06542969]\n",
      "[ 1.15058594  0.28085938  0.32226562  0.06128906 23.12011719]\n",
      "[ 1.15058594  0.28085938  0.32226562  0.06128906 27.06542969]\n",
      "CPU times: user 1min 21s, sys: 229 ms, total: 1min 21s\n",
      "Wall time: 1min 21s\n"
     ]
    }
   ],
   "source": [
    "%%time\n",
    "yield_list = []\n",
    "param_values = saltelli.sample(Soil_parameters, 10, calc_second_order=True)\n",
    "for step in range(len(param_values)):\n",
    "    sensitivity_soil(param_values[step])\n",
    "    print(param_values[step])"
   ]
  },
  {
   "cell_type": "code",
   "execution_count": null,
   "metadata": {
    "colab": {},
    "colab_type": "code",
    "id": "-MJQX33IMZh9"
   },
   "outputs": [],
   "source": [
    "np_yield = np.array(yield_list)\n",
    "Si = sobol.analyze(Soil_parameters, np_yield, print_to_console=False)"
   ]
  },
  {
   "cell_type": "code",
   "execution_count": null,
   "metadata": {
    "colab": {
     "base_uri": "https://localhost:8080/",
     "height": 206
    },
    "colab_type": "code",
    "id": "dLlY6CSpff-g",
    "outputId": "3fd9db37-0422-49b0-9c28-9434aa780085"
   },
   "outputs": [
    {
     "data": {
      "text/html": [
       "<div>\n",
       "<style scoped>\n",
       "    .dataframe tbody tr th:only-of-type {\n",
       "        vertical-align: middle;\n",
       "    }\n",
       "\n",
       "    .dataframe tbody tr th {\n",
       "        vertical-align: top;\n",
       "    }\n",
       "\n",
       "    .dataframe thead th {\n",
       "        text-align: right;\n",
       "    }\n",
       "</style>\n",
       "<table border=\"1\" class=\"dataframe\">\n",
       "  <thead>\n",
       "    <tr style=\"text-align: right;\">\n",
       "      <th></th>\n",
       "      <th>Si</th>\n",
       "      <th>ST</th>\n",
       "      <th>Si_conf</th>\n",
       "      <th>ST_conf</th>\n",
       "    </tr>\n",
       "  </thead>\n",
       "  <tbody>\n",
       "    <tr>\n",
       "      <th>SMV</th>\n",
       "      <td>0.000000</td>\n",
       "      <td>0.000000</td>\n",
       "      <td>0.000000</td>\n",
       "      <td>0.000000</td>\n",
       "    </tr>\n",
       "    <tr>\n",
       "      <th>SMFCF</th>\n",
       "      <td>-0.077417</td>\n",
       "      <td>0.284878</td>\n",
       "      <td>0.839456</td>\n",
       "      <td>0.638290</td>\n",
       "    </tr>\n",
       "    <tr>\n",
       "      <th>SM0</th>\n",
       "      <td>0.267504</td>\n",
       "      <td>0.381437</td>\n",
       "      <td>0.693409</td>\n",
       "      <td>0.688329</td>\n",
       "    </tr>\n",
       "    <tr>\n",
       "      <th>CRAIRC</th>\n",
       "      <td>0.000000</td>\n",
       "      <td>0.000000</td>\n",
       "      <td>0.000000</td>\n",
       "      <td>0.000000</td>\n",
       "    </tr>\n",
       "    <tr>\n",
       "      <th>K0</th>\n",
       "      <td>0.000000</td>\n",
       "      <td>0.000000</td>\n",
       "      <td>0.000000</td>\n",
       "      <td>0.000000</td>\n",
       "    </tr>\n",
       "  </tbody>\n",
       "</table>\n",
       "</div>"
      ],
      "text/plain": [
       "              Si        ST   Si_conf   ST_conf\n",
       "SMV     0.000000  0.000000  0.000000  0.000000\n",
       "SMFCF  -0.077417  0.284878  0.839456  0.638290\n",
       "SM0     0.267504  0.381437  0.693409  0.688329\n",
       "CRAIRC  0.000000  0.000000  0.000000  0.000000\n",
       "K0      0.000000  0.000000  0.000000  0.000000"
      ]
     },
     "execution_count": 101,
     "metadata": {
      "tags": []
     },
     "output_type": "execute_result"
    }
   ],
   "source": [
    "Si_dict = dict(Si) \n",
    "Si_df = pd.DataFrame()\n",
    "Si_df = Si_df.append(pd.Series(Si_dict['S1']), ignore_index=True)\n",
    "Si_df = Si_df.append(pd.Series(Si_dict['ST']), ignore_index=True)\n",
    "Si_df = Si_df.append(pd.Series(Si_dict['S1_conf']), ignore_index=True)\n",
    "Si_df = Si_df.append(pd.Series(Si_dict['ST_conf']), ignore_index=True)\n",
    "Si_df = Si_df.T\n",
    "Si_df.columns = ['Si', 'ST', 'Si_conf', 'ST_conf']\n",
    "Si_df.rename(index={0:'SMV',1:'SMFCF', 2:'SM0', 3:'CRAIRC', 4:'K0'}, inplace=True)\n",
    "Si_df"
   ]
  },
  {
   "cell_type": "markdown",
   "metadata": {
    "colab_type": "text",
    "id": "TIeMDNzga2_y"
   },
   "source": [
    "Is it ok?"
   ]
  },
  {
   "cell_type": "markdown",
   "metadata": {
    "colab_type": "text",
    "id": "QqllR3h_RK7d"
   },
   "source": [
    "\n",
    "\\begin{equation}\n",
    "\\Large\n",
    "0 \\leq S_i \\leq S_{T_i} \\leq 1\n",
    "\\end{equation}"
   ]
  },
  {
   "cell_type": "markdown",
   "metadata": {
    "colab_type": "text",
    "id": "1r0uLC55PHwZ"
   },
   "source": [
    "### For 5 years"
   ]
  },
  {
   "cell_type": "code",
   "execution_count": null,
   "metadata": {
    "colab": {},
    "colab_type": "code",
    "id": "_LMDwLrlPG4a"
   },
   "outputs": [],
   "source": [
    "def sensitivity_weather(year):\n",
    "    K_kg = 60\n",
    "    P_kg = 60\n",
    "    N_kg = 120\n",
    "    year_date=year\n",
    "    print(year)\n",
    "    print(year_date)\n",
    "    yaml_agro = f\"\"\"\n",
    "    - {year_date}-06-01:\n",
    "        CropCalendar:\n",
    "            crop_name: 'sugar-beet'\n",
    "            variety_name: 'sugar-beet-601'\n",
    "            crop_start_date: {year_date}-06-02\n",
    "            crop_start_type: emergence\n",
    "            crop_end_date: {year_date}-10-15\n",
    "            crop_end_type: harvest\n",
    "            max_duration: 300\n",
    "        TimedEvents:\n",
    "        -   event_signal: apply_npk\n",
    "            name:  Timed N/P/K application table\n",
    "            comment: All fertilizer amounts in kg/ha\n",
    "            events_table:\n",
    "            - {year_date}-06-22: {{N_amount : {N_kg}, P_amount: {P_kg}, K_amount: {K_kg}}}\n",
    "        StateEvents: null\n",
    "        \"\"\"\n",
    "    agromanagement = yaml.safe_load(yaml_agro)\n",
    "    parameters = ParameterProvider(cropdata=cropdata, soildata=soildata, sitedata=sitedata)\n",
    "    wofsim = Wofost71_WLP_FD(parameters, moscow_weather, agromanagement)\n",
    "    wofsim.run_till_terminate()\n",
    "    summary_output = wofsim.get_summary_output()\n",
    "    yield_list_weather.append(summary_output[0]['TWSO'])"
   ]
  },
  {
   "cell_type": "markdown",
   "metadata": {
    "colab_type": "text",
    "id": "sM-c_XOiff-l"
   },
   "source": [
    "## Visualizing simulation results"
   ]
  },
  {
   "cell_type": "markdown",
   "metadata": {
    "colab_type": "text",
    "id": "spvJpQpcff-l"
   },
   "source": [
    "Finally, we can generate some figures of WOFOST variables such as the development (DVS), total biomass (TAGP), leaf area index (LAI) and root-zone soil moisture (SM) using the MatPlotLib plotting package:"
   ]
  },
  {
   "cell_type": "code",
   "execution_count": null,
   "metadata": {
    "colab": {
     "base_uri": "https://localhost:8080/",
     "height": 574
    },
    "colab_type": "code",
    "id": "a3CbHXX5ff-m",
    "outputId": "ed816e35-ad01-4757-b7e2-6162b053d5cf"
   },
   "outputs": [
    {
     "data": {
      "image/png": "[encoded data removed]",
      "text/plain": [
       "<Figure size 864x720 with 4 Axes>"
      ]
     },
     "metadata": {
      "tags": []
     },
     "output_type": "display_data"
    }
   ],
   "source": [
    "fig, axes = plt.subplots(nrows=2, ncols=2, figsize=(12,10))\n",
    "for var, ax in zip([\"DVS\", \"TWSO\", \"LAI\", \"SM\"], axes.flatten()):\n",
    "    ax.plot_date(df_results.index, df_results[var], 'b-')\n",
    "    ax.set_title(var)\n",
    "fig.autofmt_xdate()"
   ]
  },
  {
   "cell_type": "markdown",
   "metadata": {
    "colab_type": "text",
    "id": "PaaUpFfQff-2"
   },
   "source": [
    "# Visualization for sensitivity analysis"
   ]
  },
  {
   "cell_type": "markdown",
   "metadata": {
    "colab_type": "text",
    "id": "xyAx8-8Fff-4"
   },
   "source": [
    "Plots by [Water programming group](https://waterprogramming.wordpress.com/2019/08/27/a-python-implementation-of-grouped-radial-convergence-plots-to-visualize-sobol-sensitivity-analysis-results/)"
   ]
  },
  {
   "cell_type": "markdown",
   "metadata": {
    "colab_type": "text",
    "id": "5CbapN-Off-2"
   },
   "source": [
    "How to repeat: [Repo of SampleVIS](https://github.com/charlesrouge/SampleVis)"
   ]
  },
  {
   "cell_type": "code",
   "execution_count": null,
   "metadata": {
    "colab": {},
    "colab_type": "code",
    "id": "qdag8yBlff-4"
   },
   "outputs": [],
   "source": [
    "import numpy as np\n",
    "from SALib.analyze import sobol\n",
    "from SALib.sample import saltelli\n",
    "from fishery import fish_game\n",
    "import matplotlib.pyplot as plt\n",
    "import itertools\n",
    "import math"
   ]
  },
  {
   "cell_type": "markdown",
   "metadata": {
    "colab_type": "text",
    "id": "TkyL56lTff-6"
   },
   "source": [
    "### Why number of samples is important?"
   ]
  },
  {
   "cell_type": "code",
   "execution_count": null,
   "metadata": {
    "colab": {
     "base_uri": "https://localhost:8080/",
     "height": 1000
    },
    "colab_type": "code",
    "id": "mcLu7IlTff-7",
    "outputId": "16c68f29-eb6e-4674-b9bf-57ad321aad61"
   },
   "outputs": [
    {
     "name": "stdout",
     "output_type": "stream",
     "text": [
      "n= 50\n",
      "n= 100\n",
      "n= 150\n",
      "n= 200\n",
      "n= 250\n",
      "n= 300\n",
      "n= 350\n",
      "n= 400\n",
      "n= 450\n"
     ]
    },
    {
     "data": {
      "image/png": "[encoded data removed]",
      "text/plain": [
       "<Figure size 1296x648 with 2 Axes>"
      ]
     },
     "metadata": {
      "tags": []
     },
     "output_type": "display_data"
    },
    {
     "data": {
      "text/plain": [
       "<matplotlib.legend.Legend at 0x7fedab9275f8>"
      ]
     },
     "execution_count": 107,
     "metadata": {
      "tags": []
     },
     "output_type": "execute_result"
    },
    {
     "data": {
      "image/png": "[encoded data removed]",
      "text/plain": [
       "<Figure size 1296x648 with 2 Axes>"
      ]
     },
     "metadata": {
      "tags": []
     },
     "output_type": "display_data"
    }
   ],
   "source": [
    "# Set up dictionary with system parameters\n",
    "problem = {\n",
    "  'num_vars': 6,\n",
    "  'names': ['a', 'b', 'c','h',\n",
    "            'K','m'],\n",
    "  'bounds': [[ 0.002, 2],\n",
    "             [0.005, 1],\n",
    "             [0.2, 1],\n",
    "             [0.001, 1],\n",
    "             [100, 5000],\n",
    "             [0.1, 1.5]]\n",
    "}\n",
    "\n",
    "# Array with n's to use\n",
    "nsamples = np.arange(50, 500, 50)\n",
    "\n",
    "# Arrays to store the index estimates\n",
    "S1_estimates = np.zeros([problem['num_vars'],len(nsamples)])\n",
    "ST_estimates = np.zeros([problem['num_vars'],len(nsamples)])\n",
    "\n",
    "# Loop through all n values, create sample, evaluate model and estimate S1 & ST\n",
    "for i in range(len(nsamples)):\n",
    "    print('n= '+ str(nsamples[i]))\n",
    "    # Generate samples\n",
    "    sampleset = saltelli.sample(problem, nsamples[i],calc_second_order=False)\n",
    "    # Run model for all samples\n",
    "    output = [fish_game(*sampleset[j,:]) for j in range(len(sampleset))]\n",
    "    # Perform analysis\n",
    "    results = sobol.analyze(problem, np.asarray(output), calc_second_order=False,print_to_console=False)\n",
    "    # Store estimates\n",
    "    ST_estimates[:,i]=results['ST']\n",
    "    S1_estimates[:,i]=results['S1']\n",
    "\n",
    "np.save('ST_estimates.npy', ST_estimates)\n",
    "np.save('S1_estimates.npy', S1_estimates)\n",
    "\n",
    "S1_estimates = np.load('S1_estimates.npy')\n",
    "ST_estimates = np.load('ST_estimates.npy')\n",
    "\n",
    "# Generate figure showing evolution of indices\n",
    "fig =  plt.figure(figsize=(18,9))\n",
    "ax1 = fig.add_subplot(1,2,1)\n",
    "handles = []\n",
    "for j in range(problem['num_vars']):\n",
    "    handles += ax1.plot(nsamples, S1_estimates[j,:], linewidth=5)\n",
    "ax1.set_title('Evolution of S1 index estimates', fontsize=20)\n",
    "ax1.set_ylabel('S1', fontsize=18)\n",
    "ax1.set_xlabel('Number of samples (n)', fontsize=18)\n",
    "ax1.tick_params(axis='both', which='major', labelsize=14)\n",
    "ax2 = fig.add_subplot(1,2,2)\n",
    "for j in range(problem['num_vars']):\n",
    "    ax2.plot(nsamples, ST_estimates[j,:], linewidth=5)\n",
    "ax2.set_title('Evolution of ST index estimates', fontsize=20)\n",
    "ax2.set_ylabel('ST', fontsize=18)\n",
    "ax2.tick_params(axis='both', which='major', labelsize=14)\n",
    "ax2.set_xlabel('Number of samples (n)', fontsize=18)\n",
    "fig.legend(handles, problem['names'], loc = 'right', fontsize=11)\n",
    "plt.show()\n",
    "#plt.savefig('indexevolution.png')\n",
    "\n",
    "# Calculate parameter rankings\n",
    "S1_ranks = np.zeros_like(S1_estimates)\n",
    "ST_ranks = np.zeros_like(ST_estimates)\n",
    "for i in range(len(nsamples)):\n",
    "    orderS1 = np.argsort(S1_estimates[:,i])\n",
    "    orderST = np.argsort(ST_estimates[:,i])\n",
    "    S1_ranks[:,i] = orderS1.argsort()\n",
    "    ST_ranks[:,i] = orderST.argsort()\n",
    "    \n",
    "# Generate figure showing evolution of ranks\n",
    "fig =  plt.figure(figsize=(18,9))\n",
    "ax1 = fig.add_subplot(1,2,1)\n",
    "handles = []\n",
    "for j in range(problem['num_vars']):\n",
    "    handles += ax1.plot(nsamples, S1_ranks[j,:], linewidth=3)\n",
    "ax1.set_title('Parameter ranking based on S1', fontsize=20)\n",
    "ax1.set_ylabel('S1', fontsize=18)\n",
    "ax1.set_xlabel('Number of samples (n)', fontsize=18)\n",
    "ax1.set_yticklabels(np.arange(problem['num_vars']+1, 0, -1))\n",
    "ax1.tick_params(axis='both', which='major', labelsize=14)\n",
    "ax2 = fig.add_subplot(1,2,2)\n",
    "for j in range(problem['num_vars']):\n",
    "    ax2.plot(nsamples, ST_ranks[j,:], linewidth=3)\n",
    "ax2.set_title('Parameter ranking based on ST', fontsize=20)\n",
    "ax2.set_ylabel('ST', fontsize=18)\n",
    "ax2.set_yticklabels(np.arange(problem['num_vars']+1, 0, -1))\n",
    "ax2.tick_params(axis='both', which='major', labelsize=14)\n",
    "ax2.set_xlabel('Number of samples (n)', fontsize=18)\n",
    "fig.legend(handles, problem['names'], loc = 'right', fontsize=14)\n",
    "#plt.show()\n",
    "#plt.savefig('rankingevolution.png')"
   ]
  },
  {
   "cell_type": "markdown",
   "metadata": {
    "colab_type": "text",
    "id": "-1Lblvnvff-9"
   },
   "source": [
    "## Radial plot for SA"
   ]
  },
  {
   "cell_type": "code",
   "execution_count": null,
   "metadata": {
    "colab": {},
    "colab_type": "code",
    "id": "5Oa37UTOff-9"
   },
   "outputs": [],
   "source": [
    "import numpy as np\n",
    "import itertools\n",
    "import matplotlib.pyplot as plt\n",
    "import seaborn as sns\n",
    "import math\n",
    "from numpy import genfromtxt\n",
    "import matplotlib.patches as mpatches\n",
    "import matplotlib.pyplot as plt\n",
    "sns.set_style('whitegrid', {'axes_linewidth': 0, 'axes.edgecolor': 'white'})"
   ]
  },
  {
   "cell_type": "markdown",
   "metadata": {
    "colab_type": "text",
    "id": "lCM69eEq-Qh1"
   },
   "source": [
    "## Plot function"
   ]
  },
  {
   "cell_type": "code",
   "execution_count": null,
   "metadata": {
    "colab": {},
    "colab_type": "code",
    "id": "B6J2tyLAff-_"
   },
   "outputs": [],
   "source": [
    "def is_significant(value, confidence_interval, threshold=\"conf\"):\n",
    "    if threshold == \"conf\":\n",
    "        return value - abs(confidence_interval) > 0\n",
    "    else:\n",
    "        return value - abs(float(threshold)) > 0\n",
    " \n",
    "def grouped_radial(SAresults, parameters, radSc=2.0, scaling=1, widthSc=0.5, STthick=1, varNameMult=1.3, colors=None, groups=None, gpNameMult=1.5, threshold=\"conf\"):\n",
    "    # Derived from https://github.com/calvinwhealton/SensitivityAnalysisPlots\n",
    "    fig, ax = plt.subplots(1, 1)\n",
    "    color_map = {}\n",
    "     \n",
    "    # initialize parameters and colors\n",
    "    if groups is None:\n",
    "         \n",
    "        if colors is None:\n",
    "            colors = [\"k\"]\n",
    "         \n",
    "        for i, parameter in enumerate(parameters):\n",
    "            color_map[parameter] = colors[i % len(colors)]\n",
    "    else:        \n",
    "        if colors is None:\n",
    "            colors = sns.color_palette(\"deep\", max(3, len(groups)))\n",
    "         \n",
    "        for i, key in enumerate(groups.keys()):\n",
    "            #parameters.extend(groups[key])\n",
    "             \n",
    "            for parameter in groups[key]:\n",
    "                color_map[parameter] = colors[i % len(colors)]\n",
    "     \n",
    "    n = len(parameters)\n",
    "    angles = radSc*math.pi*np.arange(0, n)/n\n",
    "    x = radSc*np.cos(angles)\n",
    "    y = radSc*np.sin(angles)\n",
    "     \n",
    "    # plot second-order indices\n",
    "    for i, j in itertools.combinations(range(n), 2):\n",
    "        #key1 = parameters[i]\n",
    "        #key2 = parameters[j]\n",
    "         \n",
    "        if is_significant(SAresults[\"S2\"][i][j], SAresults[\"S2_conf\"][i][j], threshold):\n",
    "            angle = math.atan((y[j]-y[i])/(x[j]-x[i]))\n",
    "                 \n",
    "            if y[j]-y[i] < 0:\n",
    "                angle += math.pi\n",
    "                 \n",
    "            line_hw = scaling*(max(0, SAresults[\"S2\"][i][j])**widthSc)/2\n",
    "                 \n",
    "            coords = np.empty((4, 2))\n",
    "            coords[0, 0] = x[i] - line_hw*math.sin(angle)\n",
    "            coords[1, 0] = x[i] + line_hw*math.sin(angle)\n",
    "            coords[2, 0] = x[j] + line_hw*math.sin(angle)\n",
    "            coords[3, 0] = x[j] - line_hw*math.sin(angle)\n",
    "            coords[0, 1] = y[i] + line_hw*math.cos(angle)\n",
    "            coords[1, 1] = y[i] - line_hw*math.cos(angle)\n",
    "            coords[2, 1] = y[j] - line_hw*math.cos(angle)\n",
    "            coords[3, 1] = y[j] + line_hw*math.cos(angle)\n",
    " \n",
    "            ax.add_artist(plt.Polygon(coords, color=\"0.75\"))\n",
    "         \n",
    "    # plot total order indices\n",
    "    for i, key in enumerate(parameters):\n",
    "        if is_significant(SAresults[\"ST\"][i], SAresults[\"ST_conf\"][i], threshold):\n",
    "            ax.add_artist(plt.Circle((x[i], y[i]), scaling*(SAresults[\"ST\"][i]**widthSc)/2, color='w'))\n",
    "            ax.add_artist(plt.Circle((x[i], y[i]), scaling*(SAresults[\"ST\"][i]**widthSc)/2, lw=STthick, color='0.4', fill=False))\n",
    "     \n",
    "    # plot first-order indices\n",
    "    for i, key in enumerate(parameters):\n",
    "        if is_significant(SAresults[\"S1\"][i], SAresults[\"S1_conf\"][i], threshold):\n",
    "            ax.add_artist(plt.Circle((x[i], y[i]), scaling*(SAresults[\"S1\"][i]**widthSc)/2, color='0.4'))\n",
    "            \n",
    "    # add labels\n",
    "    for i, key in enumerate(parameters):                \n",
    "        ax.text(varNameMult*x[i], varNameMult*y[i], key, ha='center', va='center',\n",
    "                rotation=angles[i]*360/(2*math.pi) - 90,\n",
    "                color=color_map[key])\n",
    "         \n",
    "    if groups is not None:\n",
    "        for i, group in enumerate(groups.keys()):\n",
    "            print(group)\n",
    "            group_angle = np.mean([angles[j] for j in range(n) if parameters[j] in groups[group]])\n",
    "             \n",
    "            ax.text(gpNameMult*radSc*math.cos(group_angle), gpNameMult*radSc*math.sin(group_angle), group, ha='center', va='center',\n",
    "                rotation=group_angle*360/(2*math.pi) - 90,\n",
    "                color=colors[i % len(colors)])\n",
    "             \n",
    "    ax.set_facecolor('white')\n",
    "    ax.set_xticks([])\n",
    "    ax.set_yticks([])\n",
    "#     ax.\n",
    "    plt.axis('equal')\n",
    "    plt.axis([-2*radSc, 2*radSc, -2*radSc, 2*radSc])\n",
    "    #plt.show()\n",
    " \n",
    "     \n",
    "    return fig"
   ]
  },
  {
   "cell_type": "markdown",
   "metadata": {
    "colab_type": "text",
    "id": "mkmi-0-vff_C"
   },
   "source": [
    "## Range of soil parameters"
   ]
  },
  {
   "cell_type": "code",
   "execution_count": null,
   "metadata": {
    "colab": {},
    "colab_type": "code",
    "id": "EbKdSoihff_C"
   },
   "outputs": [],
   "source": [
    "problem = {\n",
    "    'num_vars':6,\n",
    "    'names':['SOC', 'Sand', 'Clay', 'pH', 'CN', 'BD'],\n",
    "    'bounds':[[2.58, 6.20],\n",
    "              [0.01, 0.30],\n",
    "              [0.01, 0.30],\n",
    "              [4.6, 6.9],\n",
    "              [10.9, 12.4],\n",
    "              [900, 1350]]\n",
    "}"
   ]
  },
  {
   "cell_type": "code",
   "execution_count": null,
   "metadata": {
    "colab": {},
    "colab_type": "code",
    "id": "OOz0S62Off_F"
   },
   "outputs": [],
   "source": [
    "#names for csv files\n",
    "list_of_csv=['soybean-000-2015.csv', 'sugar-beet-2011.csv', 'sugar-beet-2017.csv',\n",
    "'spring-barley-2012.csv', 'sugar-beet-2014.csv']\n",
    "list_of_names=['soybean-000-2015', 'sugar-beat-2011', 'sugar-beat-2017',\n",
    "'spring-barley-2012', 'sugar-beat-2014']\n",
    "list_of_totals=['total_SI_'+x for x in list_of_names]\n",
    "list_of_first=['fisrt_SI_'+x for x in list_of_names]\n",
    "list_of_second=['second_SI_'+x for x in list_of_names]\n",
    "list_of_SI=['SI_'+x for x in list_of_names]"
   ]
  },
  {
   "cell_type": "code",
   "execution_count": null,
   "metadata": {
    "colab": {
     "base_uri": "https://localhost:8080/",
     "height": 111
    },
    "colab_type": "code",
    "id": "gz3hUbeuff_I",
    "outputId": "5917f0ad-5554-4761-8bdc-80d47d9d59b8"
   },
   "outputs": [
    {
     "name": "stdout",
     "output_type": "stream",
     "text": [
      "soybean-000-2015.csv\n",
      "sugar-beet-2011.csv\n",
      "sugar-beet-2017.csv\n",
      "spring-barley-2012.csv\n",
      "sugar-beet-2014.csv\n"
     ]
    }
   ],
   "source": [
    "for j, i in enumerate(list_of_csv):\n",
    "        all_data_csv = genfromtxt('./'+str(i), delimiter=',')\n",
    "        output = all_data_csv[:,2]\n",
    "        print(i)\n",
    "        list_of_SI[j] = sobol.analyze(problem, output, calc_second_order=True, conf_level=0.95, print_to_console=False)"
   ]
  },
  {
   "cell_type": "code",
   "execution_count": null,
   "metadata": {
    "colab": {
     "base_uri": "https://localhost:8080/",
     "height": 327
    },
    "colab_type": "code",
    "id": "-d6zTAAxff_K",
    "outputId": "f835a88e-d5a3-46ea-bf94-fe587b2a6981"
   },
   "outputs": [
    {
     "name": "stdout",
     "output_type": "stream",
     "text": [
      "Soil physics\n",
      "Soil chemistry\n"
     ]
    },
    {
     "data": {
      "image/png": "[encoded data removed]",
      "text/plain": [
       "<Figure size 432x288 with 1 Axes>"
      ]
     },
     "metadata": {
      "tags": []
     },
     "output_type": "display_data"
    }
   ],
   "source": [
    "groups={\"Soil physics\" : [\"Sand\", \"Clay\", \"BD\"],\n",
    "        \"Soil chemistry\" : [\"pH\", \"SOC\", \"CN\"]}\n",
    " \n",
    "fig = grouped_radial(list_of_SI[4], ['BD', 'Sand', 'Clay', 'pH', 'CN', 'SOC'], groups=groups, threshold=0.001)\n",
    "red_patch = mpatches.Patch(color='red', label='The red data')\n",
    "plt.title(list_of_names[4], loc='left')\n",
    "\n",
    "plt.show()"
   ]
  },
  {
   "cell_type": "markdown",
   "metadata": {
    "colab_type": "text",
    "id": "uz8LoKAWff_Q"
   },
   "source": [
    "## Homework"
   ]
  },
  {
   "cell_type": "markdown",
   "metadata": {
    "colab_type": "text",
    "id": "NRf5Tc2eff_R"
   },
   "source": [
    "__[Tasks](https://skoltech-my.sharepoint.com/:w:/g/personal/mikhail_gasanov_skoltech_ru/EeTPQxbrzVdPqnSENKYyoTUBay1RDYgMMW3GO3qFT2ge5g?e=4hk45V)__\n",
    "\n",
    "Usefull\n",
    "\n",
    "__SA and UQ__\n",
    "\n",
    "\n",
    "1) [Rhodium project](https://github.com/Project-Platypus/Rhodium.git)\n",
    "\n",
    "\n",
    "2) [SALib](https://github.com/SALib/SALib)\n",
    "\n",
    "__Model__\n",
    "\n",
    "3) [PCSE](https://pcse.readthedocs.io/en/stable/index.html)\n",
    "\n",
    "4) How to install PCSE at local machine\n",
    "    `conda env create -f` [py3_pcse.yml](https://github.com/mishagrol/Seminar_Sobol/blob/master/py3_pcse.yml)\n",
    "\n",
    "Аny questions  -  \n",
    "\n",
    "Telegram - `@misha_grol`"
   ]
  },
  {
   "cell_type": "markdown",
   "metadata": {
    "colab_type": "text",
    "id": "3QNf2VAmVrCB"
   },
   "source": [
    "Part 1 – Crop Yield Prediction (PCSE, MONICA)  \n",
    "\n",
    "You can use the seminars’ colab:  \n",
    "\n",
    "“https://colab.research.google.com/drive/1j4AHD8KkTRThPuNsQzQFWYSJtptQ6bUA”  \n",
    "\n",
    "1) Assess the yield of one of the crops for the Moscow region over several years (potatoes, sugar beets for 2-3 years)   \n",
    "\n",
    "    Crop  - (https://github.com/mishagrol/Seminar_Sobol/tree/master/data/crop) \n",
    "\n",
    "    Soil - (https://github.com/mishagrol/Seminar_Sobol/tree/master/data/soil) \n",
    "\n",
    "    Weather  - NASAdataprovider in PCSE (https://pcse.readthedocs.io/en/stable/code.html?highlight=NASA#pcse.db.NASAPowerWeatherDataProvider)   \n",
    "\n",
    "    Agromanagement - (https://github.com/mishagrol/Seminar_Sobol/blob/master/data/agro/sugarbeet_calendar_Moscow_short.agro) \n",
    "\n",
    "Part 2 – Sensitivity Analysis (SALib)  \n",
    "\n",
    "1) Perform sensitivity analysis of one of the model blocks (crop, soil, agromanagement *) with SALib. You can choose one of the methods that you consider necessary (Sobol, FAST, ...). \n",
    "\n",
    "    Generate samples – In report provide the size of the resulting matrix and the sample size (N) \n",
    "\n",
    "    Conduct parameter sensitivity analysis  - In report provide S1 and ST indices.  \n",
    "\n",
    "2) Generate plots (Hist, Radial convergence plot, etc.)  \n",
    "\n",
    "*3) Estimate the required number of simulations to obtain reliable values of the sensitivity indices. Try to estimate the sample size at the confidence interval of the sensitivity indices. \n",
    "\n",
    "* Please note that working with discrete data can cause certain difficulties. "
   ]
  },
  {
   "cell_type": "markdown",
   "metadata": {
    "colab_type": "text",
    "id": "glY-k3rworEl"
   },
   "source": [
    "#Agro Hack https://agro-code.ru/"
   ]
  },
  {
   "cell_type": "markdown",
   "metadata": {
    "colab_type": "text",
    "id": "YlZ0GfwNff_U"
   },
   "source": [
    "### bonus"
   ]
  },
  {
   "cell_type": "markdown",
   "metadata": {
    "colab_type": "text",
    "id": "0NsBD3_lff_V"
   },
   "source": [
    "__Morris method__"
   ]
  },
  {
   "cell_type": "markdown",
   "metadata": {
    "colab_type": "text",
    "id": "Y7dLOiBiff_V"
   },
   "source": [
    "\n",
    "Generate a sample using the Method of Morris\n",
    "\n",
    "Three variants of Morris' sampling for elementary effects is supported:\n",
    "\n",
    "- Vanilla Morris\n",
    "- Optimised trajectories when ``optimal_trajectories=True`` (using\n",
    "    Campolongo's enhancements from 2007 and optionally Ruano's enhancement\n",
    "    from 2012; ``local_optimization=True``)\n",
    "- Groups with optimised trajectories when ``optimal_trajectories=True`` and\n",
    "    the problem definition specifies groups (note that ``local_optimization``\n",
    "    must be ``False``)\n",
    "\n",
    "At present, optimised trajectories is implemented using either a brute-force\n",
    "approach, which can be very slow, especially if you require more than four\n",
    "trajectories, or a local method based which is much faster. Both methods now\n",
    "implement working with groups of factors.\n",
    "\n",
    "Note that the number of factors makes little difference,\n",
    "but the ratio between number of optimal trajectories and the sample size\n",
    "results in an exponentially increasing number of scores that must be\n",
    "computed to find the optimal combination of trajectories.  We suggest going\n",
    "no higher than 4 from a pool of 100 samples with the brute force approach.\n",
    "With local_optimization = True (which is default),\n",
    "it is possible to go higher than the previously suggested 4 from 100.\n",
    "\n"
   ]
  },
  {
   "cell_type": "code",
   "execution_count": null,
   "metadata": {
    "colab": {},
    "colab_type": "code",
    "id": "ROldqQcHff_W"
   },
   "outputs": [],
   "source": [
    "import sys\n",
    "\n",
    "from SALib.analyze import morris\n",
    "from SALib.sample.morris import sample\n",
    "from SALib.test_functions import Sobol_G\n",
    "from SALib.util import read_param_file\n",
    "from SALib.plotting.morris import horizontal_bar_plot, covariance_plot, \\\n",
    "    sample_histograms\n",
    "import matplotlib.pyplot as plt\n",
    "\n",
    "#sys.path.append('../..')\n",
    "\n",
    "# Read the parameter range file and generate samples\n",
    "#problem = read_param_file('/Users/mikhailgasanov/Documents/GIT/SALib/src/SALib/test_functions/params/Sobol_G.txt')\n",
    "# or define manually without a parameter file:\n",
    "problem = {\n",
    " 'num_vars': 8,\n",
    " 'names': ['x1', 'x2', 'x3', 'x4', 'x5', 'x6', 'x7', 'x8'],\n",
    " 'groups': None,\n",
    " 'bounds': [[0.0, 1.0],\n",
    "            [0.0, 1.0],\n",
    "            [0.0, 1.0],\n",
    "            [0.0, 1.0],\n",
    "            [0.0, 1.0],\n",
    "            [0.0, 1.0],\n",
    "            [0.0, 1.0],\n",
    "            [0.0, 1.0]]\n",
    "}\n",
    "# Files with a 4th column for \"group name\" will be detected automatically, e.g.\n",
    "# param_file = '../../src/SALib/test_functions/params/Ishigami_groups.txt'\n",
    "\n",
    "# Generate samples\n",
    "param_values = sample(problem, N=1000, num_levels=4,\n",
    "                      optimal_trajectories=None)\n",
    "\n",
    "# To use optimized trajectories (brute force method),\n",
    "# give an integer value for optimal_trajectories\n",
    "\n",
    "# Run the \"model\" -- this will happen offline for external models\n",
    "Y = Sobol_G.evaluate(param_values)\n",
    "\n",
    "# Perform the sensitivity analysis using the model output\n",
    "# Specify which column of the output file to analyze (zero-indexed)\n",
    "Si = morris.analyze(problem, param_values, Y, conf_level=0.95,\n",
    "                    print_to_console=True,\n",
    "                    num_levels=4, num_resamples=100)\n",
    "# Returns a dictionary with keys 'mu', 'mu_star', 'sigma', and 'mu_star_conf'\n",
    "# e.g. Si['mu_star'] contains the mu* value for each parameter, in the\n",
    "# same order as the parameter file\n",
    "\n",
    "fig, (ax1, ax2) = plt.subplots(1, 2)\n",
    "horizontal_bar_plot(ax1, Si, {}, sortby='mu_star', unit=r\"tCO$_2$/year\")\n",
    "covariance_plot(ax2, Si, {}, unit=r\"tCO$_2$/year\")\n",
    "\n",
    "fig2 = plt.figure()\n",
    "sample_histograms(fig2, param_values, problem, {'color': 'y'})\n",
    "plt.show()"
   ]
  },
  {
   "cell_type": "code",
   "execution_count": null,
   "metadata": {
    "colab": {},
    "colab_type": "code",
    "id": "8-FizFxrff_Y"
   },
   "outputs": [],
   "source": []
  }
 ],
 "metadata": {
  "colab": {
   "collapsed_sections": [
    "KWTtMUZsff84"
   ],
   "include_colab_link": true,
   "name": "Seminar_Soil_Sensitivity.ipynb",
   "provenance": []
  },
  "kernelspec": {
   "display_name": "Python 3",
   "language": "python",
   "name": "python3"
  },
  "language_info": {
   "codemirror_mode": {
    "name": "ipython",
    "version": 3
   },
   "file_extension": ".py",
   "mimetype": "text/x-python",
   "name": "python",
   "nbconvert_exporter": "python",
   "pygments_lexer": "ipython3",
   "version": "3.6.11"
  }
 },
 "nbformat": 4,
 "nbformat_minor": 1
}
